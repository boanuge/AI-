{
 "cells": [
  {
   "cell_type": "code",
   "execution_count": null,
   "metadata": {},
   "outputs": [],
   "source": [
    "# ImageDataGenerator arguments:\n",
    "'''\n",
    "rescale: 원본 영상은 0-255의 RGB 계수로 구성되는데, 이 같은 입력값은 모델을 효과적으로 학습시키기에 너무 높습니다.\n",
    "         (통상적인 learning rate를 사용할 경우). 그래서 이를 1/255로 스케일링하여 0-1 범위로 변환시켜줍니다.\n",
    "rotation_range: 이미지 회전 범위 (degrees)\n",
    "width_shift, height_shift: 그림을 수평 또는 수직으로 랜덤하게 평행 이동 (원본 가로, 세로 길이에 대한 비율 값)\n",
    "horizontal_flip: True로 설정할 경우, 50% 확률로 이미지를 수평으로 플립 (뒤집어도 자연스러울 때 사용)\n",
    "shear_range: 임의 전단 변환 (shearing transformation) 범위\n",
    "zoom_range: 임의 확대/축소 범위\n",
    "fill_mode: 이미지를 회전, 이동하거나 축소할 때 생기는 공간을 채우는 방식, 예) 'nearest'\n",
    "'''\n",
    "\n",
    "# 약 2000장 이미지들에서 6000장의 변형된 이미지들을 생성하는 경우 약 30분 걸림 (폴더 미리 생성)"
   ]
  },
  {
   "cell_type": "code",
   "execution_count": 1,
   "metadata": {},
   "outputs": [
    {
     "name": "stdout",
     "output_type": "stream",
     "text": [
      " @ CDT(2023-04-25T11:44:10.315616)\n",
      " @ CDT(2023-04-25T12:10:08.220249)\n"
     ]
    }
   ],
   "source": [
    "# Print the current date and time in the format:\n",
    "# \"YYYY-MM-DD HH:MM:SS.microseconds\"\n",
    "import datetime\n",
    "def print_current_datetime(text=\"\"):\n",
    "    datetime_string = datetime.datetime.now().strftime(\"%Y-%m-%dT%H:%M:%S.%f\")\n",
    "    print(\"{} @ CDT({})\".format(text,datetime_string))\n",
    "\n",
    "print_current_datetime()\n",
    "\n",
    "from tensorflow.keras.preprocessing.image import ImageDataGenerator, img_to_array, load_img\n",
    "import os\n",
    "\n",
    "datagen = ImageDataGenerator(\n",
    "            rotation_range=90,\n",
    "            width_shift_range=0.0,\n",
    "            height_shift_range=0.0,\n",
    "            shear_range=0.0,\n",
    "            zoom_range=0.0,\n",
    "            horizontal_flip=False,\n",
    "            fill_mode='nearest')\n",
    "\n",
    "input_dir = 'train/class1'\n",
    "output_dir = 'output'\n",
    "files = os.listdir(input_dir)\n",
    "\n",
    "for file in files:\n",
    "    img = load_img(os.path.join(input_dir, file))\n",
    "    x = img_to_array(img)\n",
    "    x = x.reshape((1,) + x.shape)\n",
    "    i = 0\n",
    "    for batch in datagen.flow(x,batch_size=1,save_to_dir=output_dir,save_prefix='aug',save_format='jpg'):\n",
    "        i += 1\n",
    "        if i > 2: # Generate 2 augmented images per input image\n",
    "            break\n",
    "\n",
    "print_current_datetime()"
   ]
  }
 ],
 "metadata": {
  "kernelspec": {
   "display_name": "base",
   "language": "python",
   "name": "python3"
  },
  "language_info": {
   "codemirror_mode": {
    "name": "ipython",
    "version": 3
   },
   "file_extension": ".py",
   "mimetype": "text/x-python",
   "name": "python",
   "nbconvert_exporter": "python",
   "pygments_lexer": "ipython3",
   "version": "3.9.12"
  },
  "orig_nbformat": 4
 },
 "nbformat": 4,
 "nbformat_minor": 2
}
