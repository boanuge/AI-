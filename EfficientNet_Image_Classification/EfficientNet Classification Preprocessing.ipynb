{
 "cells": [
  {
   "cell_type": "code",
   "execution_count": null,
   "id": "8c92240e",
   "metadata": {},
   "outputs": [],
   "source": [
    "# 노트: 절대 디렉토리 또는 파일명에 공백이 있을 경우 오류가 발생할 수 있음\n",
    "# Convert all images with dimensions (624*832*3) and store in ‘data_resized’ folder.\n",
    "# Make the extension \"jpg\", some files have \"jpeg\" extension.\n",
    "# Create the directory ‘data_resized’ manually.\n",
    "import os\n",
    "import cv2\n",
    "\n",
    "counter = 0\n",
    "\n",
    "def prep_small_images():\n",
    "    global counter\n",
    "    myimages = os.path.join(os.getcwd(), \"data_original\")\n",
    "    print(myimages)\n",
    "    for img in os.listdir(myimages):\n",
    "        counter+=1\n",
    "        image_path = cv2.imread(os.path.join(myimages,img))\n",
    "        image_path = cv2.resize(image_path,(624,832))\n",
    "        print(\"#\",counter,image_path.shape)\n",
    "        cv2.imwrite(os.path.join(os.getcwd(), \"data_resized\", img), image_path)\n",
    "\n",
    "prep_small_images()"
   ]
  }
 ],
 "metadata": {
  "kernelspec": {
   "display_name": "Python 3 (ipykernel)",
   "language": "python",
   "name": "python3"
  },
  "language_info": {
   "codemirror_mode": {
    "name": "ipython",
    "version": 3
   },
   "file_extension": ".py",
   "mimetype": "text/x-python",
   "name": "python",
   "nbconvert_exporter": "python",
   "pygments_lexer": "ipython3",
   "version": "3.9.7"
  }
 },
 "nbformat": 4,
 "nbformat_minor": 5
}
