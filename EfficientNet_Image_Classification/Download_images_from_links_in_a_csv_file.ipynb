{
 "cells": [
  {
   "cell_type": "code",
   "execution_count": null,
   "id": "22e31471",
   "metadata": {},
   "outputs": [],
   "source": [
    "# Print the current date and time in the format:\n",
    "# \"YYYY-MM-DD HH:MM:SS.microseconds\"\n",
    "import datetime\n",
    "def print_current_datetime(text=\"\"):\n",
    "    datetime_string = datetime.datetime.now().strftime(\"%Y-%m-%dT%H:%M:%S.%f\")\n",
    "    print(\"{} @ CDT({})\".format(text,datetime_string))\n",
   ]
  },
  {
   "cell_type": "code",
   "execution_count": 1,
   "id": "d7570ef8",
   "metadata": {
    "scrolled": true
   },
   "outputs": [
    {
     "name": "stderr",
     "output_type": "stream",
     "text": [
      "C:\\Users\\AppData\\Roaming\\Python\\Python39\\site-packages\\urllib3\\connectionpool.py:1045: InsecureRequestWarning: Unverified HTTPS request is being made to host 'seoul-pm.eseoul.go.kr'. Adding certificate verification is strongly advised. See: https://urllib3.readthedocs.io/en/1.26.x/advanced-usage.html#ssl-warnings\n",
      "  warnings.warn(\n",
      "C:\\Users\\AppData\\Roaming\\Python\\Python39\\site-packages\\urllib3\\connectionpool.py:1045: InsecureRequestWarning: Unverified HTTPS request is being made to host 'seoul-pm.eseoul.go.kr'. Adding certificate verification is strongly advised. See: https://urllib3.readthedocs.io/en/1.26.x/advanced-usage.html#ssl-warnings\n",
      "  warnings.warn(\n"
     ]
    }
   ],
   "source": [
    "# image links @ 2023-04-01 (test).csv\n",
    "'''\n",
    "견인사진 링크\n",
    "https://seoul-pm.eseoul.go.kr/image/2023/04/report/RPT_1681460441211_1.jpeg\n",
    "https://seoul-pm.eseoul.go.kr/image/2023/04/report/RPT_1681451680012_1.jpeg\n",
    "'''\n",
    "\n",
    "import csv\n",
    "import requests\n",
    "import os\n",
    "\n",
    "with open('image links @ 2023-04-01 (test).csv', newline='', encoding='utf-8') as csvfile:\n",
    "    reader = csv.DictReader(csvfile)\n",
    "    for row in reader:\n",
    "        url = row['견인사진 링크']\n",
    "        response = requests.get(url, stream=True, verify=False)\n",
    "        filename = os.path.basename(url)\n",
    "        with open(filename, 'wb') as f:\n",
    "            for chunk in response.iter_content(chunk_size=1000000): # 메모리 버퍼 사이즈 : 1MB\n",
    "                if chunk:\n",
    "                    f.write(chunk)\n",
    "        print_current_datetime()"
   ]
  },
  {
   "cell_type": "code",
   "execution_count": 2,
   "id": "21a8e8d2",
   "metadata": {},
   "outputs": [
    {
     "name": "stdout",
     "output_type": "stream",
     "text": [
      "c:\\AI\\ai-service-image-parking-download\\data_original\n",
      "# 1 (832, 624, 3)\n",
      "# 2 (832, 624, 3)\n"
     ]
    }
   ],
   "source": [
    "# Convert all images with dimensions (624*832*3) and store in ‘data_resized’ folder.\n",
    "# Need to create the directory ‘data_resized’ before executing the code.\n",
    "# Make the extension \"jpg\", some files have \"jpeg\" extension.\n",
    "\n",
    "import os\n",
    "import cv2\n",
    "\n",
    "counter = 0\n",
    "\n",
    "def prep_small_images():\n",
    "    global counter\n",
    "    myimages = os.path.join(os.getcwd(), \"data_original\")\n",
    "    print(myimages)\n",
    "    for img in os.listdir(myimages):\n",
    "        counter+=1\n",
    "        image_path = cv2.imread(os.path.join(myimages,img))\n",
    "        image_path = cv2.resize(image_path,(624,832))\n",
    "        print(\"#\",counter,image_path.shape)\n",
    "        cv2.imwrite(os.path.join(os.getcwd(), \"data_resized\", img), image_path)\n",
    "\n",
    "prep_small_images()"
   ]
  }
 ],
 "metadata": {
  "kernelspec": {
   "display_name": "Python 3 (ipykernel)",
   "language": "python",
   "name": "python3"
  },
  "language_info": {
   "codemirror_mode": {
    "name": "ipython",
    "version": 3
   },
   "file_extension": ".py",
   "mimetype": "text/x-python",
   "name": "python",
   "nbconvert_exporter": "python",
   "pygments_lexer": "ipython3",
   "version": "3.9.12"
  }
 },
 "nbformat": 4,
 "nbformat_minor": 5
}
