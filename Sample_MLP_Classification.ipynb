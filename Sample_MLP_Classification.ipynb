{
 "cells": [
  {
   "cell_type": "code",
   "execution_count": null,
   "id": "ac4b97c2",
   "metadata": {},
   "outputs": [],
   "source": [
    "import pandas as pd\n",
    "import numpy as np\n",
    "\n",
    "# Read a CSV file into a pandas dataframe\n",
    "dataframe = pd.read_csv(\"CLS_train_data.csv\")\n",
    "print(dataframe)\n",
    "\n",
    "# Split the dataframe into features array and label array\n",
    "train_x = dataframe.drop(\"label\", axis=1).values\n",
    "train_y = dataframe[\"label\"].values\n",
    "\n",
    "# Save the arrays to .npy(numpy) files\n",
    "np.save(\"CLS_train_x.npy\", train_x)\n",
    "np.save(\"CLS_train_y.npy\", train_y)\n",
    "\n",
    "# Read a CSV file into a pandas dataframe\n",
    "dataframe = pd.read_csv(\"CLS_test_data.csv\")\n",
    "print(dataframe)\n",
    "\n",
    "# Split the dataframe into feature and label arrays\n",
    "test_x = dataframe.drop(\"label\", axis=1).values\n",
    "test_y = dataframe[\"label\"].values\n",
    "\n",
    "# Save the arrays to .npy files\n",
    "np.save(\"CLS_test_x.npy\", test_x)\n",
    "np.save(\"CLS_test_y.npy\", test_y)"
   ]
  },
  {
   "cell_type": "code",
   "execution_count": 2,
   "id": "bdeff62b",
   "metadata": {},
   "outputs": [
    {
     "name": "stdout",
     "output_type": "stream",
     "text": [
      "[[1500    3    1]\n",
      " [2400    4    2]\n",
      " [1800    3    3]\n",
      " [2200    4    2]\n",
      " [1700    3    1]]\n",
      "[0 1 0 2 0]\n",
      "[[1100    2    1]\n",
      " [2200    3    1]]\n",
      "[0 2]\n",
      "[[1. 0. 0.]\n",
      " [0. 1. 0.]\n",
      " [1. 0. 0.]\n",
      " [0. 0. 1.]\n",
      " [1. 0. 0.]]\n",
      "[[1. 0. 0.]\n",
      " [0. 0. 1.]]\n"
     ]
    }
   ],
   "source": [
    "from keras.models import Sequential\n",
    "from keras.layers import Dense\n",
    "from keras.utils import to_categorical\n",
    "import numpy as np\n",
    "\n",
    "# Load the training data\n",
    "train_x = np.load(\"CLS_train_x.npy\")\n",
    "train_y = np.load(\"CLS_train_y.npy\")\n",
    "\n",
    "# Load the test data\n",
    "test_x = np.load(\"CLS_test_x.npy\")\n",
    "test_y = np.load(\"CLS_test_y.npy\")\n",
    "\n",
    "print(train_x)\n",
    "print(train_y)\n",
    "\n",
    "print(test_x)\n",
    "print(test_y)\n",
    "\n",
    "# One-hot encoding for the labels\n",
    "train_y_encoded = to_categorical(train_y)\n",
    "test_y_encoded = to_categorical(test_y)\n",
    "\n",
    "print(train_y_encoded)\n",
    "print(test_y_encoded)"
   ]
  },
  {
   "cell_type": "code",
   "execution_count": 3,
   "id": "6fd6f9d8",
   "metadata": {},
   "outputs": [],
   "source": [
    "# Create the model\n",
    "model = Sequential()\n",
    "\n",
    "model.add(Dense(32, activation='relu', input_shape=(train_x.shape[1],)))\n",
    "model.add(Dense(train_y_encoded.shape[1], activation='softmax'))\n",
    "\n",
    "model.compile(loss='categorical_crossentropy', optimizer='adam', metrics=['accuracy'])"
   ]
  },
  {
   "cell_type": "code",
   "execution_count": 4,
   "id": "58627bbc",
   "metadata": {},
   "outputs": [
    {
     "name": "stdout",
     "output_type": "stream",
     "text": [
      "Epoch 1/10\n",
      "1/1 [==============================] - 0s 326ms/step - loss: 341.4415 - accuracy: 0.2000\n",
      "Epoch 2/10\n",
      "1/1 [==============================] - 0s 8ms/step - loss: 327.2652 - accuracy: 0.2000\n",
      "Epoch 3/10\n",
      "1/1 [==============================] - 0s 6ms/step - loss: 313.1007 - accuracy: 0.2000\n",
      "Epoch 4/10\n",
      "1/1 [==============================] - 0s 5ms/step - loss: 298.9483 - accuracy: 0.2000\n",
      "Epoch 5/10\n",
      "1/1 [==============================] - 0s 4ms/step - loss: 284.8083 - accuracy: 0.2000\n",
      "Epoch 6/10\n",
      "1/1 [==============================] - 0s 4ms/step - loss: 270.6808 - accuracy: 0.2000\n",
      "Epoch 7/10\n",
      "1/1 [==============================] - 0s 3ms/step - loss: 256.5657 - accuracy: 0.2000\n",
      "Epoch 8/10\n",
      "1/1 [==============================] - 0s 11ms/step - loss: 242.4631 - accuracy: 0.2000\n",
      "Epoch 9/10\n",
      "1/1 [==============================] - 0s 5ms/step - loss: 228.3730 - accuracy: 0.2000\n",
      "Epoch 10/10\n",
      "1/1 [==============================] - 0s 5ms/step - loss: 214.2955 - accuracy: 0.2000\n"
     ]
    }
   ],
   "source": [
    "# Train the model\n",
    "history = model.fit(train_x, train_y_encoded, epochs=10, batch_size=32, verbose=1)"
   ]
  },
  {
   "cell_type": "code",
   "execution_count": 5,
   "id": "37a64e31",
   "metadata": {},
   "outputs": [
    {
     "name": "stdout",
     "output_type": "stream",
     "text": [
      "dict_keys(['loss', 'accuracy'])\n"
     ]
    },
    {
     "data": {
      "text/plain": [
       "<matplotlib.legend.Legend at 0x1a710e2cbe0>"
      ]
     },
     "execution_count": 5,
     "metadata": {},
     "output_type": "execute_result"
    },
    {
     "data": {
      "image/png": "[encoded data removed]",
      "text/plain": [
       "<Figure size 432x288 with 1 Axes>"
      ]
     },
     "metadata": {
      "needs_background": "light"
     },
     "output_type": "display_data"
    }
   ],
   "source": [
    "import matplotlib.pyplot as plt\n",
    "\n",
    "print(history.history.keys())\n",
    "loss = history.history['loss']\n",
    "epochs = range(1, len(loss) + 1)\n",
    "\n",
    "# bo = 파란색 점\n",
    "plt.plot(epochs, loss, 'bo', label='Training loss') # plot x and y using blue circle markers\n",
    "plt.title('Training and validation loss')\n",
    "plt.xlabel('Epochs')\n",
    "plt.ylabel('Loss')\n",
    "plt.legend()"
   ]
  },
  {
   "cell_type": "code",
   "execution_count": 6,
   "id": "a8dcb2e2",
   "metadata": {},
   "outputs": [
    {
     "name": "stdout",
     "output_type": "stream",
     "text": [
      "1/1 [==============================] - 0s 69ms/step\n",
      "[[0. 1. 0.]\n",
      " [0. 1. 0.]]\n",
      "[1 1]\n"
     ]
    }
   ],
   "source": [
    "# Make predictions on the test data\n",
    "predictions = model.predict(test_x)\n",
    "\n",
    "print(predictions)\n",
    "\n",
    "# Get the class with the highest probability\n",
    "results = np.argmax(predictions, axis=1)\n",
    "\n",
    "print(results)"
   ]
  },
  {
   "cell_type": "code",
   "execution_count": 12,
   "id": "c8129476",
   "metadata": {},
   "outputs": [
    {
     "name": "stdout",
     "output_type": "stream",
     "text": [
      "1/1 [==============================] - 0s 17ms/step\n",
      "[[0. 1. 0.]\n",
      " [0. 1. 0.]]\n",
      "[1 1]\n",
      "[0 2]\n",
      "              precision    recall  f1-score   support\n",
      "\n",
      "           0       0.00      0.00      0.00       1.0\n",
      "           1       0.00      0.00      0.00       0.0\n",
      "           2       0.00      0.00      0.00       1.0\n",
      "\n",
      "    accuracy                           0.00       2.0\n",
      "   macro avg       0.00      0.00      0.00       2.0\n",
      "weighted avg       0.00      0.00      0.00       2.0\n",
      "\n",
      "[1 1]\n",
      "[0 2]\n",
      "Accuracy: 0.0\n",
      "Precision: [0. 0. 0.]\n",
      "Recall: [0. 0. 0.]\n",
      "F1 Score: [0. 0. 0.]\n"
     ]
    },
    {
     "name": "stderr",
     "output_type": "stream",
     "text": [
      "C:\\ProgramData\\Anaconda3\\lib\\site-packages\\sklearn\\metrics\\_classification.py:1318: UndefinedMetricWarning: Precision and F-score are ill-defined and being set to 0.0 in labels with no predicted samples. Use `zero_division` parameter to control this behavior.\n",
      "  _warn_prf(average, modifier, msg_start, len(result))\n",
      "C:\\ProgramData\\Anaconda3\\lib\\site-packages\\sklearn\\metrics\\_classification.py:1318: UndefinedMetricWarning: Recall and F-score are ill-defined and being set to 0.0 in labels with no true samples. Use `zero_division` parameter to control this behavior.\n",
      "  _warn_prf(average, modifier, msg_start, len(result))\n",
      "C:\\ProgramData\\Anaconda3\\lib\\site-packages\\sklearn\\metrics\\_classification.py:1318: UndefinedMetricWarning: Precision and F-score are ill-defined and being set to 0.0 in labels with no predicted samples. Use `zero_division` parameter to control this behavior.\n",
      "  _warn_prf(average, modifier, msg_start, len(result))\n",
      "C:\\ProgramData\\Anaconda3\\lib\\site-packages\\sklearn\\metrics\\_classification.py:1318: UndefinedMetricWarning: Recall and F-score are ill-defined and being set to 0.0 in labels with no true samples. Use `zero_division` parameter to control this behavior.\n",
      "  _warn_prf(average, modifier, msg_start, len(result))\n",
      "C:\\ProgramData\\Anaconda3\\lib\\site-packages\\sklearn\\metrics\\_classification.py:1318: UndefinedMetricWarning: Precision and F-score are ill-defined and being set to 0.0 in labels with no predicted samples. Use `zero_division` parameter to control this behavior.\n",
      "  _warn_prf(average, modifier, msg_start, len(result))\n",
      "C:\\ProgramData\\Anaconda3\\lib\\site-packages\\sklearn\\metrics\\_classification.py:1318: UndefinedMetricWarning: Recall and F-score are ill-defined and being set to 0.0 in labels with no true samples. Use `zero_division` parameter to control this behavior.\n",
      "  _warn_prf(average, modifier, msg_start, len(result))\n",
      "C:\\ProgramData\\Anaconda3\\lib\\site-packages\\sklearn\\metrics\\_classification.py:1318: UndefinedMetricWarning: Precision is ill-defined and being set to 0.0 in labels with no predicted samples. Use `zero_division` parameter to control this behavior.\n",
      "  _warn_prf(average, modifier, msg_start, len(result))\n",
      "C:\\ProgramData\\Anaconda3\\lib\\site-packages\\sklearn\\metrics\\_classification.py:1318: UndefinedMetricWarning: Recall is ill-defined and being set to 0.0 in labels with no true samples. Use `zero_division` parameter to control this behavior.\n",
      "  _warn_prf(average, modifier, msg_start, len(result))\n"
     ]
    }
   ],
   "source": [
    "from sklearn.metrics import accuracy_score, precision_score, recall_score, f1_score\n",
    "from sklearn.metrics import classification_report\n",
    "\n",
    "# Make predictions on the test data\n",
    "predictions = model.predict(test_x)\n",
    "print(predictions)\n",
    "\n",
    "# Get the class with the highest probability\n",
    "results = np.argmax(predictions, axis=1)\n",
    "\n",
    "print(results)\n",
    "print(test_y)\n",
    "\n",
    "print(classification_report(test_y, results))\n",
    "\n",
    "# Convert numpy array to python list\n",
    "results_list = results.tolist()\n",
    "test_y_list = test_y.tolist()\n",
    "\n",
    "print(results)\n",
    "print(test_y)\n",
    "\n",
    "# Calculate the accuracy of the model\n",
    "accuracy = accuracy_score(test_y_list, results_list)\n",
    "\n",
    "# Calculate the precision of the model\n",
    "precision = precision_score(test_y_list, results_list, average=None)\n",
    "\n",
    "# Calculate the recall of the model\n",
    "recall = recall_score(test_y_list, results_list, average=None)\n",
    "\n",
    "# Calculate the F1 score of the model\n",
    "f1 = f1_score(test_y_list, results_list, average=None)\n",
    "\n",
    "# Print the results\n",
    "print(\"Accuracy:\", accuracy)\n",
    "print(\"Precision:\", precision)\n",
    "print(\"Recall:\", recall)\n",
    "print(\"F1 Score:\", f1)"
   ]
  },
  {
   "cell_type": "code",
   "execution_count": 10,
   "id": "92794833",
   "metadata": {},
   "outputs": [
    {
     "name": "stdout",
     "output_type": "stream",
     "text": [
      "[1, 0, 1, 1, 0]\n",
      "[1, 0, 1, 0, 0]\n",
      "Accuracy:  0.8\n",
      "Precision:  1.0\n",
      "Recall:  0.6666666666666666\n",
      "F1-score:  0.8\n",
      "              precision    recall  f1-score   support\n",
      "\n",
      "           0       0.67      1.00      0.80         2\n",
      "           1       1.00      0.67      0.80         3\n",
      "\n",
      "    accuracy                           0.80         5\n",
      "   macro avg       0.83      0.83      0.80         5\n",
      "weighted avg       0.87      0.80      0.80         5\n",
      "\n"
     ]
    }
   ],
   "source": [
    "from sklearn.metrics import accuracy_score, precision_score, recall_score, f1_score\n",
    "\n",
    "# Get the true labels and predicted labels\n",
    "y_true = [1, 0, 1, 1, 0]\n",
    "y_pred = [1, 0, 1, 0, 0]\n",
    "\n",
    "print(y_true)\n",
    "print(y_pred)\n",
    "\n",
    "# Calculate the accuracy\n",
    "acc = accuracy_score(y_true, y_pred)\n",
    "print(\"Accuracy: \", acc)\n",
    "\n",
    "# Calculate the precision\n",
    "prec = precision_score(y_true, y_pred)\n",
    "print(\"Precision: \", prec)\n",
    "\n",
    "# Calculate the recall\n",
    "rec = recall_score(y_true, y_pred)\n",
    "print(\"Recall: \", rec)\n",
    "\n",
    "# Calculate the F1-score\n",
    "f1 = f1_score(y_true, y_pred)\n",
    "print(\"F1-score: \", f1)\n",
    "\n",
    "from sklearn.metrics import classification_report\n",
    "\n",
    "print(classification_report(y_true, y_pred))"
   ]
  },
  {
   "cell_type": "code",
   "execution_count": null,
   "id": "1482abdd",
   "metadata": {},
   "outputs": [],
   "source": []
  }
 ],
 "metadata": {
  "kernelspec": {
   "display_name": "Python 3 (ipykernel)",
   "language": "python",
   "name": "python3"
  },
  "language_info": {
   "codemirror_mode": {
    "name": "ipython",
    "version": 3
   },
   "file_extension": ".py",
   "mimetype": "text/x-python",
   "name": "python",
   "nbconvert_exporter": "python",
   "pygments_lexer": "ipython3",
   "version": "3.9.12"
  }
 },
 "nbformat": 4,
 "nbformat_minor": 5
}
