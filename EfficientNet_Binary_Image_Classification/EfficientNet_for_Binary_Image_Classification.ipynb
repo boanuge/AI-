{
 "cells": [
  {
   "cell_type": "code",
   "execution_count": null,
   "id": "f901c106",
   "metadata": {},
   "outputs": [],
   "source": [
    "# EfficientNet-B7 achieves new state-of-the-art 84.4% top-1 / 97.1% top-5 accuracy year 2019 while being 8.4x\n",
    "# smaller than the best existing CNN, e.g. EfficientNet-B1 is 7.6x smaller and 5.7x faster than ResNet-152.\n",
    "# https://keras.io/examples/vision/image_classification_efficientnet_fine_tuning/"
   ]
  },
  {
   "cell_type": "code",
   "execution_count": 1,
   "id": "37d9d4db",
   "metadata": {
    "scrolled": false
   },
   "outputs": [
    {
     "name": "stderr",
     "output_type": "stream",
     "text": [
      "2023-03-22 15:33:57.503723: W tensorflow/stream_executor/platform/default/dso_loader.cc:64] Could not load dynamic library 'libcudart.so.11.0'; dlerror: libcudart.so.11.0: cannot open shared object file: No such file or directory\n",
      "2023-03-22 15:33:57.503754: I tensorflow/stream_executor/cuda/cudart_stub.cc:29] Ignore above cudart dlerror if you do not have a GPU set up on your machine.\n",
      "/home/gbike/anaconda3/lib/python3.9/site-packages/scipy/__init__.py:146: UserWarning: A NumPy version >=1.16.5 and <1.23.0 is required for this version of SciPy (detected version 1.24.2\n",
      "  warnings.warn(f\"A NumPy version >={np_minversion} and <{np_maxversion}\"\n"
     ]
    },
    {
     "name": "stdout",
     "output_type": "stream",
     "text": [
      "['train.csv', 'train']\n",
      "                                     id  has_cactus\n",
      "0  000c8a36845c0208e833c79c1bffedd1.jpg           1\n",
      "1  000d1e9a533f62e55c289303b072733d.jpg           1\n",
      "2  00a8c7e14298819281fe1a81434d19c4.jpg           1\n",
      "3  00acf6bfe9ceefb3ea1e7629e4912a31.jpg           1\n",
      "4  00b4dfbb267109b5f0d0dde365fa6161.jpg           1\n",
      "5  00b5670821357d6de4c9eec458b9da86.jpg           0\n",
      "6  00b5670821357d6de4c9eec458b9da87.jpg           0\n",
      "7  00b5670821357d6de4c9eec458b9da88.jpg           0\n",
      "8  00b5670821357d6de4c9eec458b9da89.jpg           0\n",
      "9  00b5670821357d6de4c9eec458b9da90.jpg           0\n",
      "Found 9 validated image filenames belonging to 2 classes.\n",
      "Found 1 validated image filenames belonging to 2 classes.\n"
     ]
    },
    {
     "name": "stderr",
     "output_type": "stream",
     "text": [
      "2023-03-22 15:33:59.096623: W tensorflow/stream_executor/platform/default/dso_loader.cc:64] Could not load dynamic library 'libcuda.so.1'; dlerror: libcuda.so.1: cannot open shared object file: No such file or directory\n",
      "2023-03-22 15:33:59.096654: W tensorflow/stream_executor/cuda/cuda_driver.cc:269] failed call to cuInit: UNKNOWN ERROR (303)\n",
      "2023-03-22 15:33:59.096674: I tensorflow/stream_executor/cuda/cuda_diagnostics.cc:156] kernel driver does not appear to be running on this host (ip-10-255-120-161): /proc/driver/nvidia/version does not exist\n",
      "2023-03-22 15:33:59.096863: I tensorflow/core/platform/cpu_feature_guard.cc:151] This TensorFlow binary is optimized with oneAPI Deep Neural Network Library (oneDNN) to use the following CPU instructions in performance-critical operations:  AVX2 AVX512F FMA\n",
      "To enable them in other operations, rebuild TensorFlow with the appropriate compiler flags.\n"
     ]
    },
    {
     "name": "stdout",
     "output_type": "stream",
     "text": [
      "Model: \"sequential\"\n",
      "_________________________________________________________________\n",
      " Layer (type)                Output Shape              Param #   \n",
      "=================================================================\n",
      " efficientnetb5 (Functional)  (None, 2048)             28513527  \n",
      "                                                                 \n",
      " dense (Dense)               (None, 1024)              2098176   \n",
      "                                                                 \n",
      " dense_1 (Dense)             (None, 1024)              1049600   \n",
      "                                                                 \n",
      " dense_2 (Dense)             (None, 1)                 1025      \n",
      "                                                                 \n",
      "=================================================================\n",
      "Total params: 31,662,328\n",
      "Trainable params: 31,489,585\n",
      "Non-trainable params: 172,743\n",
      "_________________________________________________________________\n"
     ]
    },
    {
     "name": "stderr",
     "output_type": "stream",
     "text": [
      "/tmp/ipykernel_2060214/2137938369.py:87: UserWarning: `Model.fit_generator` is deprecated and will be removed in a future version. Please use `Model.fit`, which supports generators.\n",
      "  history = model.fit_generator(\n"
     ]
    },
    {
     "name": "stdout",
     "output_type": "stream",
     "text": [
      "Epoch 1/10\n",
      "9/9 [==============================] - 31s 2s/step - loss: 0.7658 - accuracy: 0.4444 - val_loss: 0.6595 - val_accuracy: 1.0000\n",
      "Epoch 2/10\n",
      "9/9 [==============================] - 11s 1s/step - loss: 0.6608 - accuracy: 0.5556 - val_loss: 0.6745 - val_accuracy: 1.0000\n",
      "Epoch 3/10\n",
      "9/9 [==============================] - 11s 1s/step - loss: 0.6372 - accuracy: 0.5556 - val_loss: 0.6849 - val_accuracy: 1.0000\n",
      "Epoch 4/10\n",
      "9/9 [==============================] - 11s 1s/step - loss: 0.5741 - accuracy: 0.5556 - val_loss: 0.7116 - val_accuracy: 0.0000e+00\n",
      "Epoch 5/10\n",
      "9/9 [==============================] - 11s 1s/step - loss: 0.4581 - accuracy: 0.7778 - val_loss: 0.6861 - val_accuracy: 1.0000\n",
      "Epoch 6/10\n",
      "9/9 [==============================] - 11s 1s/step - loss: 0.2903 - accuracy: 1.0000 - val_loss: 0.6113 - val_accuracy: 1.0000\n",
      "Epoch 7/10\n",
      "9/9 [==============================] - 11s 1s/step - loss: 0.1691 - accuracy: 1.0000 - val_loss: 0.4636 - val_accuracy: 1.0000\n",
      "Epoch 8/10\n",
      "9/9 [==============================] - 11s 1s/step - loss: 0.0640 - accuracy: 1.0000 - val_loss: 0.2916 - val_accuracy: 1.0000\n",
      "Epoch 9/10\n",
      "9/9 [==============================] - 11s 1s/step - loss: 0.0409 - accuracy: 1.0000 - val_loss: 0.1341 - val_accuracy: 1.0000\n",
      "Epoch 10/10\n",
      "9/9 [==============================] - 11s 1s/step - loss: 0.0070 - accuracy: 1.0000 - val_loss: 0.0670 - val_accuracy: 1.0000\n"
     ]
    },
    {
     "name": "stderr",
     "output_type": "stream",
     "text": [
      "/home/gbike/anaconda3/lib/python3.9/site-packages/keras/engine/functional.py:1410: CustomMaskWarning: Custom mask layers require a config and must override get_config. When loading, the custom mask layer must be passed to the custom_objects argument.\n",
      "  layer_config = serialize_layer_fn(layer)\n"
     ]
    }
   ],
   "source": [
    "from tensorflow.keras.applications import EfficientNetB5\n",
    "from keras.preprocessing.image import ImageDataGenerator\n",
    "from keras.models import Sequential\n",
    "from keras.layers import Dense\n",
    "from keras import applications\n",
    "\n",
    "import tensorflow as tf\n",
    "import pandas as pd\n",
    "import numpy as np\n",
    "import os\n",
    "print(os.listdir(\"./kaggle-dataset\"))\n",
    "\n",
    "train_dir = './kaggle-dataset/train'\n",
    "train_df = pd.read_csv('./kaggle-dataset/train.csv')\n",
    "print(train_df[:10])\n",
    "\n",
    "train_df['has_cactus'] = train_df['has_cactus'].astype('str')\n",
    "\n",
    "# Augmenting data using an ImageDataGenerator object in Keras\n",
    "'''\n",
    "rescale=1/255: Normalization by rescaling the pixel values of the images to be in the range [0, 1].\n",
    "validation_split=0.10: Reserving 10% of the images for validation during training.\n",
    "rotation_range=40: Augments the image by rotating a random angle between -40 and +40 degrees.\n",
    "width_shift_range=0.2: Shifts the image horizontally by a random fraction of the total width, up to 20%.\n",
    "height_shift_range=0.2: Shifts the image vertically by a random fraction of the total height, up to 20%.\n",
    "shear_range=0.2: Applies a shear transformation by a random angle between -20 and +20 degrees.\n",
    "zoom_range=0.2: Zooms the image by a random factor between 1.0-0.2=0.8 and 1.0+0.2=1.2.\n",
    "horizontal_flip=True: Flips the image horizontally with a probability of 0.5.\n",
    "fill_mode='nearest': Fills in any newly created pixels by copying the nearest valid pixel.\n",
    "'''\n",
    "train_datagen = ImageDataGenerator(\n",
    "    rescale=1/255,\n",
    "    validation_split=0.10,\n",
    "    rotation_range=40,\n",
    "    width_shift_range=0.2,\n",
    "    height_shift_range=0.2,\n",
    "    shear_range=0.2,\n",
    "    zoom_range=0.2,\n",
    "    horizontal_flip=False,\n",
    "    fill_mode='nearest'\n",
    ")\n",
    "# By the following code: if we have 1,000 images in input dataset,\n",
    "# then there will be around 166,320 augmented images for training.\n",
    "\n",
    "train_generator = train_datagen.flow_from_dataframe(\n",
    "    dataframe = train_df,\n",
    "    directory = train_dir,\n",
    "    x_col=\"id\",\n",
    "    y_col=\"has_cactus\",\n",
    "    target_size=(456,456),\n",
    "    subset=\"training\",\n",
    "    batch_size=1, # 64 preferred (depending on the dataset size)\n",
    "    shuffle=True,\n",
    "    class_mode=\"binary\" # The labels are binary (either 0 or 1).\n",
    ")\n",
    "\n",
    "validation_generator = train_datagen.flow_from_dataframe(\n",
    "    dataframe = train_df,\n",
    "    directory = train_dir,\n",
    "    x_col=\"id\",\n",
    "    y_col=\"has_cactus\",\n",
    "    target_size=(456,456),\n",
    "    subset=\"validation\",\n",
    "    batch_size=1, # 64 preferred (depending on the dataset size)\n",
    "    shuffle=True,\n",
    "    class_mode=\"binary\" # The labels are binary (either 0 or 1).\n",
    ")\n",
    "\n",
    "optimizer = tf.keras.optimizers.Adam(learning_rate=1e-4)\n",
    "\n",
    "pretrained_net = EfficientNetB5(\n",
    "    input_shape=(456,456,3), # Resolution fo EfficientNetB5\n",
    "    include_top=False,\n",
    "    weights=\"imagenet\",\n",
    "    pooling=\"avg\",\n",
    ")\n",
    "\n",
    "model = Sequential()\n",
    "model.add(pretrained_net)\n",
    "model.add(Dense(units = 256, activation='relu'))\n",
    "model.add(Dense(units = 256, activation = 'relu'))\n",
    "model.add(Dense(units = 1, activation='sigmoid'))\n",
    "model.summary()\n",
    "\n",
    "model.compile(optimizer=optimizer, loss='binary_crossentropy', metrics=['accuracy'])\n",
    "\n",
    "history = model.fit_generator(\n",
    "    train_generator,\n",
    "    validation_data = validation_generator,\n",
    "    # validation_steps & steps_per_epoch need to be more than 0\n",
    "    validation_steps = validation_generator.n//validation_generator.batch_size,\n",
    "    steps_per_epoch = train_generator.n//train_generator.batch_size,\n",
    "    epochs = 10,\n",
    ")\n",
    "\n",
    "model.save('efficientnet_finetuned_epoch_100.h5')"
   ]
  },
  {
   "cell_type": "code",
   "execution_count": 2,
   "id": "b92401f7",
   "metadata": {},
   "outputs": [
    {
     "data": {
      "image/png": "[encoded data removed]",
      "text/plain": [
       "<Figure size 432x288 with 1 Axes>"
      ]
     },
     "metadata": {
      "needs_background": "light"
     },
     "output_type": "display_data"
    },
    {
     "data": {
      "image/png": "[encoded data removed]",
      "text/plain": [
       "<Figure size 432x288 with 1 Axes>"
      ]
     },
     "metadata": {
      "needs_background": "light"
     },
     "output_type": "display_data"
    }
   ],
   "source": [
    "import matplotlib.pyplot as plt\n",
    "\n",
    "acc = history.history['accuracy']\n",
    "val_acc = history.history['val_accuracy']\n",
    "loss = history.history['loss']\n",
    "val_loss = history.history['val_loss']\n",
    "\n",
    "epochs = range(1,len(loss)+1)\n",
    "\n",
    "plt.plot(epochs,acc,'bo',label = 'Training Accuracy')\n",
    "plt.plot(epochs,val_acc,'b',label = 'Validation Accuracy')\n",
    "plt.title('Training and Validation Accuracy')\n",
    "plt.legend()\n",
    "plt.figure()\n",
    "\n",
    "plt.plot(epochs,loss,'bo',label = 'Training loss')\n",
    "plt.plot(epochs,val_loss,'b',label = 'Validation Loss')\n",
    "plt.title('Training and Validation Loss')\n",
    "plt.legend()\n",
    "\n",
    "plt.show()"
   ]
  },
  {
   "cell_type": "code",
   "execution_count": 1,
   "id": "84a3bbb6",
   "metadata": {},
   "outputs": [
    {
     "name": "stderr",
     "output_type": "stream",
     "text": [
      "2023-03-22 15:38:51.718066: W tensorflow/stream_executor/platform/default/dso_loader.cc:64] Could not load dynamic library 'libcudart.so.11.0'; dlerror: libcudart.so.11.0: cannot open shared object file: No such file or directory\n",
      "2023-03-22 15:38:51.718099: I tensorflow/stream_executor/cuda/cudart_stub.cc:29] Ignore above cudart dlerror if you do not have a GPU set up on your machine.\n",
      "/home/gbike/anaconda3/lib/python3.9/site-packages/scipy/__init__.py:146: UserWarning: A NumPy version >=1.16.5 and <1.23.0 is required for this version of SciPy (detected version 1.24.2\n",
      "  warnings.warn(f\"A NumPy version >={np_minversion} and <{np_maxversion}\"\n",
      "2023-03-22 15:38:53.260331: W tensorflow/stream_executor/platform/default/dso_loader.cc:64] Could not load dynamic library 'libcuda.so.1'; dlerror: libcuda.so.1: cannot open shared object file: No such file or directory\n",
      "2023-03-22 15:38:53.260356: W tensorflow/stream_executor/cuda/cuda_driver.cc:269] failed call to cuInit: UNKNOWN ERROR (303)\n",
      "2023-03-22 15:38:53.260372: I tensorflow/stream_executor/cuda/cuda_diagnostics.cc:156] kernel driver does not appear to be running on this host (ip-10-255-120-161): /proc/driver/nvidia/version does not exist\n",
      "2023-03-22 15:38:53.260576: I tensorflow/core/platform/cpu_feature_guard.cc:151] This TensorFlow binary is optimized with oneAPI Deep Neural Network Library (oneDNN) to use the following CPU instructions in performance-critical operations:  AVX2 AVX512F FMA\n",
      "To enable them in other operations, rebuild TensorFlow with the appropriate compiler flags.\n"
     ]
    },
    {
     "name": "stdout",
     "output_type": "stream",
     "text": [
      "[[0.9218565]]\n"
     ]
    }
   ],
   "source": [
    "from tensorflow.keras.models import load_model\n",
    "import tensorflow as tf\n",
    "import numpy as np\n",
    "\n",
    "model_loaded = load_model('efficientnet_finetuned_epoch_100.h5')\n",
    "\n",
    "img_path = 'image.jpg'\n",
    "img_resized = tf.keras.preprocessing.image.load_img(img_path, target_size=(456, 456)) # EfficientNetB5\n",
    "img_vectorized = tf.keras.preprocessing.image.img_to_array(img_resized)\n",
    "img_vectorized = tf.keras.applications.efficientnet.preprocess_input(img_vectorized)\n",
    "img_vectorized = np.expand_dims(img_vectorized, axis=0)\n",
    "\n",
    "output = model_loaded.predict(img_vectorized)\n",
    "print(output)"
   ]
  }
 ],
 "metadata": {
  "kernelspec": {
   "display_name": "Python 3 (ipykernel)",
   "language": "python",
   "name": "python3"
  },
  "language_info": {
   "codemirror_mode": {
    "name": "ipython",
    "version": 3
   },
   "file_extension": ".py",
   "mimetype": "text/x-python",
   "name": "python",
   "nbconvert_exporter": "python",
   "pygments_lexer": "ipython3",
   "version": "3.9.7"
  }
 },
 "nbformat": 4,
 "nbformat_minor": 5
}
