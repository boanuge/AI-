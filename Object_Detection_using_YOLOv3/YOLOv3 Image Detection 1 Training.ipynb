{
 "cells": [
  {
   "cell_type": "code",
   "execution_count": 1,
   "id": "6a1b48d5",
   "metadata": {},
   "outputs": [
    {
     "name": "stderr",
     "output_type": "stream",
     "text": [
      "2023-02-02 06:46:21.010970: I tensorflow/core/platform/cpu_feature_guard.cc:193] This TensorFlow binary is optimized with oneAPI Deep Neural Network Library (oneDNN) to use the following CPU instructions in performance-critical operations:  AVX2 AVX512F FMA\n",
      "To enable them in other operations, rebuild TensorFlow with the appropriate compiler flags.\n",
      "2023-02-02 06:46:21.158896: W tensorflow/compiler/xla/stream_executor/platform/default/dso_loader.cc:64] Could not load dynamic library 'libcudart.so.11.0'; dlerror: libcudart.so.11.0: cannot open shared object file: No such file or directory\n",
      "2023-02-02 06:46:21.158914: I tensorflow/compiler/xla/stream_executor/cuda/cudart_stub.cc:29] Ignore above cudart dlerror if you do not have a GPU set up on your machine.\n",
      "2023-02-02 06:46:21.769898: W tensorflow/compiler/xla/stream_executor/platform/default/dso_loader.cc:64] Could not load dynamic library 'libnvinfer.so.7'; dlerror: libnvinfer.so.7: cannot open shared object file: No such file or directory\n",
      "2023-02-02 06:46:21.769957: W tensorflow/compiler/xla/stream_executor/platform/default/dso_loader.cc:64] Could not load dynamic library 'libnvinfer_plugin.so.7'; dlerror: libnvinfer_plugin.so.7: cannot open shared object file: No such file or directory\n",
      "2023-02-02 06:46:21.769963: W tensorflow/compiler/tf2tensorrt/utils/py_utils.cc:38] TF-TRT Warning: Cannot dlopen some TensorRT libraries. If you would like to use Nvidia GPU with TensorRT, please make sure the missing libraries mentioned above are installed properly.\n",
      "2023-02-02 06:46:22.658115: W tensorflow/compiler/xla/stream_executor/platform/default/dso_loader.cc:64] Could not load dynamic library 'libcuda.so.1'; dlerror: libcuda.so.1: cannot open shared object file: No such file or directory\n",
      "2023-02-02 06:46:22.658140: W tensorflow/compiler/xla/stream_executor/cuda/cuda_driver.cc:265] failed call to cuInit: UNKNOWN ERROR (303)\n",
      "2023-02-02 06:46:22.658157: I tensorflow/compiler/xla/stream_executor/cuda/cuda_diagnostics.cc:156] kernel driver does not appear to be running on this host (ip-10-255-0-134): /proc/driver/nvidia/version does not exist\n",
      "2023-02-02 06:46:22.658347: I tensorflow/core/platform/cpu_feature_guard.cc:193] This TensorFlow binary is optimized with oneAPI Deep Neural Network Library (oneDNN) to use the following CPU instructions in performance-critical operations:  AVX2 AVX512F FMA\n",
      "To enable them in other operations, rebuild TensorFlow with the appropriate compiler flags.\n"
     ]
    },
    {
     "name": "stdout",
     "output_type": "stream",
     "text": [
      "Create YOLOv3 model with 9 anchors and 1 classes.\n",
      "WARNING:tensorflow:Skipping loading weights for layer #249 (named conv2d_58) due to mismatch in shape for weight conv2d_58/kernel:0. Weight expects shape (1, 1, 1024, 18). Received saved weight with shape (255, 1024, 1, 1)\n",
      "WARNING:tensorflow:Skipping loading weights for layer #249 (named conv2d_58) due to mismatch in shape for weight conv2d_58/bias:0. Weight expects shape (18,). Received saved weight with shape (255,)\n",
      "WARNING:tensorflow:Skipping loading weights for layer #250 (named conv2d_66) due to mismatch in shape for weight conv2d_66/kernel:0. Weight expects shape (1, 1, 512, 18). Received saved weight with shape (255, 512, 1, 1)\n",
      "WARNING:tensorflow:Skipping loading weights for layer #250 (named conv2d_66) due to mismatch in shape for weight conv2d_66/bias:0. Weight expects shape (18,). Received saved weight with shape (255,)\n",
      "WARNING:tensorflow:Skipping loading weights for layer #251 (named conv2d_74) due to mismatch in shape for weight conv2d_74/kernel:0. Weight expects shape (1, 1, 256, 18). Received saved weight with shape (255, 256, 1, 1)\n",
      "WARNING:tensorflow:Skipping loading weights for layer #251 (named conv2d_74) due to mismatch in shape for weight conv2d_74/bias:0. Weight expects shape (18,). Received saved weight with shape (255,)\n",
      "Load weights yolo3_weights_via_MSCOCO.h5.\n",
      "Freeze the first 185 layers of total 252 layers.\n"
     ]
    }
   ],
   "source": [
    "# Need to use 'YOLO_v3_Labelling_Tool'\n",
    "# https://medium.com/analytics-vidhya/training-yolo-with-keras-85c33cdefe21\n",
    "# https://github.com/qqwweee/keras-yolo3\n",
    "# https://github.com/developer0hye/Yolo_Label\n",
    "\n",
    "log_dir = './output/' # 폴더 미리 생성할것 (폴더생성 권한문제로 오류날 수 있음)\n",
    "annotation_path = './yolo_train.txt'\n",
    "classes_path = './yolo_classes.txt'\n",
    "anchors_path = './yolo_anchors.txt'\n",
    "\n",
    "import sys\n",
    "sys.path.append(\"./\")\n",
    "\n",
    "import numpy as np\n",
    "import keras.backend as K\n",
    "from keras.layers import Input, Lambda\n",
    "from keras.models import Model\n",
    "from keras.optimizers import Adam\n",
    "from keras.callbacks import TensorBoard, ModelCheckpoint, ReduceLROnPlateau, EarlyStopping\n",
    "from yolo3_model import preprocess_true_boxes, yolo_body, tiny_yolo_body, yolo_loss\n",
    "from yolo3_utils import get_random_data\n",
    "\n",
    "def create_model(input_shape, anchors, num_classes, load_pretrained=True,\n",
    "freeze_body=1, weights_path='yolo3_weights_via_MSCOCO.h5'): # Full filtering\n",
    "#freeze_body=2, weights_path='yolo3_weights_via_MSCOCO.h5'):\n",
    "    K.clear_session() # get a new session\n",
    "    image_input = Input(shape=(None, None, 3))\n",
    "    h, w = input_shape\n",
    "    num_anchors = len(anchors)\n",
    "\n",
    "    y_true = [Input(shape=(h//{0:32, 1:16, 2:8}[l], w//{0:32, 1:16, 2:8}[l], \\\n",
    "        num_anchors//3, num_classes+5)) for l in range(3)]\n",
    "\n",
    "    model_body = yolo_body(image_input, num_anchors//3, num_classes)\n",
    "    print('Create YOLOv3 model with {} anchors and {} classes.'.format(num_anchors, num_classes))\n",
    "\n",
    "    if load_pretrained:\n",
    "        model_body.load_weights(weights_path, by_name=True, skip_mismatch=True)\n",
    "        print('Load weights {}.'.format(weights_path))\n",
    "        if freeze_body in [1, 2]:\n",
    "            # Freeze darknet53 body or freeze all but 3 output layers.\n",
    "            num = (185, len(model_body.layers)-3)[freeze_body-1]\n",
    "            for i in range(num): model_body.layers[i].trainable = False\n",
    "            print('Freeze the first {} layers of total {} layers.'.format(num, len(model_body.layers)))\n",
    "\n",
    "    model_loss = Lambda(yolo_loss, output_shape=(1,), name='yolo_loss',\n",
    "        arguments={'anchors': anchors, 'num_classes': num_classes, 'ignore_thresh': 0.5})(\n",
    "        [*model_body.output, *y_true])\n",
    "    model = Model([model_body.input, *y_true], model_loss)\n",
    "\n",
    "    return model\n",
    "\n",
    "def data_generator(annotation_lines, batch_size, input_shape, anchors, num_classes):\n",
    "    '''data generator for fit_generator'''\n",
    "    n = len(annotation_lines)\n",
    "    i = 0\n",
    "    while True:\n",
    "        image_data = []\n",
    "        box_data = []\n",
    "        for b in range(batch_size):\n",
    "            if i==0:\n",
    "                np.random.shuffle(annotation_lines)\n",
    "            image, box = get_random_data(annotation_lines[i], input_shape, random=True)\n",
    "            image_data.append(image)\n",
    "            box_data.append(box)\n",
    "            i = (i+1) % n\n",
    "        image_data = np.array(image_data)\n",
    "        box_data = np.array(box_data)\n",
    "        y_true = preprocess_true_boxes(box_data, input_shape, anchors, num_classes)\n",
    "        yield [image_data, *y_true], np.zeros(batch_size)\n",
    "\n",
    "def data_generator_wrapper(annotation_lines, batch_size, input_shape, anchors, num_classes):\n",
    "    n = len(annotation_lines)\n",
    "    if n==0 or batch_size<=0: return None\n",
    "    return data_generator(annotation_lines, batch_size, input_shape, anchors, num_classes)\n",
    "\n",
    "\n",
    "def get_classes(classes_path):\n",
    "    with open(classes_path) as f:\n",
    "        class_names = f.readlines()\n",
    "    class_names = [c.strip() for c in class_names]\n",
    "    return class_names\n",
    "\n",
    "def get_anchors(anchors_path):\n",
    "    with open(anchors_path) as f:\n",
    "        anchors = f.readline()\n",
    "    anchors = [float(x) for x in anchors.split(',')]\n",
    "    return np.array(anchors).reshape(-1, 2)\n",
    "\n",
    "class_names = get_classes(classes_path)\n",
    "num_classes = len(class_names)\n",
    "anchors = get_anchors(anchors_path)\n",
    "\n",
    "input_shape = (416,416) # multiple of 32, hw\n",
    "\n",
    "# make sure you know what you freeze\n",
    "model = create_model(input_shape, anchors, num_classes, freeze_body=1, weights_path='yolo3_weights_via_MSCOCO.h5')\n",
    "#model = create_model(input_shape, anchors, num_classes, freeze_body=2, weights_path='yolo3_weights_via_MSCOCO.h5')\n",
    "\n",
    "logging = TensorBoard(log_dir=log_dir)\n",
    "checkpoint = ModelCheckpoint(log_dir + 'ep{epoch:03d}-loss{loss:.3f}-val_loss{val_loss:.3f}.h5',\n",
    "    monitor='val_loss', save_weights_only=True, save_best_only=True, save_freq=3)\n",
    "reduce_lr = ReduceLROnPlateau(monitor='val_loss', factor=0.1, patience=3, verbose=1)\n",
    "early_stopping = EarlyStopping(monitor='val_loss', min_delta=0, patience=10, verbose=1)\n",
    "\n",
    "val_split = 0.1\n",
    "with open(annotation_path) as f:\n",
    "    lines = f.readlines()\n",
    "np.random.seed(10101)\n",
    "np.random.shuffle(lines)\n",
    "np.random.seed(None)\n",
    "num_val = int(len(lines)*val_split)\n",
    "num_train = len(lines) - num_val"
   ]
  },
  {
   "cell_type": "code",
   "execution_count": 3,
   "id": "781bf846",
   "metadata": {
    "scrolled": false
   },
   "outputs": [
    {
     "name": "stdout",
     "output_type": "stream",
     "text": [
      "Train on 1719 samples, val on 191 samples, with batch size 32.\n",
      "Epoch 1/100\n",
      "WARNING:tensorflow:From /home/gbike/anaconda3/lib/python3.9/site-packages/tensorflow/python/autograph/pyct/static_analysis/liveness.py:83: Analyzer.lamba_check (from tensorflow.python.autograph.pyct.static_analysis.liveness) is deprecated and will be removed after 2023-09-23.\n",
      "Instructions for updating:\n",
      "Lambda fuctions will be no more assumed to be used in the statement where they are used, or at least in the same block. https://github.com/tensorflow/tensorflow/issues/56089\n"
     ]
    },
    {
     "name": "stderr",
     "output_type": "stream",
     "text": [
      "2023-02-02 06:46:54.016566: E tensorflow/core/grappler/optimizers/meta_optimizer.cc:954] layout failed: INVALID_ARGUMENT: Subshape must have computed start >= end since stride is negative, but is 0 and 2 (computed from start 0 and end 9223372036854775807 over shape with rank 2 and stride-1)\n"
     ]
    },
    {
     "name": "stdout",
     "output_type": "stream",
     "text": [
      "53/53 [==============================] - ETA: 0s - loss: 615.8973 "
     ]
    },
    {
     "name": "stderr",
     "output_type": "stream",
     "text": [
      "2023-02-02 06:56:39.702476: E tensorflow/core/grappler/optimizers/meta_optimizer.cc:954] layout failed: INVALID_ARGUMENT: Subshape must have computed start >= end since stride is negative, but is 0 and 2 (computed from start 0 and end 9223372036854775807 over shape with rank 2 and stride-1)\n"
     ]
    },
    {
     "name": "stdout",
     "output_type": "stream",
     "text": [
      "53/53 [==============================] - 625s 12s/step - loss: 615.8973 - val_loss: 538.8405\n",
      "Epoch 2/100\n",
      "53/53 [==============================] - 613s 12s/step - loss: 40.8916 - val_loss: 114.1678\n",
      "Epoch 3/100\n",
      "53/53 [==============================] - 615s 12s/step - loss: 30.6731 - val_loss: 35.8278\n",
      "Epoch 4/100\n",
      "53/53 [==============================] - 612s 12s/step - loss: 25.6489 - val_loss: 26.6883\n",
      "Epoch 5/100\n",
      "53/53 [==============================] - 613s 12s/step - loss: 22.5645 - val_loss: 23.0477\n",
      "Epoch 6/100\n",
      "53/53 [==============================] - 615s 12s/step - loss: 20.4731 - val_loss: 20.5594\n",
      "Epoch 7/100\n",
      "53/53 [==============================] - 614s 12s/step - loss: 19.0568 - val_loss: 19.2550\n",
      "Epoch 8/100\n",
      "53/53 [==============================] - 613s 12s/step - loss: 18.0858 - val_loss: 18.1876\n",
      "Epoch 9/100\n",
      "53/53 [==============================] - 612s 12s/step - loss: 17.4744 - val_loss: 17.5005\n",
      "Epoch 10/100\n",
      "53/53 [==============================] - 613s 12s/step - loss: 16.8138 - val_loss: 16.5045\n",
      "Epoch 11/100\n",
      "53/53 [==============================] - 614s 12s/step - loss: 16.3111 - val_loss: 16.3906\n",
      "Epoch 12/100\n",
      "53/53 [==============================] - 613s 12s/step - loss: 15.8469 - val_loss: 15.9889\n",
      "Epoch 13/100\n",
      "53/53 [==============================] - 612s 12s/step - loss: 15.5162 - val_loss: 15.4965\n",
      "Epoch 14/100\n",
      "53/53 [==============================] - 614s 12s/step - loss: 15.3166 - val_loss: 15.6040\n",
      "Epoch 15/100\n",
      "53/53 [==============================] - 613s 12s/step - loss: 14.9784 - val_loss: 15.1990\n",
      "Epoch 16/100\n",
      "53/53 [==============================] - 613s 12s/step - loss: 14.7446 - val_loss: 14.8014\n",
      "Epoch 17/100\n",
      "53/53 [==============================] - 613s 12s/step - loss: 14.7146 - val_loss: 14.6892\n",
      "Epoch 18/100\n",
      "53/53 [==============================] - 612s 12s/step - loss: 14.4586 - val_loss: 14.6696\n",
      "Epoch 19/100\n",
      "53/53 [==============================] - 613s 12s/step - loss: 14.2948 - val_loss: 14.7447\n",
      "Epoch 20/100\n",
      "53/53 [==============================] - 613s 12s/step - loss: 14.1901 - val_loss: 14.7127\n",
      "Epoch 21/100\n",
      "53/53 [==============================] - 613s 12s/step - loss: 14.1536 - val_loss: 14.4757\n",
      "Epoch 22/100\n",
      "53/53 [==============================] - 613s 12s/step - loss: 13.8985 - val_loss: 14.4338\n",
      "Epoch 23/100\n",
      "53/53 [==============================] - 613s 12s/step - loss: 13.9144 - val_loss: 13.9070\n",
      "Epoch 24/100\n",
      "53/53 [==============================] - 614s 12s/step - loss: 13.7890 - val_loss: 14.0693\n",
      "Epoch 25/100\n",
      "53/53 [==============================] - 611s 12s/step - loss: 13.6519 - val_loss: 14.1297\n",
      "Epoch 26/100\n",
      "53/53 [==============================] - 613s 12s/step - loss: 13.6822 - val_loss: 14.1225\n",
      "Epoch 27/100\n",
      "53/53 [==============================] - 613s 12s/step - loss: 13.6782 - val_loss: 13.8720\n",
      "Epoch 28/100\n",
      "53/53 [==============================] - 613s 12s/step - loss: 13.4667 - val_loss: 13.6438\n",
      "Epoch 29/100\n",
      "53/53 [==============================] - 615s 12s/step - loss: 13.4377 - val_loss: 13.7035\n",
      "Epoch 30/100\n",
      "53/53 [==============================] - 615s 12s/step - loss: 13.3739 - val_loss: 13.7277\n",
      "Epoch 31/100\n",
      "53/53 [==============================] - 613s 12s/step - loss: 13.2715 - val_loss: 13.4552\n",
      "Epoch 32/100\n",
      "53/53 [==============================] - 613s 12s/step - loss: 13.1745 - val_loss: 13.6725\n",
      "Epoch 33/100\n",
      "53/53 [==============================] - 614s 12s/step - loss: 13.2281 - val_loss: 13.4518\n",
      "Epoch 34/100\n",
      "53/53 [==============================] - 613s 12s/step - loss: 13.1856 - val_loss: 13.6550\n",
      "Epoch 35/100\n",
      "53/53 [==============================] - 613s 12s/step - loss: 13.0341 - val_loss: 13.2939\n",
      "Epoch 36/100\n",
      "53/53 [==============================] - 614s 12s/step - loss: 13.0063 - val_loss: 13.9023\n",
      "Epoch 37/100\n",
      "53/53 [==============================] - 613s 12s/step - loss: 13.0319 - val_loss: 13.2981\n",
      "Epoch 38/100\n",
      "53/53 [==============================] - 614s 12s/step - loss: 12.9318 - val_loss: 13.3995\n",
      "Epoch 39/100\n",
      "53/53 [==============================] - 613s 12s/step - loss: 12.8732 - val_loss: 13.3985\n",
      "Epoch 40/100\n",
      "53/53 [==============================] - 614s 12s/step - loss: 12.7912 - val_loss: 13.3015\n",
      "Epoch 41/100\n",
      "53/53 [==============================] - 614s 12s/step - loss: 12.8504 - val_loss: 13.5088\n",
      "Epoch 42/100\n",
      "53/53 [==============================] - 614s 12s/step - loss: 12.7328 - val_loss: 13.5760\n",
      "Epoch 43/100\n",
      "53/53 [==============================] - 612s 12s/step - loss: 12.7185 - val_loss: 13.2482\n",
      "Epoch 44/100\n",
      "53/53 [==============================] - 614s 12s/step - loss: 12.6925 - val_loss: 13.0706\n",
      "Epoch 45/100\n",
      "53/53 [==============================] - 614s 12s/step - loss: 12.6934 - val_loss: 13.1466\n",
      "Epoch 46/100\n",
      "53/53 [==============================] - 611s 12s/step - loss: 12.5794 - val_loss: 13.1386\n",
      "Epoch 47/100\n",
      "53/53 [==============================] - 614s 12s/step - loss: 12.6332 - val_loss: 13.0438\n",
      "Epoch 48/100\n",
      "53/53 [==============================] - 614s 12s/step - loss: 12.4846 - val_loss: 13.2071\n",
      "Epoch 49/100\n",
      "53/53 [==============================] - 615s 12s/step - loss: 12.5108 - val_loss: 13.1511\n",
      "Epoch 50/100\n",
      "53/53 [==============================] - 613s 12s/step - loss: 12.5497 - val_loss: 12.8223\n",
      "Epoch 51/100\n",
      "53/53 [==============================] - 612s 12s/step - loss: 12.3673 - val_loss: 13.0704\n",
      "Epoch 52/100\n",
      "53/53 [==============================] - 614s 12s/step - loss: 12.4194 - val_loss: 12.9144\n",
      "Epoch 53/100\n",
      "53/53 [==============================] - 614s 12s/step - loss: 12.4648 - val_loss: 12.4684\n",
      "Epoch 54/100\n",
      "53/53 [==============================] - 615s 12s/step - loss: 12.3375 - val_loss: 12.8873\n",
      "Epoch 55/100\n",
      "53/53 [==============================] - 613s 12s/step - loss: 12.2501 - val_loss: 12.7303\n",
      "Epoch 56/100\n",
      "53/53 [==============================] - 613s 12s/step - loss: 12.3435 - val_loss: 12.9157\n",
      "Epoch 57/100\n",
      "53/53 [==============================] - 612s 12s/step - loss: 12.2267 - val_loss: 12.6870\n",
      "Epoch 58/100\n",
      "53/53 [==============================] - 615s 12s/step - loss: 12.1281 - val_loss: 12.5654\n",
      "Epoch 59/100\n",
      "53/53 [==============================] - 613s 12s/step - loss: 12.2142 - val_loss: 12.4914\n",
      "Epoch 60/100\n",
      "53/53 [==============================] - 613s 12s/step - loss: 12.2186 - val_loss: 12.6136\n",
      "Epoch 61/100\n",
      "53/53 [==============================] - 612s 12s/step - loss: 12.0466 - val_loss: 12.5906\n",
      "Epoch 62/100\n",
      "53/53 [==============================] - 613s 12s/step - loss: 12.0810 - val_loss: 12.9703\n",
      "Epoch 63/100\n",
      "53/53 [==============================] - 613s 12s/step - loss: 12.0905 - val_loss: 12.5479\n",
      "Epoch 64/100\n",
      "53/53 [==============================] - 611s 12s/step - loss: 12.0552 - val_loss: 12.8656\n",
      "Epoch 65/100\n",
      "53/53 [==============================] - 613s 12s/step - loss: 12.0342 - val_loss: 12.5152\n",
      "Epoch 66/100\n",
      "53/53 [==============================] - 613s 12s/step - loss: 12.0477 - val_loss: 12.3898\n",
      "Epoch 67/100\n",
      "53/53 [==============================] - 612s 12s/step - loss: 11.9388 - val_loss: 12.6347\n",
      "Epoch 68/100\n",
      "53/53 [==============================] - 613s 12s/step - loss: 12.0751 - val_loss: 12.4544\n",
      "Epoch 69/100\n",
      "53/53 [==============================] - 613s 12s/step - loss: 11.9250 - val_loss: 12.4745\n",
      "Epoch 70/100\n",
      "53/53 [==============================] - 614s 12s/step - loss: 11.8977 - val_loss: 12.4398\n",
      "Epoch 71/100\n",
      "53/53 [==============================] - 613s 12s/step - loss: 11.9405 - val_loss: 12.4154\n",
      "Epoch 72/100\n",
      "53/53 [==============================] - 612s 12s/step - loss: 11.8963 - val_loss: 12.7212\n",
      "Epoch 73/100\n",
      "53/53 [==============================] - 614s 12s/step - loss: 11.9419 - val_loss: 12.3004\n",
      "Epoch 74/100\n",
      "53/53 [==============================] - 613s 12s/step - loss: 11.8659 - val_loss: 12.5595\n",
      "Epoch 75/100\n",
      "53/53 [==============================] - 614s 12s/step - loss: 11.7728 - val_loss: 12.2169\n",
      "Epoch 76/100\n",
      "53/53 [==============================] - 612s 12s/step - loss: 11.8586 - val_loss: 12.3935\n",
      "Epoch 77/100\n",
      "53/53 [==============================] - 612s 12s/step - loss: 11.7210 - val_loss: 12.2979\n",
      "Epoch 78/100\n",
      "53/53 [==============================] - 613s 12s/step - loss: 11.7144 - val_loss: 12.5203\n",
      "Epoch 79/100\n",
      "53/53 [==============================] - 612s 12s/step - loss: 11.7813 - val_loss: 12.3468\n"
     ]
    },
    {
     "name": "stdout",
     "output_type": "stream",
     "text": [
      "Epoch 80/100\n",
      "53/53 [==============================] - 614s 12s/step - loss: 11.7436 - val_loss: 12.5992\n",
      "Epoch 81/100\n",
      "53/53 [==============================] - 617s 12s/step - loss: 11.7267 - val_loss: 12.4299\n",
      "Epoch 82/100\n",
      "53/53 [==============================] - 613s 12s/step - loss: 11.7339 - val_loss: 12.0873\n",
      "Epoch 83/100\n",
      "53/53 [==============================] - 611s 12s/step - loss: 11.7277 - val_loss: 12.9760\n",
      "Epoch 84/100\n",
      "53/53 [==============================] - 613s 12s/step - loss: 11.7575 - val_loss: 12.0321\n",
      "Epoch 85/100\n",
      "53/53 [==============================] - 612s 12s/step - loss: 11.6297 - val_loss: 11.8464\n",
      "Epoch 86/100\n",
      "53/53 [==============================] - 613s 12s/step - loss: 11.5333 - val_loss: 12.4874\n",
      "Epoch 87/100\n",
      "53/53 [==============================] - 612s 12s/step - loss: 11.6258 - val_loss: 12.1598\n",
      "Epoch 88/100\n",
      "53/53 [==============================] - 612s 12s/step - loss: 11.6126 - val_loss: 11.9761\n",
      "Epoch 89/100\n",
      "53/53 [==============================] - 612s 12s/step - loss: 11.5817 - val_loss: 12.4736\n",
      "Epoch 90/100\n",
      "53/53 [==============================] - 614s 12s/step - loss: 11.5643 - val_loss: 12.2622\n",
      "Epoch 91/100\n",
      "53/53 [==============================] - 612s 12s/step - loss: 11.4088 - val_loss: 12.1859\n",
      "Epoch 92/100\n",
      "53/53 [==============================] - 613s 12s/step - loss: 11.4888 - val_loss: 12.3556\n",
      "Epoch 93/100\n",
      "53/53 [==============================] - 613s 12s/step - loss: 11.4690 - val_loss: 11.9807\n",
      "Epoch 94/100\n",
      "53/53 [==============================] - 612s 12s/step - loss: 11.4548 - val_loss: 11.9117\n",
      "Epoch 95/100\n",
      "53/53 [==============================] - 614s 12s/step - loss: 11.4569 - val_loss: 12.1120\n",
      "Epoch 96/100\n",
      "53/53 [==============================] - 613s 12s/step - loss: 11.3635 - val_loss: 11.9923\n",
      "Epoch 97/100\n",
      "53/53 [==============================] - 615s 12s/step - loss: 11.5162 - val_loss: 11.5284\n",
      "Epoch 98/100\n",
      "53/53 [==============================] - 614s 12s/step - loss: 11.3460 - val_loss: 11.8654\n",
      "Epoch 99/100\n",
      "53/53 [==============================] - 614s 12s/step - loss: 11.4166 - val_loss: 11.4716\n",
      "Epoch 100/100\n",
      "53/53 [==============================] - 612s 12s/step - loss: 11.3449 - val_loss: 12.4448\n"
     ]
    }
   ],
   "source": [
    "model.compile(optimizer=Adam(), loss={ # Removing learning_rate because of gradient explosion\n",
    "    # use custom yolo_loss Lambda layer.\n",
    "    'yolo_loss': lambda y_true, y_pred: y_pred})\n",
    "\n",
    "batch_size = 32\n",
    "print('Train on {} samples, val on {} samples, with batch size {}.'.format(num_train, num_val, batch_size))\n",
    "\n",
    "history = model.fit(data_generator_wrapper(lines[:num_train], batch_size, input_shape, anchors, num_classes),\n",
    "        steps_per_epoch=max(1, num_train//batch_size),\n",
    "        validation_data=data_generator_wrapper(lines[num_train:], batch_size, input_shape, anchors, num_classes),\n",
    "        validation_steps=max(1, num_val//batch_size),\n",
    "        epochs=100,\n",
    "        initial_epoch=0,\n",
    "        verbose=1)\n",
    "\n",
    "model.save_weights(log_dir + 'yolo3_weights_trained_1910_epoch_100.h5')"
   ]
  },
  {
   "cell_type": "code",
   "execution_count": 4,
   "id": "3ec85b20",
   "metadata": {},
   "outputs": [
    {
     "name": "stdout",
     "output_type": "stream",
     "text": [
      "dict_keys(['loss', 'val_loss'])\n"
     ]
    },
    {
     "data": {
      "text/plain": [
       "<matplotlib.legend.Legend at 0x7f49121b5a00>"
      ]
     },
     "execution_count": 4,
     "metadata": {},
     "output_type": "execute_result"
    },
    {
     "data": {
      "image/png": "[encoded data removed]",
      "text/plain": [
       "<Figure size 432x288 with 1 Axes>"
      ]
     },
     "metadata": {
      "needs_background": "light"
     },
     "output_type": "display_data"
    }
   ],
   "source": [
    "# dataset=1910, freeze=1, epochs=100\n",
    "\n",
    "import matplotlib.pyplot as plt\n",
    "\n",
    "print(history.history.keys())\n",
    "loss = history.history['loss']\n",
    "val_loss = history.history['val_loss']\n",
    "epochs = range(1, len(loss) + 1)\n",
    "\n",
    "# bo = 파란색 점\n",
    "plt.plot(epochs, loss, 'bo', label='Training loss') # plot x and y using blue circle markers\n",
    "# b = 파란색 실선\n",
    "plt.plot(epochs, val_loss, 'b+', label='Validation val_loss')\n",
    "plt.title('Training and validation loss')\n",
    "plt.xlabel('Epochs')\n",
    "plt.ylabel('Loss')\n",
    "plt.legend()"
   ]
  },
  {
   "cell_type": "code",
   "execution_count": 4,
   "id": "3f7c3710",
   "metadata": {
    "scrolled": true
   },
   "outputs": [
    {
     "name": "stdout",
     "output_type": "stream",
     "text": [
      "dict_keys(['loss', 'val_loss'])\n"
     ]
    },
    {
     "data": {
      "text/plain": [
       "<matplotlib.legend.Legend at 0x7fb6719170a0>"
      ]
     },
     "execution_count": 4,
     "metadata": {},
     "output_type": "execute_result"
    },
    {
     "data": {
      "image/png": "[encoded data removed]",
      "text/plain": [
       "<Figure size 432x288 with 1 Axes>"
      ]
     },
     "metadata": {
      "needs_background": "light"
     },
     "output_type": "display_data"
    }
   ],
   "source": [
    "# dataset=1910, freeze=1, epochs=10 (Gradient Explosion)\n",
    "\n",
    "import matplotlib.pyplot as plt\n",
    "\n",
    "print(history.history.keys())\n",
    "loss = history.history['loss']\n",
    "val_loss = history.history['val_loss']\n",
    "epochs = range(1, len(loss) + 1)\n",
    "\n",
    "# bo = 파란색 점\n",
    "plt.plot(epochs, loss, 'bo', label='Training loss') # plot x and y using blue circle markers\n",
    "# b = 파란색 실선\n",
    "plt.plot(epochs, val_loss, 'b+', label='Validation val_loss')\n",
    "plt.title('Training and validation loss')\n",
    "plt.xlabel('Epochs')\n",
    "plt.ylabel('Loss')\n",
    "plt.legend()"
   ]
  },
  {
   "cell_type": "code",
   "execution_count": 4,
   "id": "88cf166d",
   "metadata": {},
   "outputs": [
    {
     "name": "stdout",
     "output_type": "stream",
     "text": [
      "dict_keys(['loss', 'val_loss'])\n"
     ]
    },
    {
     "data": {
      "text/plain": [
       "<matplotlib.legend.Legend at 0x7f42a74c27c0>"
      ]
     },
     "execution_count": 4,
     "metadata": {},
     "output_type": "execute_result"
    },
    {
     "data": {
      "image/png": "[encoded data removed]",
      "text/plain": [
       "<Figure size 432x288 with 1 Axes>"
      ]
     },
     "metadata": {
      "needs_background": "light"
     },
     "output_type": "display_data"
    }
   ],
   "source": [
    "# dataset=20, freeze=1, epochs=100\n",
    "\n",
    "import matplotlib.pyplot as plt\n",
    "\n",
    "print(history.history.keys())\n",
    "loss = history.history['loss']\n",
    "val_loss = history.history['val_loss']\n",
    "epochs = range(1, len(loss) + 1)\n",
    "\n",
    "# bo = 파란색 점\n",
    "plt.plot(epochs, loss, 'bo', label='Training loss') # plot x and y using blue circle markers\n",
    "# b = 파란색 실선\n",
    "plt.plot(epochs, val_loss, 'b', label='Validation val_loss')\n",
    "plt.title('Training and validation loss')\n",
    "plt.xlabel('Epochs')\n",
    "plt.ylabel('Loss')\n",
    "plt.legend()"
   ]
  },
  {
   "cell_type": "code",
   "execution_count": null,
   "id": "dbb6cab4",
   "metadata": {},
   "outputs": [],
   "source": []
  }
 ],
 "metadata": {
  "kernelspec": {
   "display_name": "Python 3 (ipykernel)",
   "language": "python",
   "name": "python3"
  },
  "language_info": {
   "codemirror_mode": {
    "name": "ipython",
    "version": 3
   },
   "file_extension": ".py",
   "mimetype": "text/x-python",
   "name": "python",
   "nbconvert_exporter": "python",
   "pygments_lexer": "ipython3",
   "version": "3.9.12"
  },
  "vscode": {
   "interpreter": {
    "hash": "ad2bdc8ecc057115af97d19610ffacc2b4e99fae6737bb82f5d7fb13d2f2c186"
   }
  }
 },
 "nbformat": 4,
 "nbformat_minor": 5
}
