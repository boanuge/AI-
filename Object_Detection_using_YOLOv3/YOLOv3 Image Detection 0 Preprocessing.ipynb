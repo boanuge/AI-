{
 "cells": [
  {
   "cell_type": "code",
   "execution_count": null,
   "id": "86b509e7",
   "metadata": {},
   "outputs": [],
   "source": [
    "# https://medium.com/analytics-vidhya/training-yolo-with-keras-85c33cdefe21\n",
    "'''\n",
    "Since these images are of different sizes. Let’s get this fixed.\n",
    "Below is a small script which will convert all images with dimensions (624*832*3) and store in ‘data_for_labeling’ folder.\n",
    "'''\n",
    "\n",
    "import os\n",
    "import cv2\n",
    "\n",
    "def prep_small_images():\n",
    "   myimages = os.path.join(os.getcwd(), \"data_for_training\")\n",
    "   print(myimages)\n",
    "   for img in os.listdir(myimages):\n",
    "      image_path = cv2.imread(os.path.join(myimages,img))\n",
    "      image_path = cv2.resize(image_path,(624,832))\n",
    "      print(image_path.shape)\n",
    "      cv2.imwrite(os.path.join(os.getcwd(), \"data_for_labeling\", img), image_path)\n",
    "\n",
    "prep_small_images()"
   ]
  },
  {
   "cell_type": "code",
   "execution_count": null,
   "id": "3cbc3ddd",
   "metadata": {},
   "outputs": [],
   "source": [
    "# Need to use 'YOLO_v3_Labelling_Tool'\n",
    "# https://github.com/developer0hye/Yolo_Label\n",
    "# class.names 파일 내 Gcooter 한줄 작성\n",
    "# YOLO_v3_Label_v1.1.1 폴더 내 YoloLabel.exe 실행 (각 이미지당 라벨 1개만)"
   ]
  },
  {
   "cell_type": "code",
   "execution_count": null,
   "id": "d41b7c4c",
   "metadata": {},
   "outputs": [],
   "source": [
    "# https://medium.com/analytics-vidhya/training-yolo-with-keras-85c33cdefe21\n",
    "'''\n",
    "Now, their will be various txt files created for each image with the bounding box information.\n",
    "Run the below script to prepare one single txt file for all your annotations along with the path to your images.\n",
    "Remember, I am having just one bounding box in each image.\n",
    "'''\n",
    "\n",
    "import os\n",
    "import cv2\n",
    "\n",
    "def prep_train_txt():\n",
    "   width = 624\n",
    "   height = 832\n",
    "   small_images = os.path.join(os.getcwd(), 'data_labeled') # 라벨링된 사진들 폴더 (총 3군데 변경필요)\n",
    "   file_object = open('yolo_train.txt', 'a')\n",
    "   for img in os.listdir(small_images):\n",
    "      if img[-3:] == 'txt':\n",
    "         with open(os.path.join(small_images, img)) as f:\n",
    "            lines = f.readlines()\n",
    "            #print(lines)\n",
    "            ans = lines[0]\n",
    "            line = ans.split(' ')\n",
    "            x1 , y1 , w , h = float(line[1]), float(line[2]), float(line[3]), float(line[4][:-1])\n",
    "            x1 , y1 , w , h = x1 - w/2 , y1 - h/2 , w , h\n",
    "            x1 , y1 , w , h = int(x1*width), int(y1*height), int(w*width), int(h*height)\n",
    "            nameee = img[:-3] + 'jpg'\n",
    "            img_name = os.path.join('data_labeled', nameee)\n",
    "            img_name = cv2.imread(img_name)\n",
    "            text = 'data_labeled/' + nameee + ' ' + str(x1) + ',' + str(y1) + ',' + str(x1+w) + ',' + str(y1+h) + ',' + str(0) + '\\n' #class = 0 (only)\n",
    "            file_object.write(text)\n",
    "\n",
    "prep_train_txt()"
   ]
  },
  {
   "cell_type": "code",
   "execution_count": null,
   "id": "fbdaa589",
   "metadata": {},
   "outputs": [],
   "source": [
    "# yolo_train.txt\n",
    "'''\n",
    "images_resized/1000000_1617255611398.jpg 185,290,378,569,0\n",
    "images_resized/1000000_1617261594821.jpg 46,266,511,688,0\n",
    "'''"
   ]
  }
 ],
 "metadata": {
  "kernelspec": {
   "display_name": "Python 3 (ipykernel)",
   "language": "python",
   "name": "python3"
  },
  "language_info": {
   "codemirror_mode": {
    "name": "ipython",
    "version": 3
   },
   "file_extension": ".py",
   "mimetype": "text/x-python",
   "name": "python",
   "nbconvert_exporter": "python",
   "pygments_lexer": "ipython3",
   "version": "3.9.12"
  },
  "vscode": {
   "interpreter": {
    "hash": "ad2bdc8ecc057115af97d19610ffacc2b4e99fae6737bb82f5d7fb13d2f2c186"
   }
  }
 },
 "nbformat": 4,
 "nbformat_minor": 5
}
