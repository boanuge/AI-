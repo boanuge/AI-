{
 "cells": [
  {
   "cell_type": "code",
   "execution_count": 11,
   "id": "6a1b48d5",
   "metadata": {
    "scrolled": false
   },
   "outputs": [
    {
     "name": "stdout",
     "output_type": "stream",
     "text": [
      "There is no GPU to use.\n",
      " @ CDT(2023-06-21T14:03:09.653859)\n",
      "WARNING:tensorflow:Compiled the loaded model, but the compiled metrics have yet to be built. `model.compile_metrics` will be empty until you train or evaluate the model.\n",
      " @ CDT(2023-06-21T14:03:20.753616)\n"
     ]
    }
   ],
   "source": [
    "model_path = '테스트모델(K오류).h5'\n",
    "model_path_inference = '테스트모델(추론용).h5'\n",
    "\n",
    "annotation_path = './yolo_train.txt'\n",
    "classes_path = './yolo_classes.txt'\n",
    "anchors_path = './yolo_anchors.txt'\n",
    "\n",
    "import os # Protocol Buffers to use Python rather than C++\n",
    "os.environ['PROTOCOL_BUFFERS_PYTHON_IMPLEMENTATION'] = 'python'\n",
    "\n",
    "## GPU에 할당(사용)되는 메모리 크기 제한\n",
    "import tensorflow as tf\n",
    "gpus = tf.config.experimental.list_physical_devices('GPU')\n",
    "gpu_memory_limit=1024*12 # only allocate 12GB of memory on the gpus[0], i.e. first GPU\n",
    "if gpus:\n",
    "  try:\n",
    "    tf.config.experimental.set_virtual_device_configuration(\n",
    "        gpus[0],[tf.config.experimental.VirtualDeviceConfiguration(memory_limit=gpu_memory_limit)])\n",
    "    logical_gpus = tf.config.experimental.list_logical_devices('GPU')\n",
    "    print(\"GPU memory allocation(\",gpu_memory_limit,\")\",\n",
    "          \"# of Physical GPU(\",len(gpus),\") # of Logical GPU(\",len(logical_gpus),\")\")\n",
    "  except RuntimeError as e:\n",
    "    print(e) # Virtual devices must be set before GPUs have been initialized\n",
    "else:\n",
    "   print(\"There is no GPU to use.\")\n",
    "\n",
    "import sys\n",
    "sys.path.append(\"./\")\n",
    "\n",
    "import tensorflow as tf\n",
    "import numpy as np\n",
    "from keras.layers import Input, Lambda\n",
    "from keras.models import Model\n",
    "\n",
    "from yolo3_model_for_training import yolo_body, yolo_loss\n",
    "\n",
    "# Print the current date and time in the format:\n",
    "# \"YYYY-MM-DD HH:MM:SS.microseconds\"\n",
    "import datetime\n",
    "def print_current_datetime(text=\"\"):\n",
    "    datetime_string = datetime.datetime.now().strftime(\"%Y-%m-%dT%H:%M:%S.%f\")\n",
    "    print(\"{} @ CDT({})\".format(text,datetime_string))\n",
    "\n",
    "print_current_datetime()\n",
    "\n",
    "def yolo3_model_to_convert(input_shape, anchors, num_classes):\n",
    "\n",
    "    image_input = Input(shape=(None, None, 3))\n",
    "    num_anchors = len(anchors)\n",
    "\n",
    "    model_body = yolo_body(image_input, num_anchors//3, num_classes)\n",
    "\n",
    "    h, w = input_shape\n",
    "    y_true = [Input(shape=(h//{0:32, 1:16, 2:8}[l], w//{0:32, 1:16, 2:8}[l], num_anchors//3, num_classes+5)) for l in range(3)]\n",
    "\n",
    "    model_loss = Lambda(yolo_loss, output_shape=(1,), name='yolo_loss',\n",
    "        arguments={'anchors': anchors, 'num_classes': num_classes, 'ignore_thresh': 0.5})([*model_body.output, *y_true])\n",
    "    model = Model([model_body.input, *y_true], model_loss)\n",
    "\n",
    "    return model\n",
    "\n",
    "def get_classes(classes_path):\n",
    "    with open(classes_path) as f:\n",
    "        class_names = f.readlines()\n",
    "    class_names = [c.strip() for c in class_names]\n",
    "    return class_names\n",
    "\n",
    "def get_anchors(anchors_path):\n",
    "    with open(anchors_path) as f:\n",
    "        anchors = f.readline()\n",
    "    anchors = [float(x) for x in anchors.split(',')]\n",
    "    return np.array(anchors).reshape(-1, 2)\n",
    "\n",
    "class_names = get_classes(classes_path)\n",
    "num_classes = len(class_names)\n",
    "anchors = get_anchors(anchors_path)\n",
    "\n",
    "input_shape = (416,416) # multiple of 32, hw\n",
    "\n",
    "# To prevent yolo_loss() NameError: name 'K' is not defined\n",
    "inference_model = yolo_body(Input(shape=(None, None, 3)), len(anchors)//3, num_classes)\n",
    "inference_model.load_weights(model_path)\n",
    "inference_model.save(model_path_inference)\n",
    "\n",
    "print_current_datetime()"
   ]
  }
 ],
 "metadata": {
  "kernelspec": {
   "display_name": "Python 3 (ipykernel)",
   "language": "python",
   "name": "python3"
  },
  "language_info": {
   "codemirror_mode": {
    "name": "ipython",
    "version": 3
   },
   "file_extension": ".py",
   "mimetype": "text/x-python",
   "name": "python",
   "nbconvert_exporter": "python",
   "pygments_lexer": "ipython3",
   "version": "3.9.12"
  },
  "vscode": {
   "interpreter": {
    "hash": "ad2bdc8ecc057115af97d19610ffacc2b4e99fae6737bb82f5d7fb13d2f2c186"
   }
  }
 },
 "nbformat": 4,
 "nbformat_minor": 5
}
