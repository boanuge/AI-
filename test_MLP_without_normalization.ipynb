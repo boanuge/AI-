{
 "cells": [
  {
   "cell_type": "code",
   "execution_count": null,
   "id": "0f8d2b9f",
   "metadata": {},
   "outputs": [],
   "source": [
    "# ChatGPT : Please write code using keras model for price prediction.\n",
    "\n",
    "'''\n",
    "Certainly! Here is an example of how you might use Keras, a high-level neural networks API, to create a Multi-Layer Perceptron (MLP) model to predict a continuous value (e.g. price) based on some input features:\n",
    "\n",
    "This code uses the Sequential class from Keras to create a model with a single fully-connected (or dense) layer with 50 units, and an input dimension of X_train.shape[1] which is the number of features in the data. An activation function relu is used in the first dense layer to introduce non-linearity in the model.\n",
    "\n",
    "It then compiles the model with the mean squared error loss function and the Adam optimizer. The model is then fit to the training data using the fit method, with a batch size of 32 and number of epochs as 1000. After that it makes predictions on the test data using the predict method and calculates the mean squared error of the predictions to assess the model's performance.\n",
    "\n",
    "Keep in mind that this is just a simple example, and you may need to adjust the number of layers, units, and other parameters depending on the specific requirements of your problem.\n",
    "'''"
   ]
  },
  {
   "cell_type": "code",
   "execution_count": 1,
   "id": "921d248a",
   "metadata": {},
   "outputs": [
    {
     "name": "stdout",
     "output_type": "stream",
     "text": [
      "       DEWP  TEMP    PRES     Iws\n",
      "0       -21 -11.0  1021.0    1.79\n",
      "1       -21 -12.0  1020.0    4.92\n",
      "2       -21 -11.0  1019.0    6.71\n",
      "3       -21 -14.0  1019.0    9.84\n",
      "4       -20 -12.0  1018.0   12.97\n",
      "...     ...   ...     ...     ...\n",
      "43819   -23  -2.0  1034.0  231.97\n",
      "43820   -22  -3.0  1034.0  237.78\n",
      "43821   -22  -3.0  1034.0  242.70\n",
      "43822   -22  -4.0  1034.0  246.72\n",
      "43823   -21  -3.0  1034.0  249.85\n",
      "\n",
      "[43824 rows x 4 columns]\n",
      "[[ -21.    -11.   1021.      1.79]\n",
      " [ -21.    -12.   1020.      4.92]\n",
      " [ -21.    -11.   1019.      6.71]\n",
      " ...\n",
      " [ -22.     -3.   1034.    242.7 ]\n",
      " [ -22.     -4.   1034.    246.72]\n",
      " [ -21.     -3.   1034.    249.85]]\n",
      "(43824, 4)\n"
     ]
    }
   ],
   "source": [
    "from keras.models import Sequential\n",
    "from keras.layers import Dense\n",
    "from sklearn.preprocessing import MinMaxScaler\n",
    "from sklearn.model_selection import train_test_split\n",
    "from pandas import read_csv\n",
    "\n",
    "import tensorflow as tf\n",
    "import numpy as np\n",
    "\n",
    "dataframe = read_csv('pollution@beijing_5years.csv', usecols = [6,7,8,10]) # TEMP 데이터 예측\n",
    "print(dataframe)\n",
    "\n",
    "dataset = dataframe.values\n",
    "dataset = dataset.astype('float')\n",
    "print(dataset)\n",
    "\n",
    "print(dataset.shape)"
   ]
  },
  {
   "cell_type": "code",
   "execution_count": 2,
   "id": "b7a27fdf",
   "metadata": {},
   "outputs": [
    {
     "name": "stdout",
     "output_type": "stream",
     "text": [
      "[[ -21.    -11.   1021.      1.79]\n",
      " [ -21.    -12.   1020.      4.92]\n",
      " [ -21.    -11.   1019.      6.71]\n",
      " ...\n",
      " [ -22.     -3.   1034.    242.7 ]\n",
      " [ -22.     -4.   1034.    246.72]\n",
      " [ -21.     -3.   1034.    249.85]]\n",
      "[[0.27941176 0.13114754 0.54545455 0.00229001]\n",
      " [0.27941176 0.1147541  0.52727273 0.00763907]\n",
      " [0.27941176 0.13114754 0.50909091 0.01069811]\n",
      " ...\n",
      " [0.26470588 0.26229508 0.78181818 0.41399641]\n",
      " [0.26470588 0.24590164 0.78181818 0.42086644]\n",
      " [0.27941176 0.26229508 0.78181818 0.4262155 ]]\n",
      "35059 8765\n",
      "[-11. -12. -11. ...   9.   8.   8.]\n",
      "[ 7.  7.  7. ... -3. -4. -3.]\n",
      "35059 8765\n"
     ]
    }
   ],
   "source": [
    "# load dataset\n",
    "values = dataset\n",
    "print(values)\n",
    "\n",
    "# normalize features\n",
    "scaler = MinMaxScaler(feature_range=(0, 1))\n",
    "scaled_values = scaler.fit_transform(values)\n",
    "print(scaled_values)\n",
    "\n",
    "#train_data, test_data = train_test_split(scaled_values, test_size = 0.2, shuffle = False)\n",
    "train_data, test_data = train_test_split(values, test_size = 0.2, shuffle = False)\n",
    "print(len(train_data), len(test_data))\n",
    "\n",
    "# Select the column for y(label)\n",
    "y_train = train_data[:, 1] # TEMP 데이터 예측\n",
    "y_test = test_data[:, 1] # TEMP 데이터 예측\n",
    "\n",
    "print(y_train)\n",
    "print(y_test)\n",
    "print(len(y_train), len(y_test))"
   ]
  },
  {
   "cell_type": "code",
   "execution_count": 3,
   "id": "fe62b9bc",
   "metadata": {},
   "outputs": [
    {
     "name": "stdout",
     "output_type": "stream",
     "text": [
      "(35059, 4) (35059,)\n",
      "(8765, 4) (8765,)\n"
     ]
    }
   ],
   "source": [
    "# Define the model\n",
    "model = Sequential()\n",
    "model.add(Dense(32, activation='relu', input_shape=(train_data.shape[1],)))\n",
    "model.add(Dense(32, activation='relu'))\n",
    "model.add(Dense(1))\n",
    "\n",
    "# Compile the model\n",
    "model.compile(optimizer='adam', loss='mean_squared_error')\n",
    "\n",
    "print(train_data.shape, y_train.shape)\n",
    "print(test_data.shape, y_test.shape)"
   ]
  },
  {
   "cell_type": "code",
   "execution_count": 4,
   "id": "6532a6b9",
   "metadata": {},
   "outputs": [
    {
     "name": "stdout",
     "output_type": "stream",
     "text": [
      "Epoch 1/20\n",
      "1096/1096 [==============================] - 2s 2ms/step - loss: 874.0278\n",
      "Epoch 2/20\n",
      "1096/1096 [==============================] - 2s 1ms/step - loss: 4.4967\n",
      "Epoch 3/20\n",
      "1096/1096 [==============================] - 2s 1ms/step - loss: 0.3653\n",
      "Epoch 4/20\n",
      "1096/1096 [==============================] - 2s 1ms/step - loss: 0.0390\n",
      "Epoch 5/20\n",
      "1096/1096 [==============================] - 2s 1ms/step - loss: 0.0249\n",
      "Epoch 6/20\n",
      "1096/1096 [==============================] - 2s 1ms/step - loss: 0.0201\n",
      "Epoch 7/20\n",
      "1096/1096 [==============================] - 2s 1ms/step - loss: 0.0421\n",
      "Epoch 8/20\n",
      "1096/1096 [==============================] - 2s 1ms/step - loss: 0.3138\n",
      "Epoch 9/20\n",
      "1096/1096 [==============================] - 2s 2ms/step - loss: 0.3482\n",
      "Epoch 10/20\n",
      "1096/1096 [==============================] - 2s 2ms/step - loss: 0.3492\n",
      "Epoch 11/20\n",
      "1096/1096 [==============================] - 2s 2ms/step - loss: 0.3483\n",
      "Epoch 12/20\n",
      "1096/1096 [==============================] - 2s 2ms/step - loss: 0.3058\n",
      "Epoch 13/20\n",
      "1096/1096 [==============================] - 2s 2ms/step - loss: 0.3065\n",
      "Epoch 14/20\n",
      "1096/1096 [==============================] - 2s 2ms/step - loss: 0.2901\n",
      "Epoch 15/20\n",
      "1096/1096 [==============================] - 2s 2ms/step - loss: 0.2806\n",
      "Epoch 16/20\n",
      "1096/1096 [==============================] - 2s 2ms/step - loss: 0.2786\n",
      "Epoch 17/20\n",
      "1096/1096 [==============================] - 2s 2ms/step - loss: 0.2587\n",
      "Epoch 18/20\n",
      "1096/1096 [==============================] - 2s 2ms/step - loss: 0.2354\n",
      "Epoch 19/20\n",
      "1096/1096 [==============================] - 2s 2ms/step - loss: 0.2401\n",
      "Epoch 20/20\n",
      "1096/1096 [==============================] - 2s 2ms/step - loss: 0.2380\n"
     ]
    }
   ],
   "source": [
    "# Train the model\n",
    "history = model.fit(train_data, y_train, epochs=20, batch_size=32, verbose=1)"
   ]
  },
  {
   "cell_type": "code",
   "execution_count": 5,
   "id": "701c3576",
   "metadata": {
    "scrolled": true
   },
   "outputs": [
    {
     "name": "stdout",
     "output_type": "stream",
     "text": [
      "dict_keys(['loss'])\n"
     ]
    },
    {
     "data": {
      "text/plain": [
       "<matplotlib.legend.Legend at 0x28d3eff6e50>"
      ]
     },
     "execution_count": 5,
     "metadata": {},
     "output_type": "execute_result"
    },
    {
     "data": {
      "image/png": "[encoded data removed]",
      "text/plain": [
       "<Figure size 432x288 with 1 Axes>"
      ]
     },
     "metadata": {
      "needs_background": "light"
     },
     "output_type": "display_data"
    }
   ],
   "source": [
    "import matplotlib.pyplot as plt\n",
    "\n",
    "print(history.history.keys())\n",
    "loss = history.history['loss']\n",
    "epochs = range(1, len(loss) + 1)\n",
    "\n",
    "# bo = 파란색 점\n",
    "plt.plot(epochs, loss, 'bo', label='Training loss') # plot x and y using blue circle markers\n",
    "plt.title('Training and validation loss')\n",
    "plt.xlabel('Epochs')\n",
    "plt.ylabel('Loss')\n",
    "plt.legend()"
   ]
  },
  {
   "cell_type": "code",
   "execution_count": 6,
   "id": "16100a96",
   "metadata": {},
   "outputs": [
    {
     "name": "stdout",
     "output_type": "stream",
     "text": [
      "274/274 [==============================] - 1s 2ms/step\n",
      "[[ 6.984759 ]\n",
      " [ 6.9811196]\n",
      " [ 6.980948 ]\n",
      " ...\n",
      " [-3.020887 ]\n",
      " [-4.020471 ]\n",
      " [-3.0193992]]\n",
      "[ 7.  7.  7. ... -3. -4. -3.]\n",
      "[0.01524115] error, [99.78227] % accuracy\n"
     ]
    }
   ],
   "source": [
    "# Make predictions on the test data\n",
    "predictions = model.predict(test_data)\n",
    "\n",
    "print(predictions)\n",
    "print(y_test)\n",
    "\n",
    "value_error = np.absolute(predictions[0] - y_test[0])\n",
    "\n",
    "value_percent = 100 - (value_error * 100 / y_test[0])\n",
    "\n",
    "print(value_error, \"error,\", value_percent, \"% accuracy\")"
   ]
  },
  {
   "cell_type": "code",
   "execution_count": 7,
   "id": "8425685b",
   "metadata": {},
   "outputs": [
    {
     "name": "stdout",
     "output_type": "stream",
     "text": [
      "274/274 [==============================] - 0s 2ms/step\n",
      "Mean squared error: 271.5470693300159\n"
     ]
    }
   ],
   "source": [
    "# Make predictions on the test data\n",
    "predictions = model.predict(test_data)\n",
    "\n",
    "# Calculate the mean squared error of the predictions\n",
    "mse = ((predictions - y_test) ** 2).mean()\n",
    "\n",
    "print(\"Mean squared error:\", mse)"
   ]
  },
  {
   "cell_type": "code",
   "execution_count": null,
   "id": "f06ee999",
   "metadata": {},
   "outputs": [],
   "source": []
  }
 ],
 "metadata": {
  "kernelspec": {
   "display_name": "Python 3 (ipykernel)",
   "language": "python",
   "name": "python3"
  },
  "language_info": {
   "codemirror_mode": {
    "name": "ipython",
    "version": 3
   },
   "file_extension": ".py",
   "mimetype": "text/x-python",
   "name": "python",
   "nbconvert_exporter": "python",
   "pygments_lexer": "ipython3",
   "version": "3.9.12"
  }
 },
 "nbformat": 4,
 "nbformat_minor": 5
}
