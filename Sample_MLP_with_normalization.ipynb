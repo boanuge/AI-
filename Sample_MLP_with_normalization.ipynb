{
 "cells": [
  {
   "cell_type": "code",
   "execution_count": 1,
   "id": "921d248a",
   "metadata": {},
   "outputs": [
    {
     "name": "stdout",
     "output_type": "stream",
     "text": [
      "       DEWP  TEMP    PRES     Iws\n",
      "0       -21 -11.0  1021.0    1.79\n",
      "1       -21 -12.0  1020.0    4.92\n",
      "2       -21 -11.0  1019.0    6.71\n",
      "3       -21 -14.0  1019.0    9.84\n",
      "4       -20 -12.0  1018.0   12.97\n",
      "...     ...   ...     ...     ...\n",
      "43819   -23  -2.0  1034.0  231.97\n",
      "43820   -22  -3.0  1034.0  237.78\n",
      "43821   -22  -3.0  1034.0  242.70\n",
      "43822   -22  -4.0  1034.0  246.72\n",
      "43823   -21  -3.0  1034.0  249.85\n",
      "\n",
      "[43824 rows x 4 columns]\n",
      "[[ -21.    -11.   1021.      1.79]\n",
      " [ -21.    -12.   1020.      4.92]\n",
      " [ -21.    -11.   1019.      6.71]\n",
      " ...\n",
      " [ -22.     -3.   1034.    242.7 ]\n",
      " [ -22.     -4.   1034.    246.72]\n",
      " [ -21.     -3.   1034.    249.85]]\n",
      "(43824, 4)\n"
     ]
    }
   ],
   "source": [
    "from keras.models import Sequential\n",
    "from keras.layers import Dense\n",
    "from sklearn.preprocessing import MinMaxScaler\n",
    "from sklearn.model_selection import train_test_split\n",
    "from pandas import read_csv\n",
    "\n",
    "import tensorflow as tf\n",
    "import numpy as np\n",
    "\n",
    "dataframe = read_csv('weather@beijing_5years.csv', usecols = [6,7,8,10]) # TEMP 데이터 예측\n",
    "print(dataframe)\n",
    "\n",
    "dataset = dataframe.values\n",
    "dataset = dataset.astype('float')\n",
    "\n",
    "print(dataset)\n",
    "print(dataset.shape)"
   ]
  },
  {
   "cell_type": "code",
   "execution_count": 39,
   "id": "b7a27fdf",
   "metadata": {},
   "outputs": [
    {
     "name": "stdout",
     "output_type": "stream",
     "text": [
      "35059 8765\n",
      "[[ -21.   1021.      1.79]\n",
      " [ -21.   1020.      4.92]\n",
      " [ -21.   1019.      6.71]\n",
      " ...\n",
      " [ -18.   1012.     92.97]\n",
      " [ -19.   1012.    102.8 ]\n",
      " [ -19.   1013.    109.95]]\n",
      "(35059, 3)\n",
      "[[ -19.   1013.    114.87]\n",
      " [ -21.   1014.    119.79]\n",
      " [ -21.   1014.    125.6 ]\n",
      " ...\n",
      " [ -22.   1034.    242.7 ]\n",
      " [ -22.   1034.    246.72]\n",
      " [ -21.   1034.    249.85]]\n",
      "(8765, 3)\n",
      "[-11. -12. -11. ...   9.   8.   8.]\n",
      "(35059,)\n",
      "[ 7.  7.  7. ... -3. -4. -3.]\n",
      "(8765,)\n"
     ]
    }
   ],
   "source": [
    "train_data, test_data = train_test_split(dataset, test_size = 0.2, shuffle = False)\n",
    "print(len(train_data), len(test_data))\n",
    "\n",
    "# Select the columns for x\n",
    "train_x = train_data[:,[0,2,3]] # TEMP 데이터 제외 (두번째 열)\n",
    "test_x = test_data[:,[0,2,3]] # TEMP 데이터 제외 (두번째 열)\n",
    "\n",
    "print(train_x)\n",
    "print(train_x.shape)\n",
    "print(test_x)\n",
    "print(test_x.shape)\n",
    "\n",
    "# Select the column for y(label)\n",
    "train_y = train_data[:, 1] # TEMP 데이터 예측 (두번째 열)\n",
    "test_y = test_data[:, 1] # TEMP 데이터 예측 (두번째 열)\n",
    "\n",
    "print(train_y)\n",
    "print(train_y.shape)\n",
    "print(test_y)\n",
    "print(test_y.shape)"
   ]
  },
  {
   "cell_type": "code",
   "execution_count": 40,
   "id": "bb71d920",
   "metadata": {
    "scrolled": true
   },
   "outputs": [
    {
     "name": "stdout",
     "output_type": "stream",
     "text": [
      "[[0.19672131 0.54545455 0.00229001]\n",
      " [0.19672131 0.52727273 0.00763907]\n",
      " [0.19672131 0.50909091 0.01069811]\n",
      " ...\n",
      " [0.24590164 0.38181818 0.1581133 ]\n",
      " [0.2295082  0.38181818 0.17491242]\n",
      " [0.2295082  0.4        0.1871315 ]]\n",
      "(35059, 3)\n",
      "[[0.13333333]\n",
      " [0.11666667]\n",
      " [0.13333333]\n",
      " ...\n",
      " [0.46666667]\n",
      " [0.45      ]\n",
      " [0.45      ]]\n",
      "(35059, 1)\n"
     ]
    }
   ],
   "source": [
    "# Normalize features\n",
    "scaler_x = MinMaxScaler(feature_range=(0, 1))\n",
    "scaler_y = MinMaxScaler(feature_range=(0, 1))\n",
    "\n",
    "scaled_train_x = scaler_x.fit_transform(train_x)\n",
    "scaled_train_y = scaler_y.fit_transform(train_y.reshape(-1,1))\n",
    "scaled_test_x = scaler_x.fit_transform(test_x)\n",
    "scaled_test_y = scaler_y.fit_transform(test_y.reshape(-1,1))\n",
    "\n",
    "print(scaled_train_x)\n",
    "print(scaled_train_x.shape)\n",
    "print(scaled_train_y)\n",
    "print(scaled_train_y.shape)"
   ]
  },
  {
   "cell_type": "code",
   "execution_count": 25,
   "id": "fe62b9bc",
   "metadata": {},
   "outputs": [],
   "source": [
    "# Create the model\n",
    "model = Sequential()\n",
    "\n",
    "model.add(Dense(32, activation='relu', input_shape=(scaled_train_x.shape[1],)))\n",
    "model.add(Dense(16, activation='relu'))\n",
    "model.add(Dense(1))\n",
    "\n",
    "model.compile(optimizer='adam', loss='mse')"
   ]
  },
  {
   "cell_type": "code",
   "execution_count": 26,
   "id": "6532a6b9",
   "metadata": {},
   "outputs": [
    {
     "name": "stdout",
     "output_type": "stream",
     "text": [
      "Epoch 1/10\n",
      "1096/1096 [==============================] - 1s 1ms/step - loss: 0.0258\n",
      "Epoch 2/10\n",
      "1096/1096 [==============================] - 1s 996us/step - loss: 0.0089\n",
      "Epoch 3/10\n",
      "1096/1096 [==============================] - 1s 1ms/step - loss: 0.0088\n",
      "Epoch 4/10\n",
      "1096/1096 [==============================] - 1s 1ms/step - loss: 0.0087\n",
      "Epoch 5/10\n",
      "1096/1096 [==============================] - 1s 1ms/step - loss: 0.0087\n",
      "Epoch 6/10\n",
      "1096/1096 [==============================] - 1s 1ms/step - loss: 0.0086\n",
      "Epoch 7/10\n",
      "1096/1096 [==============================] - 1s 995us/step - loss: 0.0085\n",
      "Epoch 8/10\n",
      "1096/1096 [==============================] - 1s 989us/step - loss: 0.0085\n",
      "Epoch 9/10\n",
      "1096/1096 [==============================] - 1s 1ms/step - loss: 0.0085\n",
      "Epoch 10/10\n",
      "1096/1096 [==============================] - 1s 991us/step - loss: 0.0084\n"
     ]
    }
   ],
   "source": [
    "# Train the model\n",
    "history = model.fit(scaled_train_x, scaled_train_y, epochs=10, batch_size=32, verbose=1)"
   ]
  },
  {
   "cell_type": "code",
   "execution_count": 27,
   "id": "701c3576",
   "metadata": {
    "scrolled": true
   },
   "outputs": [
    {
     "name": "stdout",
     "output_type": "stream",
     "text": [
      "dict_keys(['loss'])\n"
     ]
    },
    {
     "data": {
      "text/plain": [
       "<matplotlib.legend.Legend at 0x17f24b92c40>"
      ]
     },
     "execution_count": 27,
     "metadata": {},
     "output_type": "execute_result"
    },
    {
     "data": {
      "image/png": "[encoded data removed]",
      "text/plain": [
       "<Figure size 432x288 with 1 Axes>"
      ]
     },
     "metadata": {
      "needs_background": "light"
     },
     "output_type": "display_data"
    }
   ],
   "source": [
    "import matplotlib.pyplot as plt\n",
    "\n",
    "print(history.history.keys())\n",
    "loss = history.history['loss']\n",
    "epochs = range(1, len(loss) + 1)\n",
    "\n",
    "# bo = 파란색 점\n",
    "plt.plot(epochs, loss, 'bo', label='Training loss') # plot x and y using blue circle markers\n",
    "plt.title('Training and validation loss')\n",
    "plt.xlabel('Epochs')\n",
    "plt.ylabel('Loss')\n",
    "plt.legend()"
   ]
  },
  {
   "cell_type": "code",
   "execution_count": 32,
   "id": "3a1af584",
   "metadata": {},
   "outputs": [
    {
     "name": "stdout",
     "output_type": "stream",
     "text": [
      "274/274 [==============================] - 0s 773us/step\n",
      "[[0.50289243]\n",
      " [0.47488227]\n",
      " [0.47479814]\n",
      " ...\n",
      " [0.22087592]\n",
      " [0.2199961 ]\n",
      " [0.22230351]]\n",
      "[[14.659083  ]\n",
      " [13.1185255 ]\n",
      " [13.113898  ]\n",
      " ...\n",
      " [-0.85182446]\n",
      " [-0.9002148 ]\n",
      " [-0.77330697]]\n",
      "[[ 7.]\n",
      " [ 7.]\n",
      " [ 7.]\n",
      " ...\n",
      " [-3.]\n",
      " [-4.]\n",
      " [-3.]]\n",
      "[[ -22.     -3.   1034.    242.7 ]\n",
      " [ -22.     -4.   1034.    246.72]\n",
      " [ -21.     -3.   1034.    249.85]]\n"
     ]
    }
   ],
   "source": [
    "# Make predictions on the test data\n",
    "predictions = model.predict(scaled_test_x)\n",
    "\n",
    "print(predictions)\n",
    "\n",
    "# invert normalized value\n",
    "inverted_predictions = scaler_y.inverse_transform(predictions)\n",
    "inverted_test_y = scaler_y.inverse_transform(scaled_test_y)\n",
    "\n",
    "print(inverted_predictions)\n",
    "print(inverted_test_y)\n",
    "\n",
    "print(dataset[-3:]) # Get last 3 rows from the dataset"
   ]
  },
  {
   "cell_type": "code",
   "execution_count": 35,
   "id": "8425685b",
   "metadata": {},
   "outputs": [
    {
     "name": "stdout",
     "output_type": "stream",
     "text": [
      "(Scaled) Mean Squared Error: 0.01076668542852926\n",
      "(Inverted) Mean Squared Error: 32.569222114651744\n"
     ]
    }
   ],
   "source": [
    "# Calculate the mean squared error of the predictions\n",
    "scaled_mse_error = ((predictions - scaled_test_y) ** 2).mean()\n",
    "\n",
    "print(\"(Scaled) Mean Squared Error:\", scaled_mse_error)\n",
    "\n",
    "# Calculate the mean squared error of the predictions\n",
    "inverted_mse_error = ((inverted_predictions - inverted_test_y) ** 2).mean()\n",
    "\n",
    "print(\"(Inverted) Mean Squared Error:\", inverted_mse_error)"
   ]
  },
  {
   "cell_type": "code",
   "execution_count": 38,
   "id": "16100a96",
   "metadata": {},
   "outputs": [
    {
     "name": "stdout",
     "output_type": "stream",
     "text": [
      "[7.65908337] error, [-9.41547666] % accuracy\n"
     ]
    }
   ],
   "source": [
    "# Calculate the accuracy for one sample of the test data\n",
    "value_error = np.absolute(inverted_predictions[0] - inverted_test_y[0])\n",
    "\n",
    "# Wrong method to apply for the temperature\n",
    "value_percent = 100 - (value_error * 100 / inverted_test_y[0])\n",
    "\n",
    "print(value_error, \"error,\", value_percent, \"% accuracy\")"
   ]
  },
  {
   "cell_type": "code",
   "execution_count": null,
   "id": "f06ee999",
   "metadata": {},
   "outputs": [],
   "source": []
  }
 ],
 "metadata": {
  "kernelspec": {
   "display_name": "Python 3 (ipykernel)",
   "language": "python",
   "name": "python3"
  },
  "language_info": {
   "codemirror_mode": {
    "name": "ipython",
    "version": 3
   },
   "file_extension": ".py",
   "mimetype": "text/x-python",
   "name": "python",
   "nbconvert_exporter": "python",
   "pygments_lexer": "ipython3",
   "version": "3.9.12"
  }
 },
 "nbformat": 4,
 "nbformat_minor": 5
}
