{
 "cells": [
  {
   "cell_type": "code",
   "execution_count": null,
   "id": "5f64c4be",
   "metadata": {},
   "outputs": [],
   "source": [
    "# ChatGPT : Please write the code that uses LSTM to predict value from four features.\n",
    "\n",
    "'''\n",
    "Certainly! Here is an example of how you might use a Long Short-Term Memory (LSTM) network in Python to predict a continuous value based on four input features:\n",
    "\n",
    "This code uses the TensorFlow library to define, compile, and train an LSTM network with a single hidden layer containing 32 units. The input data has four features, so the input shape of the LSTM layer is (4, 1). The output layer is a single dense layer with a single unit, which is used to make the prediction.\n",
    "\n",
    "The model is then compiled with the Adam optimizer and the mean squared error loss function, and it is trained on the training data using the fit method. The input data is reshaped to have a shape of (-1, 4, 1) to match the expected input shape of the LSTM layer.\n",
    "\n",
    "After training, the model is evaluated on the test data and the test loss is printed. The model is then used to make predictions on the test data using the predict method.\n",
    "\n",
    "This is just a simple example, and you may need to modify the code depending on the specific requirements of your problem. For example, you may need to use a different number of units in the LSTM layer, or you may need to use a different optimizer or loss function.\n",
    "'''"
   ]
  },
  {
   "cell_type": "code",
   "execution_count": null,
   "id": "805e84ce",
   "metadata": {},
   "outputs": [],
   "source": [
    "# ChatGPT : Please write the code of LSTM in python which uses 7 time steps and 4 features per time step.\n",
    "\n",
    "'''\n",
    "Certainly! Here is an example of how you might use a Long Short-Term Memory (LSTM) network in Python to process data with 7 time steps and 4 features per time step:\n",
    "\n",
    "This code uses the TensorFlow library to define, compile, and train an LSTM network with a single hidden layer containing 32 units. The input data has 7 time steps and 4 features per time step, so the input shape of the LSTM layer is (7, 4). The output layer is a single dense layer with a single unit, which is used to make the prediction.\n",
    "\n",
    "The model is then compiled with the Adam optimizer and the mean squared error loss function, and it is trained on the training data using the fit method. The input data is reshaped to have a shape of (-1, 7, 4) to match the expected input shape of the LSTM layer.\n",
    "\n",
    "After training, the model is evaluated on the test data and the test loss is printed. The model is then used to make predictions on the test data using the predict method.\n",
    "'''"
   ]
  },
  {
   "cell_type": "code",
   "execution_count": 1,
   "id": "39f05722",
   "metadata": {},
   "outputs": [
    {
     "name": "stdout",
     "output_type": "stream",
     "text": [
      "       DEWP  TEMP    PRES     Iws\n",
      "0       -21 -11.0  1021.0    1.79\n",
      "1       -21 -12.0  1020.0    4.92\n",
      "2       -21 -11.0  1019.0    6.71\n",
      "3       -21 -14.0  1019.0    9.84\n",
      "4       -20 -12.0  1018.0   12.97\n",
      "...     ...   ...     ...     ...\n",
      "43819   -23  -2.0  1034.0  231.97\n",
      "43820   -22  -3.0  1034.0  237.78\n",
      "43821   -22  -3.0  1034.0  242.70\n",
      "43822   -22  -4.0  1034.0  246.72\n",
      "43823   -21  -3.0  1034.0  249.85\n",
      "\n",
      "[43824 rows x 4 columns]\n",
      "[[ -21.    -11.   1021.      1.79]\n",
      " [ -21.    -12.   1020.      4.92]\n",
      " [ -21.    -11.   1019.      6.71]\n",
      " ...\n",
      " [ -22.     -3.   1034.    242.7 ]\n",
      " [ -22.     -4.   1034.    246.72]\n",
      " [ -21.     -3.   1034.    249.85]]\n",
      "(43824, 4)\n"
     ]
    }
   ],
   "source": [
    "from keras.models import Sequential\n",
    "from keras.layers import LSTM, Dense\n",
    "from sklearn.preprocessing import MinMaxScaler\n",
    "from keras.metrics import MeanAbsoluteError\n",
    "from sklearn.model_selection import train_test_split\n",
    "from pandas import read_csv\n",
    "import numpy as np\n",
    "\n",
    "dataframe = read_csv('pollution@beijing_5years.csv', usecols = [6,7,8,10]) # TEMP 데이터 예측\n",
    "print(dataframe)\n",
    "\n",
    "dataset = dataframe.values\n",
    "dataset = dataset.astype('float')\n",
    "print(dataset)\n",
    "\n",
    "print(dataset.shape)"
   ]
  },
  {
   "cell_type": "code",
   "execution_count": 2,
   "id": "0df2ad71",
   "metadata": {},
   "outputs": [
    {
     "name": "stdout",
     "output_type": "stream",
     "text": [
      "[[ -21.    -11.   1021.      1.79]\n",
      " [ -21.    -12.   1020.      4.92]\n",
      " [ -21.    -11.   1019.      6.71]\n",
      " ...\n",
      " [ -22.     -3.   1034.    242.7 ]\n",
      " [ -22.     -4.   1034.    246.72]\n",
      " [ -21.     -3.   1034.    249.85]]\n",
      "[[0.27941176 0.13114754 0.54545455 0.00229001]\n",
      " [0.27941176 0.1147541  0.52727273 0.00763907]\n",
      " [0.27941176 0.13114754 0.50909091 0.01069811]\n",
      " ...\n",
      " [0.26470588 0.26229508 0.78181818 0.41399641]\n",
      " [0.26470588 0.24590164 0.78181818 0.42086644]\n",
      " [0.27941176 0.26229508 0.78181818 0.4262155 ]]\n",
      "35059 8765\n"
     ]
    }
   ],
   "source": [
    "# load dataset\n",
    "values = dataset\n",
    "print(values)\n",
    "\n",
    "# normalize features\n",
    "scaler = MinMaxScaler(feature_range=(0, 1))\n",
    "scaled_values = scaler.fit_transform(values)\n",
    "print(scaled_values)\n",
    "\n",
    "#train_data, test_data = train_test_split(scaled_values, test_size = 0.2, shuffle = False)\n",
    "train_data, test_data = train_test_split(values, test_size = 0.2, shuffle = False)\n",
    "print(len(train_data), len(test_data))"
   ]
  },
  {
   "cell_type": "code",
   "execution_count": 3,
   "id": "4b85e160",
   "metadata": {},
   "outputs": [
    {
     "name": "stdout",
     "output_type": "stream",
     "text": [
      "(35052, 4, 7) (35052,)\n",
      "(8758, 4, 7) (8758,)\n",
      "[[[ -21.    -21.    -21.   ...  -20.    -19.    -19.  ]\n",
      "  [ -11.    -12.    -11.   ...  -12.    -10.     -9.  ]\n",
      "  [1021.   1020.   1019.   ... 1018.   1017.   1017.  ]\n",
      "  [   1.79    4.92    6.71 ...   12.97   16.1    19.23]]\n",
      "\n",
      " [[ -21.    -21.    -21.   ...  -19.    -19.    -19.  ]\n",
      "  [ -12.    -11.    -14.   ...  -10.     -9.     -9.  ]\n",
      "  [1020.   1019.   1019.   ... 1017.   1017.   1017.  ]\n",
      "  [   4.92    6.71    9.84 ...   16.1    19.23   21.02]]\n",
      "\n",
      " [[ -21.    -21.    -20.   ...  -19.    -19.    -19.  ]\n",
      "  [ -11.    -14.    -12.   ...   -9.     -9.     -9.  ]\n",
      "  [1019.   1019.   1018.   ... 1017.   1017.   1017.  ]\n",
      "  [   6.71    9.84   12.97 ...   19.23   21.02   24.15]]\n",
      "\n",
      " ...\n",
      "\n",
      " [[ -19.    -18.    -19.   ...  -18.    -19.    -18.  ]\n",
      "  [   6.      7.      7.   ...    9.      9.      9.  ]\n",
      "  [1013.   1013.   1013.   ... 1011.   1011.   1012.  ]\n",
      "  [  27.26   37.09   46.03 ...   65.26   73.31   83.14]]\n",
      "\n",
      " [[ -18.    -19.    -18.   ...  -19.    -18.    -18.  ]\n",
      "  [   7.      7.      9.   ...    9.      9.      9.  ]\n",
      "  [1013.   1013.   1012.   ... 1011.   1012.   1012.  ]\n",
      "  [  37.09   46.03   57.21 ...   73.31   83.14   92.97]]\n",
      "\n",
      " [[ -19.    -18.    -18.   ...  -18.    -18.    -19.  ]\n",
      "  [   7.      9.      9.   ...    9.      9.      8.  ]\n",
      "  [1013.   1012.   1011.   ... 1012.   1012.   1012.  ]\n",
      "  [  46.03   57.21   65.26 ...   83.14   92.97  102.8 ]]]\n",
      "[-9. -9. -8. ...  9.  8.  8.]\n",
      "(35052, 7, 4) (35052,)\n",
      "(8758, 7, 4) (8758,)\n",
      "[[[ -21.    -11.   1021.      1.79]\n",
      "  [ -21.    -12.   1020.      4.92]\n",
      "  [ -21.    -11.   1019.      6.71]\n",
      "  ...\n",
      "  [ -20.    -12.   1018.     12.97]\n",
      "  [ -19.    -10.   1017.     16.1 ]\n",
      "  [ -19.     -9.   1017.     19.23]]\n",
      "\n",
      " [[ -21.    -12.   1020.      4.92]\n",
      "  [ -21.    -11.   1019.      6.71]\n",
      "  [ -21.    -14.   1019.      9.84]\n",
      "  ...\n",
      "  [ -19.    -10.   1017.     16.1 ]\n",
      "  [ -19.     -9.   1017.     19.23]\n",
      "  [ -19.     -9.   1017.     21.02]]\n",
      "\n",
      " [[ -21.    -11.   1019.      6.71]\n",
      "  [ -21.    -14.   1019.      9.84]\n",
      "  [ -20.    -12.   1018.     12.97]\n",
      "  ...\n",
      "  [ -19.     -9.   1017.     19.23]\n",
      "  [ -19.     -9.   1017.     21.02]\n",
      "  [ -19.     -9.   1017.     24.15]]\n",
      "\n",
      " ...\n",
      "\n",
      " [[ -19.      6.   1013.     27.26]\n",
      "  [ -18.      7.   1013.     37.09]\n",
      "  [ -19.      7.   1013.     46.03]\n",
      "  ...\n",
      "  [ -18.      9.   1011.     65.26]\n",
      "  [ -19.      9.   1011.     73.31]\n",
      "  [ -18.      9.   1012.     83.14]]\n",
      "\n",
      " [[ -18.      7.   1013.     37.09]\n",
      "  [ -19.      7.   1013.     46.03]\n",
      "  [ -18.      9.   1012.     57.21]\n",
      "  ...\n",
      "  [ -19.      9.   1011.     73.31]\n",
      "  [ -18.      9.   1012.     83.14]\n",
      "  [ -18.      9.   1012.     92.97]]\n",
      "\n",
      " [[ -19.      7.   1013.     46.03]\n",
      "  [ -18.      9.   1012.     57.21]\n",
      "  [ -18.      9.   1011.     65.26]\n",
      "  ...\n",
      "  [ -18.      9.   1012.     83.14]\n",
      "  [ -18.      9.   1012.     92.97]\n",
      "  [ -19.      8.   1012.    102.8 ]]]\n",
      "[-9. -9. -8. ...  9.  8.  8.]\n"
     ]
    }
   ],
   "source": [
    "def create_dataset(dataset, look_back) :\n",
    "    x_data = []\n",
    "    y_data = []\n",
    "    for i in range(len(dataset) - look_back) :\n",
    "\n",
    "        x_data_4 = []\n",
    "        \n",
    "        data_multi_0 = dataset[i:(i+look_back), 0]\n",
    "        data_multi_1 = dataset[i:(i+look_back), 1]\n",
    "        data_multi_2 = dataset[i:(i+look_back), 2]\n",
    "        data_multi_3 = dataset[i:(i+look_back), 3]\n",
    "        \n",
    "        x_data_4.append(data_multi_0)\n",
    "        x_data_4.append(data_multi_1)\n",
    "        x_data_4.append(data_multi_2)\n",
    "        x_data_4.append(data_multi_3)\n",
    "        \n",
    "        x_data.append(x_data_4)\n",
    "        y_data.append(dataset[i+look_back, 1]) # TEMP 데이터 예측\n",
    "    return np.array(x_data), np.array(y_data)\n",
    "\n",
    "look_back = 7\n",
    "x_train, y_train = create_dataset(train_data, look_back)\n",
    "x_test, y_test = create_dataset(test_data, look_back)\n",
    "\n",
    "print(x_train.shape, y_train.shape)\n",
    "print(x_test.shape, y_test.shape)\n",
    "\n",
    "print(x_train)\n",
    "print(y_train)\n",
    "\n",
    "# Reshape the input data\n",
    "x_train = np.transpose(x_train, (0, 2, 1))\n",
    "x_test = np.transpose(x_test, (0, 2, 1))\n",
    "\n",
    "print(x_train.shape, y_train.shape)\n",
    "print(x_test.shape, y_test.shape)\n",
    "\n",
    "print(x_train)\n",
    "print(y_train)"
   ]
  },
  {
   "cell_type": "code",
   "execution_count": 4,
   "id": "7892b592",
   "metadata": {},
   "outputs": [
    {
     "name": "stdout",
     "output_type": "stream",
     "text": [
      "(35052, 7, 4) (35052,)\n",
      "(8758, 7, 4) (8758,)\n"
     ]
    }
   ],
   "source": [
    "# Define the model\n",
    "model = Sequential()\n",
    "\n",
    "# The input data has 7 time steps and 4 features per time step\n",
    "model.add(LSTM(32, input_shape=(7, 4)))\n",
    "model.add(Dense(1))\n",
    "\n",
    "# Compile the model\n",
    "model.compile(optimizer=\"adam\", loss=\"mean_squared_error\")\n",
    "\n",
    "print(x_train.shape, y_train.shape)\n",
    "print(x_test.shape, y_test.shape)\n",
    "\n",
    "# Define the (more complex) model\n",
    "hyper_params = {\n",
    "    \"lstm_units\": 64,\n",
    "    \"dropout\": 0.2,\n",
    "    \"optimizer\": \"adam\",\n",
    "    \"loss\": \"mean_squared_error\",\n",
    "}\n",
    "\n",
    "def get_model(hyper_params):\n",
    "    # Create the model\n",
    "\tmodel = Sequential()\n",
    "    # The input data has 12 time steps and 1 features per time step\n",
    "\tmodel.add(LSTM(units=hyper_params[\"lstm_units\"], return_sequences=True, input_shape=(12, 1)))\n",
    "\tmodel.add(Dropout(rate=hyper_params[\"dropout\"]))\n",
    "\tmodel.add(LSTM(units=hyper_params[\"lstm_units\"], return_sequences=True, input_shape=(12, 1)))\n",
    "\tmodel.add(Dropout(rate=hyper_params[\"dropout\"]))\n",
    "\tmodel.add(LSTM(units=hyper_params[\"lstm_units\"], return_sequences=False))\n",
    "\tmodel.add(Dropout(rate=hyper_params[\"dropout\"]))\n",
    "\tmodel.add(Dense(1))\n",
    "\tmodel.compile(loss=hyper_params[\"loss\"],\n",
    "              \toptimizer=hyper_params[\"optimizer\"],\n",
    "              \tmetrics=[MeanAbsoluteError()])\n",
    "\treturn model\n",
    "\n",
    "# model = get_model(hyper_params=hyper_params)"
   ]
  },
  {
   "cell_type": "code",
   "execution_count": 5,
   "id": "b7e3604e",
   "metadata": {
    "scrolled": false
   },
   "outputs": [
    {
     "name": "stdout",
     "output_type": "stream",
     "text": [
      "Epoch 1/20\n",
      "1096/1096 [==============================] - 6s 4ms/step - loss: 260.3092\n",
      "Epoch 2/20\n",
      "1096/1096 [==============================] - 4s 4ms/step - loss: 171.9638\n",
      "Epoch 3/20\n",
      "1096/1096 [==============================] - 4s 4ms/step - loss: 112.0643\n",
      "Epoch 4/20\n",
      "1096/1096 [==============================] - 4s 4ms/step - loss: 73.6244\n",
      "Epoch 5/20\n",
      "1096/1096 [==============================] - 4s 4ms/step - loss: 47.7492\n",
      "Epoch 6/20\n",
      "1096/1096 [==============================] - 4s 4ms/step - loss: 30.6153\n",
      "Epoch 7/20\n",
      "1096/1096 [==============================] - 5s 4ms/step - loss: 19.5410\n",
      "Epoch 8/20\n",
      "1096/1096 [==============================] - 6s 5ms/step - loss: 12.7270\n",
      "Epoch 9/20\n",
      "1096/1096 [==============================] - 4s 4ms/step - loss: 8.7348\n",
      "Epoch 10/20\n",
      "1096/1096 [==============================] - 5s 4ms/step - loss: 6.2987\n",
      "Epoch 11/20\n",
      "1096/1096 [==============================] - 4s 4ms/step - loss: 4.8153\n",
      "Epoch 12/20\n",
      "1096/1096 [==============================] - 5s 4ms/step - loss: 3.9370\n",
      "Epoch 13/20\n",
      "1096/1096 [==============================] - 5s 4ms/step - loss: 3.3484\n",
      "Epoch 14/20\n",
      "1096/1096 [==============================] - 5s 4ms/step - loss: 2.9879\n",
      "Epoch 15/20\n",
      "1096/1096 [==============================] - 4s 4ms/step - loss: 2.7806\n",
      "Epoch 16/20\n",
      "1096/1096 [==============================] - 5s 4ms/step - loss: 2.5737\n",
      "Epoch 17/20\n",
      "1096/1096 [==============================] - 5s 4ms/step - loss: 2.4435\n",
      "Epoch 18/20\n",
      "1096/1096 [==============================] - 5s 4ms/step - loss: 2.4114\n",
      "Epoch 19/20\n",
      "1096/1096 [==============================] - 5s 4ms/step - loss: 2.2979\n",
      "Epoch 20/20\n",
      "1096/1096 [==============================] - 5s 4ms/step - loss: 2.3421\n"
     ]
    }
   ],
   "source": [
    "# Train the model\n",
    "history = model.fit(x_train, y_train, epochs=20, batch_size=32, verbose=1)"
   ]
  },
  {
   "cell_type": "code",
   "execution_count": 6,
   "id": "def0e7cd",
   "metadata": {},
   "outputs": [
    {
     "name": "stdout",
     "output_type": "stream",
     "text": [
      "dict_keys(['loss'])\n"
     ]
    },
    {
     "data": {
      "text/plain": [
       "<matplotlib.legend.Legend at 0x1e84e7b2d60>"
      ]
     },
     "execution_count": 6,
     "metadata": {},
     "output_type": "execute_result"
    },
    {
     "data": {
      "image/png": "[encoded data removed]",
      "text/plain": [
       "<Figure size 432x288 with 1 Axes>"
      ]
     },
     "metadata": {
      "needs_background": "light"
     },
     "output_type": "display_data"
    }
   ],
   "source": [
    "import matplotlib.pyplot as plt\n",
    "\n",
    "print(history.history.keys())\n",
    "loss = history.history['loss']\n",
    "epochs = range(1, len(loss) + 1)\n",
    "\n",
    "# bo = 파란색 점\n",
    "plt.plot(epochs, loss, 'bo', label='Training loss') # plot x and y using blue circle markers\n",
    "plt.title('Training and validation loss')\n",
    "plt.xlabel('Epochs')\n",
    "plt.ylabel('Loss')\n",
    "plt.legend()"
   ]
  },
  {
   "cell_type": "code",
   "execution_count": 7,
   "id": "74a2fec1",
   "metadata": {},
   "outputs": [
    {
     "name": "stdout",
     "output_type": "stream",
     "text": [
      "274/274 [==============================] - 1s 2ms/step\n",
      "[[ 5.7341394]\n",
      " [ 4.7358704]\n",
      " [ 4.8335123]\n",
      " ...\n",
      " [-3.6324558]\n",
      " [-3.3826447]\n",
      " [-4.6164036]]\n",
      "[ 6.  6.  3. ... -3. -4. -3.]\n",
      "[0.26586056] error, [95.56899] % accuracy\n"
     ]
    }
   ],
   "source": [
    "# Make predictions on the test data\n",
    "predictions = model.predict(x_test)\n",
    "\n",
    "print(predictions)\n",
    "print(y_test)\n",
    "\n",
    "value_error = np.absolute(predictions[0] - y_test[0])\n",
    "\n",
    "value_percent = 100 - (value_error * 100 / y_test[0])\n",
    "\n",
    "print(value_error, \"error,\", value_percent, \"% accuracy\")"
   ]
  },
  {
   "cell_type": "code",
   "execution_count": 8,
   "id": "29d8c47d",
   "metadata": {},
   "outputs": [
    {
     "name": "stdout",
     "output_type": "stream",
     "text": [
      "274/274 [==============================] - 0s 2ms/step\n",
      "Mean squared error: 258.7800954643782\n"
     ]
    }
   ],
   "source": [
    "# Make predictions on the test data\n",
    "predictions = model.predict(x_test)\n",
    "\n",
    "# Calculate the mean squared error of the predictions\n",
    "mse = ((predictions - y_test) ** 2).mean()\n",
    "\n",
    "print(\"Mean squared error:\", mse)"
   ]
  },
  {
   "cell_type": "code",
   "execution_count": null,
   "id": "63a98f04",
   "metadata": {},
   "outputs": [],
   "source": []
  }
 ],
 "metadata": {
  "kernelspec": {
   "display_name": "Python 3 (ipykernel)",
   "language": "python",
   "name": "python3"
  },
  "language_info": {
   "codemirror_mode": {
    "name": "ipython",
    "version": 3
   },
   "file_extension": ".py",
   "mimetype": "text/x-python",
   "name": "python",
   "nbconvert_exporter": "python",
   "pygments_lexer": "ipython3",
   "version": "3.9.12"
  }
 },
 "nbformat": 4,
 "nbformat_minor": 5
}
