{
 "cells": [
  {
   "cell_type": "code",
   "execution_count": 1,
   "id": "39f05722",
   "metadata": {},
   "outputs": [
    {
     "name": "stdout",
     "output_type": "stream",
     "text": [
      "       DEWP  TEMP    PRES     Iws\n",
      "0       -21 -11.0  1021.0    1.79\n",
      "1       -21 -12.0  1020.0    4.92\n",
      "2       -21 -11.0  1019.0    6.71\n",
      "3       -21 -14.0  1019.0    9.84\n",
      "4       -20 -12.0  1018.0   12.97\n",
      "...     ...   ...     ...     ...\n",
      "43819   -23  -2.0  1034.0  231.97\n",
      "43820   -22  -3.0  1034.0  237.78\n",
      "43821   -22  -3.0  1034.0  242.70\n",
      "43822   -22  -4.0  1034.0  246.72\n",
      "43823   -21  -3.0  1034.0  249.85\n",
      "\n",
      "[43824 rows x 4 columns]\n",
      "[[ -21.    -11.   1021.      1.79]\n",
      " [ -21.    -12.   1020.      4.92]\n",
      " [ -21.    -11.   1019.      6.71]\n",
      " ...\n",
      " [ -22.     -3.   1034.    242.7 ]\n",
      " [ -22.     -4.   1034.    246.72]\n",
      " [ -21.     -3.   1034.    249.85]]\n",
      "(43824, 4)\n"
     ]
    }
   ],
   "source": [
    "from keras.models import Sequential\n",
    "from keras.layers import LSTM, Dense\n",
    "from sklearn.preprocessing import MinMaxScaler\n",
    "from sklearn.model_selection import train_test_split\n",
    "from pandas import read_csv\n",
    "import numpy as np\n",
    "\n",
    "dataframe = read_csv('weather@beijing_5years.csv', usecols = [6,7,8,10]) # TEMP 데이터 예측\n",
    "print(dataframe)\n",
    "\n",
    "dataset = dataframe.values\n",
    "dataset = dataset.astype('float')\n",
    "print(dataset)\n",
    "\n",
    "print(dataset.shape)"
   ]
  },
  {
   "cell_type": "code",
   "execution_count": 2,
   "id": "4b85e160",
   "metadata": {
    "scrolled": false
   },
   "outputs": [
    {
     "name": "stdout",
     "output_type": "stream",
     "text": [
      "(43817, 4, 7) (43817,)\n",
      "[[[ -21.    -21.    -21.    -21.    -20.    -19.    -19.  ]\n",
      "  [ -11.    -12.    -11.    -14.    -12.    -10.     -9.  ]\n",
      "  [1021.   1020.   1019.   1019.   1018.   1017.   1017.  ]\n",
      "  [   1.79    4.92    6.71    9.84   12.97   16.1    19.23]]\n",
      "\n",
      " [[ -21.    -21.    -21.    -20.    -19.    -19.    -19.  ]\n",
      "  [ -12.    -11.    -14.    -12.    -10.     -9.     -9.  ]\n",
      "  [1020.   1019.   1019.   1018.   1017.   1017.   1017.  ]\n",
      "  [   4.92    6.71    9.84   12.97   16.1    19.23   21.02]]]\n",
      "[-9. -9. -8. ... -3. -4. -3.]\n"
     ]
    }
   ],
   "source": [
    "# The created dataset has 4 features per time step and 7 time steps\n",
    "def create_dataset(dataset, look_back): # 4 columns in the dataset\n",
    "    x_data = []\n",
    "    y_data = []\n",
    "    for i in range(len(dataset) - look_back):\n",
    "        x_data_4 = []\n",
    "        data_multi_0 = dataset[i:(i+look_back), 0]\n",
    "        data_multi_1 = dataset[i:(i+look_back), 1]\n",
    "        data_multi_2 = dataset[i:(i+look_back), 2]\n",
    "        data_multi_3 = dataset[i:(i+look_back), 3]\n",
    "        x_data_4.append(data_multi_0)\n",
    "        x_data_4.append(data_multi_1)\n",
    "        x_data_4.append(data_multi_2)\n",
    "        x_data_4.append(data_multi_3)\n",
    "        x_data.append(x_data_4)\n",
    "        y_data.append(dataset[i+look_back, 1]) # TEMP 데이터 예측 (두번째 열)\n",
    "    return np.array(x_data), np.array(y_data)\n",
    "\n",
    "look_back = 7\n",
    "x_dataset, y_dataset = create_dataset(dataset, look_back)\n",
    "\n",
    "print(x_dataset.shape, y_dataset.shape)\n",
    "\n",
    "print(x_dataset[:2]) # Get first 2 rows from the dataset\n",
    "print(y_dataset)"
   ]
  },
  {
   "cell_type": "code",
   "execution_count": 3,
   "id": "7892b592",
   "metadata": {},
   "outputs": [],
   "source": [
    "# Create the model\n",
    "model = Sequential()\n",
    "\n",
    "# The input data has 7 time steps and 4 features per time step\n",
    "model.add(LSTM(32, input_shape=(7, 4)))\n",
    "model.add(Dense(1))\n",
    "\n",
    "model.compile(optimizer=\"adam\", loss=\"mse\")"
   ]
  },
  {
   "cell_type": "code",
   "execution_count": 4,
   "id": "a80fbc5a",
   "metadata": {},
   "outputs": [
    {
     "name": "stdout",
     "output_type": "stream",
     "text": [
      "35053 8764\n",
      "35053 8764\n",
      "(35053, 4, 7) (35053,)\n",
      "[[[ -21.    -11.   1021.      1.79]\n",
      "  [ -21.    -12.   1020.      4.92]\n",
      "  [ -21.    -11.   1019.      6.71]\n",
      "  [ -21.    -14.   1019.      9.84]\n",
      "  [ -20.    -12.   1018.     12.97]\n",
      "  [ -19.    -10.   1017.     16.1 ]\n",
      "  [ -19.     -9.   1017.     19.23]]\n",
      "\n",
      " [[ -21.    -12.   1020.      4.92]\n",
      "  [ -21.    -11.   1019.      6.71]\n",
      "  [ -21.    -14.   1019.      9.84]\n",
      "  [ -20.    -12.   1018.     12.97]\n",
      "  [ -19.    -10.   1017.     16.1 ]\n",
      "  [ -19.     -9.   1017.     19.23]\n",
      "  [ -19.     -9.   1017.     21.02]]]\n",
      "(35053, 7, 4)\n",
      "[-9. -9. -8. ...  8.  8.  7.]\n",
      "(35053,)\n"
     ]
    }
   ],
   "source": [
    "# Prepare the dataset in advance (dimentions in order and normalization)\n",
    "train_data_x, test_data_x = train_test_split(x_dataset, test_size = 0.2, shuffle = False)\n",
    "train_data_y, test_data_y = train_test_split(y_dataset, test_size = 0.2, shuffle = False)\n",
    "print(len(train_data_x), len(test_data_x))\n",
    "print(len(train_data_y), len(test_data_y))\n",
    "\n",
    "print(train_data_x.shape, train_data_y.shape)\n",
    "\n",
    "train_x = np.transpose(train_data_x, (0, 2, 1))\n",
    "test_x = np.transpose(test_data_x, (0, 2, 1))\n",
    "\n",
    "print(train_x[0:2]) # Get first 2 rows from the dataset\n",
    "print(train_x.shape)\n",
    "\n",
    "train_y = train_data_y\n",
    "test_y = test_data_y\n",
    "\n",
    "print(train_y)\n",
    "print(train_y.shape)"
   ]
  },
  {
   "cell_type": "code",
   "execution_count": 14,
   "id": "b82fdf0c",
   "metadata": {
    "scrolled": false
   },
   "outputs": [
    {
     "name": "stdout",
     "output_type": "stream",
     "text": [
      "35053 7 4\n",
      "[0.19672131 0.13333333 0.54545455 0.00229001 0.19672131 0.11666667\n",
      " 0.52727273 0.00763907 0.19672131 0.13333333 0.50909091 0.01069811\n",
      " 0.19672131 0.08333333 0.50909091 0.01604717 0.21311475 0.11666667\n",
      " 0.49090909 0.02139622 0.2295082  0.15       0.47272727 0.02674528\n",
      " 0.2295082  0.16666667 0.47272727 0.03209433]\n",
      "[[0.19672131 0.13333333 0.54545455 0.00229001]\n",
      " [0.19672131 0.11666667 0.52727273 0.00763907]\n",
      " [0.19672131 0.13333333 0.50909091 0.01069811]\n",
      " [0.19672131 0.08333333 0.50909091 0.01604717]\n",
      " [0.21311475 0.11666667 0.49090909 0.02139622]\n",
      " [0.2295082  0.15       0.47272727 0.02674528]\n",
      " [0.2295082  0.16666667 0.47272727 0.03209433]]\n",
      "8764 7 4\n",
      "[[0.19672131 0.13333333 0.54545455 0.00229001]\n",
      " [0.19672131 0.11666667 0.52727273 0.00763907]\n",
      " [0.19672131 0.13333333 0.50909091 0.01069811]\n",
      " [0.19672131 0.08333333 0.50909091 0.01604717]\n",
      " [0.21311475 0.11666667 0.49090909 0.02139622]\n",
      " [0.2295082  0.15       0.47272727 0.02674528]\n",
      " [0.2295082  0.16666667 0.47272727 0.03209433]]\n",
      "(35053, 7, 4)\n",
      "[0.16666667]\n",
      "(35053, 1)\n"
     ]
    }
   ],
   "source": [
    "# Normalize features\n",
    "scaler_x = MinMaxScaler(feature_range=(0, 1))\n",
    "scaler_y = MinMaxScaler(feature_range=(0, 1))\n",
    "\n",
    "# ValueError: Found array with dim 3. MinMaxScaler expected <= 2.\n",
    "nsamples, nx, ny = train_x.shape\n",
    "train_x_2d = train_x.reshape((nsamples,nx*ny))\n",
    "print(nsamples, nx, ny)\n",
    "\n",
    "scaled_train_x_2d = scaler_x.fit_transform(train_x_2d)\n",
    "print(scaled_train_x_2d[0])\n",
    "\n",
    "scaled_train_x = scaled_train_x_2d.reshape((nsamples,nx,ny))\n",
    "print(scaled_train_x[0])\n",
    "\n",
    "nsamples, nx, ny = test_x.shape\n",
    "test_x_2d = test_x.reshape((nsamples,nx*ny))\n",
    "scaled_test_x_2d = scaler_x.fit_transform(test_x_2d)\n",
    "scaled_test_x = scaled_test_x_2d.reshape((nsamples,nx,ny))\n",
    "print(nsamples, nx, ny)\n",
    "\n",
    "scaled_train_y = scaler_y.fit_transform(train_y.reshape(-1,1))\n",
    "scaled_test_y = scaler_y.fit_transform(test_y.reshape(-1,1))\n",
    "\n",
    "print(scaled_train_x[0])\n",
    "print(scaled_train_x.shape)\n",
    "print(scaled_train_y[0])\n",
    "print(scaled_train_y.shape)"
   ]
  },
  {
   "cell_type": "code",
   "execution_count": 15,
   "id": "b7e3604e",
   "metadata": {
    "scrolled": false
   },
   "outputs": [
    {
     "name": "stdout",
     "output_type": "stream",
     "text": [
      "Epoch 1/10\n",
      "1096/1096 [==============================] - 5s 3ms/step - loss: 0.0059\n",
      "Epoch 2/10\n",
      "1096/1096 [==============================] - 3s 3ms/step - loss: 8.7483e-04\n",
      "Epoch 3/10\n",
      "1096/1096 [==============================] - 4s 3ms/step - loss: 6.4542e-04\n",
      "Epoch 4/10\n",
      "1096/1096 [==============================] - 4s 3ms/step - loss: 5.4895e-04\n",
      "Epoch 5/10\n",
      "1096/1096 [==============================] - 4s 3ms/step - loss: 5.2106e-04\n",
      "Epoch 6/10\n",
      "1096/1096 [==============================] - 3s 3ms/step - loss: 5.0187e-04\n",
      "Epoch 7/10\n",
      "1096/1096 [==============================] - 3s 3ms/step - loss: 4.9283e-04\n",
      "Epoch 8/10\n",
      "1096/1096 [==============================] - 3s 3ms/step - loss: 4.8513e-04\n",
      "Epoch 9/10\n",
      "1096/1096 [==============================] - 4s 4ms/step - loss: 4.8973e-04\n",
      "Epoch 10/10\n",
      "1096/1096 [==============================] - 4s 4ms/step - loss: 4.7848e-04\n"
     ]
    }
   ],
   "source": [
    "# Train the model\n",
    "history = model.fit(scaled_train_x, scaled_train_y, epochs=10, batch_size=32, verbose=1)"
   ]
  },
  {
   "cell_type": "code",
   "execution_count": 16,
   "id": "def0e7cd",
   "metadata": {},
   "outputs": [
    {
     "name": "stdout",
     "output_type": "stream",
     "text": [
      "dict_keys(['loss'])\n"
     ]
    },
    {
     "data": {
      "text/plain": [
       "<matplotlib.legend.Legend at 0x2cb8694adf0>"
      ]
     },
     "execution_count": 16,
     "metadata": {},
     "output_type": "execute_result"
    },
    {
     "data": {
      "image/png": "[encoded data removed]",
      "text/plain": [
       "<Figure size 432x288 with 1 Axes>"
      ]
     },
     "metadata": {
      "needs_background": "light"
     },
     "output_type": "display_data"
    }
   ],
   "source": [
    "import matplotlib.pyplot as plt\n",
    "\n",
    "print(history.history.keys())\n",
    "loss = history.history['loss']\n",
    "epochs = range(1, len(loss) + 1)\n",
    "\n",
    "# bo = 파란색 점\n",
    "plt.plot(epochs, loss, 'bo', label='Training loss') # plot x and y using blue circle markers\n",
    "plt.title('Training and validation loss')\n",
    "plt.xlabel('Epochs')\n",
    "plt.ylabel('Loss')\n",
    "plt.legend()"
   ]
  },
  {
   "cell_type": "code",
   "execution_count": 17,
   "id": "74a2fec1",
   "metadata": {},
   "outputs": [
    {
     "name": "stdout",
     "output_type": "stream",
     "text": [
      "274/274 [==============================] - 1s 2ms/step\n",
      "[[0.35472894]\n",
      " [0.3522119 ]\n",
      " [0.35561693]\n",
      " ...\n",
      " [0.17145626]\n",
      " [0.17160851]\n",
      " [0.15330662]]\n",
      "[[ 6.510092 ]\n",
      " [ 6.371654 ]\n",
      " [ 6.558931 ]\n",
      " ...\n",
      " [-3.5699055]\n",
      " [-3.561532 ]\n",
      " [-4.5681357]]\n",
      "[[ 7.]\n",
      " [ 7.]\n",
      " [ 6.]\n",
      " ...\n",
      " [-3.]\n",
      " [-4.]\n",
      " [-3.]]\n",
      "[[ -22.     -3.   1034.    242.7 ]\n",
      " [ -22.     -4.   1034.    246.72]\n",
      " [ -21.     -3.   1034.    249.85]]\n"
     ]
    }
   ],
   "source": [
    "# Make predictions on the test data\n",
    "predictions = model.predict(scaled_test_x)\n",
    "\n",
    "print(predictions)\n",
    "\n",
    "# invert normalized value\n",
    "inverted_predictions = scaler_y.inverse_transform(predictions)\n",
    "inverted_test_y = scaler_y.inverse_transform(scaled_test_y)\n",
    "\n",
    "print(inverted_predictions)\n",
    "print(inverted_test_y)\n",
    "\n",
    "print(dataset[-3:]) # Get last 3 rows from the dataset"
   ]
  },
  {
   "cell_type": "code",
   "execution_count": 18,
   "id": "29d8c47d",
   "metadata": {},
   "outputs": [
    {
     "name": "stdout",
     "output_type": "stream",
     "text": [
      "(Scaled) Mean Squared Error: 0.0005792221957050414\n",
      "(Inverted) Mean Squared Error: 1.7521470930534757\n"
     ]
    }
   ],
   "source": [
    "# Calculate the mean squared error of the predictions\n",
    "scaled_mse_error = ((predictions - scaled_test_y) ** 2).mean()\n",
    "\n",
    "print(\"(Scaled) Mean Squared Error:\", scaled_mse_error)\n",
    "\n",
    "# Calculate the mean squared error of the predictions\n",
    "inverted_mse_error = ((inverted_predictions - inverted_test_y) ** 2).mean()\n",
    "\n",
    "print(\"(Inverted) Mean Squared Error:\", inverted_mse_error)"
   ]
  },
  {
   "cell_type": "code",
   "execution_count": 19,
   "id": "63a98f04",
   "metadata": {},
   "outputs": [
    {
     "name": "stdout",
     "output_type": "stream",
     "text": [
      "[0.48990822] error, [93.00131117] % accuracy\n"
     ]
    }
   ],
   "source": [
    "# Calculate the accuracy for one sample of the test data\n",
    "value_error = np.absolute(inverted_predictions[0] - inverted_test_y[0])\n",
    "\n",
    "# Wrong method to apply for the temperature\n",
    "value_percent = 100 - (value_error * 100 / inverted_test_y[0])\n",
    "\n",
    "print(value_error, \"error,\", value_percent, \"% accuracy\")"
   ]
  },
  {
   "cell_type": "code",
   "execution_count": null,
   "id": "53c8fc1a",
   "metadata": {},
   "outputs": [],
   "source": []
  }
 ],
 "metadata": {
  "kernelspec": {
   "display_name": "Python 3 (ipykernel)",
   "language": "python",
   "name": "python3"
  },
  "language_info": {
   "codemirror_mode": {
    "name": "ipython",
    "version": 3
   },
   "file_extension": ".py",
   "mimetype": "text/x-python",
   "name": "python",
   "nbconvert_exporter": "python",
   "pygments_lexer": "ipython3",
   "version": "3.9.12"
  }
 },
 "nbformat": 4,
 "nbformat_minor": 5
}
