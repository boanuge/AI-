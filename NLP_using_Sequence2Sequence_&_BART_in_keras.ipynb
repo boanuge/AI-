{
 "cells": [
  {
   "cell_type": "code",
   "execution_count": 1,
   "id": "b8d143dd",
   "metadata": {},
   "outputs": [],
   "source": [
    "import numpy as np\n",
    "import pandas as pd\n",
    "import matplotlib.pyplot as plt\n",
    "from nltk.corpus import stopwords\n",
    "from bs4 import BeautifulSoup \n",
    "from tensorflow.keras.preprocessing.text import Tokenizer \n",
    "from tensorflow.keras.preprocessing.sequence import pad_sequences\n",
    "import urllib.request\n",
    "np.random.seed(seed=1234)"
   ]
  },
  {
   "cell_type": "code",
   "execution_count": 2,
   "id": "cd160c1d",
   "metadata": {},
   "outputs": [
    {
     "name": "stdout",
     "output_type": "stream",
     "text": [
      "전체 리뷰 개수 : 30000\n"
     ]
    }
   ],
   "source": [
    "# AWS_Food_Reviews.csv 데이터를 데이터프레임에 저장 (3만개의 행(rows)만 추출)\n",
    "data = pd.read_csv(\"AWS_Food_Reviews.csv\", nrows = 30000)\n",
    "print('전체 리뷰 개수 :',(len(data)))"
   ]
  },
  {
   "cell_type": "code",
   "execution_count": 3,
   "id": "53c02e0f",
   "metadata": {},
   "outputs": [
    {
     "name": "stdout",
     "output_type": "stream",
     "text": [
      "   Id   ProductId          UserId                      ProfileName  \\\n",
      "0   1  B001E4KFG0  A3SGXH7AUHU8GW                       delmartian   \n",
      "1   2  B00813GRG4  A1D87F6ZCVE5NK                           dll pa   \n",
      "2   3  B000LQOCH0   ABXLMWJIXXAIN  Natalia Corres \"Natalia Corres\"   \n",
      "3   4  B000UA0QIQ  A395BORC6FGVXV                             Karl   \n",
      "4   5  B006K2ZZ7K  A1UQRSCLF8GW1T    Michael D. Bigham \"M. Wassir\"   \n",
      "\n",
      "   HelpfulnessNumerator  HelpfulnessDenominator  Score        Time  \\\n",
      "0                     1                       1      5  1303862400   \n",
      "1                     0                       0      1  1346976000   \n",
      "2                     1                       1      4  1219017600   \n",
      "3                     3                       3      2  1307923200   \n",
      "4                     0                       0      5  1350777600   \n",
      "\n",
      "                 Summary                                               Text  \n",
      "0  Good Quality Dog Food  I have bought several of the Vitality canned d...  \n",
      "1      Not as Advertised  Product arrived labeled as Jumbo Salted Peanut...  \n",
      "2  \"Delight\" says it all  This is a confection that has been around a fe...  \n",
      "3         Cough Medicine  If you are looking for the secret ingredient i...  \n",
      "4            Great taffy  Great taffy at a great price.  There was a wid...  \n",
      "                                                Text                Summary\n",
      "0  I have bought several of the Vitality canned d...  Good Quality Dog Food\n",
      "1  Product arrived labeled as Jumbo Salted Peanut...      Not as Advertised\n",
      "2  This is a confection that has been around a fe...  \"Delight\" says it all\n",
      "3  If you are looking for the secret ingredient i...         Cough Medicine\n",
      "4  Great taffy at a great price.  There was a wid...            Great taffy\n"
     ]
    }
   ],
   "source": [
    "print(data.head())\n",
    "data = data[['Text','Summary']]\n",
    "print(data.head())"
   ]
  },
  {
   "cell_type": "code",
   "execution_count": 4,
   "id": "43fbd935",
   "metadata": {},
   "outputs": [
    {
     "name": "stdout",
     "output_type": "stream",
     "text": [
      "Text 열에서 중복을 배제한 유일한 샘플의 수 : 28677\n",
      "Summary 열에서 중복을 배제한 유일한 샘플의 수 : 24651\n",
      "Text       0\n",
      "Summary    0\n",
      "dtype: int64\n"
     ]
    }
   ],
   "source": [
    "# Summary는 중복이 더 많지만, 원문은 다르더라도 짧은 문장인 요약은 내용이 겹칠 수 있음을 가정\n",
    "print('Text 열에서 중복을 배제한 유일한 샘플의 수 :', data['Text'].nunique())\n",
    "print('Summary 열에서 중복을 배제한 유일한 샘플의 수 :', data['Summary'].nunique())\n",
    "print(data.isnull().sum())"
   ]
  },
  {
   "cell_type": "code",
   "execution_count": 5,
   "id": "3117f5bb",
   "metadata": {},
   "outputs": [
    {
     "name": "stdout",
     "output_type": "stream",
     "text": [
      "전체 샘플수 : 28677\n"
     ]
    }
   ],
   "source": [
    "# text 열에서 중복인 내용이 있다면 중복 제거\n",
    "data.drop_duplicates(subset=['Text'], inplace=True)\n",
    "print(\"전체 샘플수 :\", len(data))"
   ]
  },
  {
   "cell_type": "code",
   "execution_count": 6,
   "id": "ed4579d4",
   "metadata": {},
   "outputs": [
    {
     "name": "stdout",
     "output_type": "stream",
     "text": [
      "불용어 개수 : 179\n",
      "{'very', \"you'd\", 'nor', 't', \"couldn't\", 'both', 'me', \"isn't\", 'again', 'yourself', \"mightn't\", 'our', 'your', \"that'll\", 'because', \"should've\", 've', 'before', 'once', 'each', 'mustn', 'more', 'don', 'was', 'to', 'those', 'an', 'how', 'than', \"mustn't\", 'weren', 'below', \"you're\", 'whom', 'then', 'needn', 'not', 'with', 'out', 'were', 'can', 'you', 'being', 'ourselves', 'other', 'into', \"she's\", 'why', 'hadn', 'y', 'his', \"you'll\", 'no', 'theirs', \"hasn't\", 'has', 'doesn', 'didn', \"doesn't\", 'about', 'further', 'between', \"don't\", 'o', 'from', \"needn't\", 'ain', \"hadn't\", 'this', 'in', 'him', 'am', 'itself', \"weren't\", 'its', 'wasn', 'will', \"aren't\", 'most', 're', 'few', 'if', 'now', 'by', 'yours', 'ours', 'any', 'which', 'all', 'couldn', \"wasn't\", 'until', 'doing', 'after', 'have', 'where', 'm', 'a', 'myself', 'for', 'do', 'ma', 'the', 'so', \"haven't\", 'herself', 'is', 'hasn', 'shouldn', 'as', \"won't\", 'yourselves', \"shouldn't\", 'too', \"didn't\", 'he', 'won', 'haven', 'does', 'been', 'under', 'down', 'having', 'mightn', 'what', 'are', 'over', 'wouldn', 'of', 'she', 'own', 'll', \"it's\", 'same', 'against', 'only', 'here', 'there', 'during', 'they', 'my', 'be', 'had', 'himself', 'their', \"you've\", 'did', \"shan't\", 'or', 'her', 'through', 'some', 'just', 'that', 'we', 'it', 'i', 'who', 'isn', 'themselves', 'and', 'd', 'but', 'them', 'shan', 'aren', 'these', 'at', 'on', \"wouldn't\", 'such', 'off', 'up', 'when', 'above', 'should', 'while', 's', 'hers'}\n"
     ]
    }
   ],
   "source": [
    "# 단어(약어) 정규화 및 불용어 제거 :\n",
    "# 동일한 의미를 가졌지만 스펠링이 다른 단어들을 정규화하기 위한 사전\n",
    "# https://stackoverflow.com/questions/19790188/expanding-english-language-contractions-in-python\n",
    "contractions = {\n",
    "\"'cause\": 'because',\n",
    " \"I'd\": 'I would',\n",
    " \"I'd've\": 'I would have',\n",
    " \"I'll\": 'I will',\n",
    " \"I'll've\": 'I will have',\n",
    " \"I'm\": 'I am',\n",
    " \"I've\": 'I have',\n",
    " \"ain't\": 'is not',\n",
    " \"aren't\": 'are not',\n",
    " \"can't\": 'cannot',\n",
    " \"could've\": 'could have',\n",
    " \"couldn't\": 'could not',\n",
    " \"didn't\": 'did not',\n",
    " \"doesn't\": 'does not',\n",
    " \"don't\": 'do not',\n",
    " \"hadn't\": 'had not',\n",
    " \"hasn't\": 'has not',\n",
    " \"haven't\": 'have not',\n",
    " \"he'd\": 'he would',\n",
    " \"he'll\": 'he will',\n",
    " \"he's\": 'he is',\n",
    " \"here's\": 'here is',\n",
    " \"how'd\": 'how did',\n",
    " \"how'd'y\": 'how do you',\n",
    " \"how'll\": 'how will',\n",
    " \"how's\": 'how is',\n",
    " \"i'd\": 'i would',\n",
    " \"i'd've\": 'i would have',\n",
    " \"i'll\": 'i will',\n",
    " \"i'll've\": 'i will have',\n",
    " \"i'm\": 'i am',\n",
    " \"i've\": 'i have',\n",
    " \"isn't\": 'is not',\n",
    " \"it'd\": 'it would',\n",
    " \"it'd've\": 'it would have',\n",
    " \"it'll\": 'it will',\n",
    " \"it'll've\": 'it will have',\n",
    " \"it's\": 'it is',\n",
    " \"let's\": 'let us',\n",
    " \"ma'am\": 'madam',\n",
    " \"mayn't\": 'may not',\n",
    " \"might've\": 'might have',\n",
    " \"mightn't\": 'might not',\n",
    " \"mightn't've\": 'might not have',\n",
    " \"must've\": 'must have',\n",
    " \"mustn't\": 'must not',\n",
    " \"mustn't've\": 'must not have',\n",
    " \"needn't\": 'need not',\n",
    " \"needn't've\": 'need not have',\n",
    " \"o'clock\": 'of the clock',\n",
    " \"oughtn't\": 'ought not',\n",
    " \"oughtn't've\": 'ought not have',\n",
    " \"sha'n't\": 'shall not',\n",
    " \"shan't\": 'shall not',\n",
    " \"shan't've\": 'shall not have',\n",
    " \"she'd\": 'she would',\n",
    " \"she'd've\": 'she would have',\n",
    " \"she'll\": 'she will',\n",
    " \"she'll've\": 'she will have',\n",
    " \"she's\": 'she is',\n",
    " \"should've\": 'should have',\n",
    " \"shouldn't\": 'should not',\n",
    " \"shouldn't've\": 'should not have',\n",
    " \"so's\": 'so as',\n",
    " \"so've\": 'so have',\n",
    " \"that'd\": 'that would',\n",
    " \"that'd've\": 'that would have',\n",
    " \"that's\": 'that is',\n",
    " \"there'd\": 'there would',\n",
    " \"there'd've\": 'there would have',\n",
    " \"there's\": 'there is',\n",
    " \"they'd\": 'they would',\n",
    " \"they'd've\": 'they would have',\n",
    " \"they'll\": 'they will',\n",
    " \"they'll've\": 'they will have',\n",
    " \"they're\": 'they are',\n",
    " \"they've\": 'they have',\n",
    " \"this's\": 'this is',\n",
    " \"to've\": 'to have',\n",
    " \"wasn't\": 'was not',\n",
    " \"we'd\": 'we would',\n",
    " \"we'd've\": 'we would have',\n",
    " \"we'll\": 'we will',\n",
    " \"we'll've\": 'we will have',\n",
    " \"we're\": 'we are',\n",
    " \"we've\": 'we have',\n",
    " \"weren't\": 'were not',\n",
    " \"what'll\": 'what will',\n",
    " \"what'll've\": 'what will have',\n",
    " \"what're\": 'what are',\n",
    " \"what's\": 'what is',\n",
    " \"what've\": 'what have',\n",
    " \"when's\": 'when is',\n",
    " \"when've\": 'when have',\n",
    " \"where'd\": 'where did',\n",
    " \"where's\": 'where is',\n",
    " \"where've\": 'where have',\n",
    " \"who'll\": 'who will',\n",
    " \"who'll've\": 'who will have',\n",
    " \"who's\": 'who is',\n",
    " \"who've\": 'who have',\n",
    " \"why's\": 'why is',\n",
    " \"why've\": 'why have',\n",
    " \"will've\": 'will have',\n",
    " \"won't\": 'will not',\n",
    " \"won't've\": 'will not have',\n",
    " \"would've\": 'would have',\n",
    " \"wouldn't\": 'would not',\n",
    " \"wouldn't've\": 'would not have',\n",
    " \"y'all\": 'you all',\n",
    " \"y'all'd\": 'you all would',\n",
    " \"y'all'd've\": 'you all would have',\n",
    " \"y'all're\": 'you all are',\n",
    " \"y'all've\": 'you all have',\n",
    " \"you'd\": 'you would',\n",
    " \"you'd've\": 'you would have',\n",
    " \"you'll\": 'you will',\n",
    " \"you'll've\": 'you will have',\n",
    " \"you're\": 'you are',\n",
    " \"you've\": 'you have'\n",
    "}\n",
    "\n",
    "# NLTK 모듈 내 불용어\n",
    "stop_words = set(stopwords.words('english'))\n",
    "print('불용어 개수 :', len(stop_words))\n",
    "print(stop_words)"
   ]
  },
  {
   "cell_type": "code",
   "execution_count": 7,
   "id": "ab55719a",
   "metadata": {},
   "outputs": [],
   "source": [
    "# 전처리 함수\n",
    "import re # Regular expression operation module\n",
    "def preprocess_sentence(sentence, remove_stopwords = True):\n",
    "    sentence = sentence.lower() # 텍스트 소문자화\n",
    "    sentence = BeautifulSoup(sentence, \"lxml\").text # <br />, <a href = ...> 등의 html 태그 제거\n",
    "    sentence = re.sub(r'\\([^)]*\\)', '', sentence) # 괄호로 닫힌 문자열  제거, eg. my husband (and myself) for => my husband for\n",
    "    sentence = re.sub('\"','', sentence) # 쌍따옴표 \" 제거\n",
    "    sentence = ' '.join([contractions[t] if t in contractions else t for t in sentence.split(\" \")]) # 단어(약어) 정규화\n",
    "    sentence = re.sub(r\"'s\\b\",\"\",sentence) # 소유격 제거, eg. roland's -> roland\n",
    "    sentence = re.sub(\"[^a-zA-Z]\", \" \", sentence) # 영어 외 문자(숫자, 특수문자 등) 공백으로 변환\n",
    "    sentence = re.sub('[m]{2,}', 'mm', sentence) # m이 3개 이상이면 2개로 변경, eg. ummmmmmm yeah -> umm yeah\n",
    "\n",
    "    if remove_stopwords: # 불용어 제거 (Text)\n",
    "        tokens = ' '.join(word for word in sentence.split() if not word in stop_words if len(word) > 1)\n",
    "    else: # 불용어 미제거 (Summary), ie. remove_stopwords = False\n",
    "        tokens = ' '.join(word for word in sentence.split() if len(word) > 1)\n",
    "    return tokens"
   ]
  },
  {
   "cell_type": "code",
   "execution_count": 8,
   "id": "5ba8a063",
   "metadata": {
    "scrolled": true
   },
   "outputs": [
    {
     "name": "stdout",
     "output_type": "stream",
     "text": [
      "everything bought great infact ordered twice third ordered wasfor mother father\n",
      "great way to start the day\n"
     ]
    }
   ],
   "source": [
    "# 전처리 테스트\n",
    "temp_text = 'Everything I bought was great, infact I ordered twice and the third ordered was<br />for my mother and father.'\n",
    "temp_summary = 'Great way to start (or finish) the day!!!'\n",
    "print(preprocess_sentence(temp_text))\n",
    "print(preprocess_sentence(temp_summary, False))"
   ]
  },
  {
   "cell_type": "code",
   "execution_count": 9,
   "id": "64a3a3e4",
   "metadata": {},
   "outputs": [
    {
     "name": "stderr",
     "output_type": "stream",
     "text": [
      "C:\\ProgramData\\Anaconda3\\lib\\site-packages\\bs4\\__init__.py:435: MarkupResemblesLocatorWarning: The input looks more like a filename than markup. You may want to open this file and pass the filehandle into Beautiful Soup.\n",
      "  warnings.warn(\n"
     ]
    },
    {
     "name": "stdout",
     "output_type": "stream",
     "text": [
      "['bought several vitality canned dog food products found good quality product looks like stew processed meat smells better labrador finicky appreciates product better', 'product arrived labeled jumbo salted peanuts peanuts actually small sized unsalted sure error vendor intended represent product jumbo', 'confection around centuries light pillowy citrus gelatin nuts case filberts cut tiny squares liberally coated powdered sugar tiny mouthful heaven chewy flavorful highly recommend yummy treat familiar story lewis lion witch wardrobe treat seduces edmund selling brother sisters witch', 'looking secret ingredient robitussin believe found got addition root beer extract ordered made cherry soda flavor medicinal', 'great taffy great price wide assortment yummy taffy delivery quick taffy lover deal']\n",
      "['good quality dog food', 'not as advertised', 'delight says it all', 'cough medicine', 'great taffy']\n",
      "Text        0\n",
      "Summary    25\n",
      "dtype: int64\n",
      "전체 샘플수 : 28652\n"
     ]
    }
   ],
   "source": [
    "# Text 열 전처리\n",
    "clean_text = []\n",
    "for s in data['Text']:\n",
    "    clean_text.append(preprocess_sentence(s))\n",
    "print(clean_text[:5])\n",
    "\n",
    "# Summary 열 전처리\n",
    "clean_summary = []\n",
    "for s in data['Summary']:\n",
    "    clean_summary.append(preprocess_sentence(s, False))\n",
    "print(clean_summary[:5])\n",
    "\n",
    "# 전처리 후의 결과를 다시 데이터프레임에 저장\n",
    "data['Text'] = clean_text\n",
    "data['Summary'] = clean_summary\n",
    "\n",
    "# 길이가 공백인 샘플은 Null 값으로 변환\n",
    "data.replace('', np.nan, inplace=True)\n",
    "print(data.isnull().sum())\n",
    "\n",
    "# Null 값을 가지는 샘플 제거\n",
    "data.dropna(axis = 0, inplace = True)\n",
    "print('전체 샘플수 :',(len(data)))"
   ]
  },
  {
   "cell_type": "code",
   "execution_count": 10,
   "id": "360eb2cf",
   "metadata": {},
   "outputs": [
    {
     "name": "stdout",
     "output_type": "stream",
     "text": [
      "텍스트의 최소 길이 : 4\n",
      "텍스트의 최대 길이 : 863\n",
      "텍스트의 평균 길이 : 37.92873097864023\n",
      "요약의 최소 길이 : 1\n",
      "요약의 최대 길이 : 25\n",
      "요약의 평균 길이 : 3.983770766438643\n"
     ]
    },
    {
     "data": {
      "image/png": "[encoded data removed]",
      "text/plain": [
       "<Figure size 432x288 with 2 Axes>"
      ]
     },
     "metadata": {
      "needs_background": "light"
     },
     "output_type": "display_data"
    },
    {
     "data": {
      "image/png": "[encoded data removed]",
      "text/plain": [
       "<Figure size 432x288 with 1 Axes>"
      ]
     },
     "metadata": {
      "needs_background": "light"
     },
     "output_type": "display_data"
    },
    {
     "data": {
      "image/png": "[encoded data removed]",
      "text/plain": [
       "<Figure size 432x288 with 1 Axes>"
      ]
     },
     "metadata": {
      "needs_background": "light"
     },
     "output_type": "display_data"
    }
   ],
   "source": [
    "# 하이퍼파라미터 조정을 위한 길이 분포 출력\n",
    "text_len = [len(s.split()) for s in data['Text']]\n",
    "summary_len = [len(s.split()) for s in data['Summary']]\n",
    "\n",
    "print('텍스트의 최소 길이 : {}'.format(np.min(text_len)))\n",
    "print('텍스트의 최대 길이 : {}'.format(np.max(text_len)))\n",
    "print('텍스트의 평균 길이 : {}'.format(np.mean(text_len)))\n",
    "print('요약의 최소 길이 : {}'.format(np.min(summary_len)))\n",
    "print('요약의 최대 길이 : {}'.format(np.max(summary_len)))\n",
    "print('요약의 평균 길이 : {}'.format(np.mean(summary_len)))\n",
    "\n",
    "plt.subplot(1,2,1)\n",
    "plt.boxplot(summary_len)\n",
    "plt.title('Summary')\n",
    "plt.subplot(1,2,2)\n",
    "plt.boxplot(text_len)\n",
    "plt.title('Text')\n",
    "plt.tight_layout()\n",
    "plt.show()\n",
    "\n",
    "plt.title('Summary')\n",
    "plt.hist(summary_len, bins=40)\n",
    "plt.xlabel('length of samples')\n",
    "plt.ylabel('number of samples')\n",
    "plt.show()\n",
    "\n",
    "plt.title('Text')\n",
    "plt.hist(text_len, bins=40)\n",
    "plt.xlabel('length of samples')\n",
    "plt.ylabel('number of samples')\n",
    "plt.show()"
   ]
  },
  {
   "cell_type": "code",
   "execution_count": 11,
   "id": "af882f32",
   "metadata": {},
   "outputs": [
    {
     "name": "stdout",
     "output_type": "stream",
     "text": [
      "전체 샘플수 : 21567\n",
      "                                                Text                Summary\n",
      "0  bought several vitality canned dog food produc...  good quality dog food\n",
      "1  product arrived labeled jumbo salted peanuts p...      not as advertised\n",
      "2  confection around centuries light pillowy citr...    delight says it all\n",
      "3  looking secret ingredient robitussin believe f...         cough medicine\n",
      "4  great taffy great price wide assortment yummy ...            great taffy\n"
     ]
    }
   ],
   "source": [
    "# 하이퍼파라미터 : 텍스트 길이 = 평균보다 약간 큰 값으로 결정\n",
    "text_max_len = 50\n",
    "summary_max_len = 8\n",
    "\n",
    "# Text 및 Summary 길이가 위에 정한 최대 길이보다 큰 샘플들 제거\n",
    "data = data[data['Text'].apply(lambda x: len(x.split()) <= text_max_len)]\n",
    "data = data[data['Summary'].apply(lambda x: len(x.split()) <= summary_max_len)]\n",
    "print('전체 샘플수 :',(len(data)))\n",
    "print(data.head())"
   ]
  },
  {
   "cell_type": "code",
   "execution_count": 12,
   "id": "1826bf7f",
   "metadata": {},
   "outputs": [
    {
     "name": "stdout",
     "output_type": "stream",
     "text": [
      "                                                Text                Summary  \\\n",
      "0  bought several vitality canned dog food produc...  good quality dog food   \n",
      "1  product arrived labeled jumbo salted peanuts p...      not as advertised   \n",
      "2  confection around centuries light pillowy citr...    delight says it all   \n",
      "3  looking secret ingredient robitussin believe f...         cough medicine   \n",
      "4  great taffy great price wide assortment yummy ...            great taffy   \n",
      "\n",
      "                    decoder_input                  decoder_target  \n",
      "0  sostoken good quality dog food  good quality dog food eostoken  \n",
      "1      sostoken not as advertised      not as advertised eostoken  \n",
      "2    sostoken delight says it all    delight says it all eostoken  \n",
      "3         sostoken cough medicine         cough medicine eostoken  \n",
      "4            sostoken great taffy            great taffy eostoken  \n"
     ]
    }
   ],
   "source": [
    "# seq2seq 학습을 위해 디코더 입력 및 레이블에 시작 토큰과 종료 토큰 추가\n",
    "# 시작 토큰 'sostoken', 종료 토큰 'eostoken'을 사용하고 문장 앞뒤에 추가\n",
    "# 요약 데이터에 시작 토큰과 종료 토큰 추가\n",
    "data['decoder_input'] = data['Summary'].apply(lambda x : 'sostoken '+ x)\n",
    "data['decoder_target'] = data['Summary'].apply(lambda x : x + ' eostoken')\n",
    "print(data.head())\n",
    "\n",
    "# 인코더의 입력, 그리고 토큰 추가된 디코더의 입력 및 레이블을 각각 저장\n",
    "encoder_input = np.array(data['Text'])\n",
    "decoder_input = np.array(data['decoder_input'])\n",
    "decoder_target = np.array(data['decoder_target'])"
   ]
  },
  {
   "cell_type": "code",
   "execution_count": 13,
   "id": "01f135ea",
   "metadata": {},
   "outputs": [
    {
     "name": "stdout",
     "output_type": "stream",
     "text": [
      "[13464  5041  3181 ...  8471 17048  1318]\n",
      "테스트 데이터의 수 : 4313\n",
      "훈련 데이터의 개수 : 17254\n",
      "훈련 레이블의 개수 : 17254\n",
      "테스트 데이터의 개수 : 4313\n",
      "테스트 레이블의 개수 : 4313\n"
     ]
    }
   ],
   "source": [
    "# 훈련 데이터와 테스트 데이터를 분리\n",
    "indices = np.arange(encoder_input.shape[0])\n",
    "np.random.shuffle(indices)\n",
    "print(indices)\n",
    "\n",
    "encoder_input = encoder_input[indices]\n",
    "decoder_input = decoder_input[indices]\n",
    "decoder_target = decoder_target[indices]\n",
    "\n",
    "# 랜덤하게 섞인 데이터를 8:2의 비율로\n",
    "# 훈련 데이터와 테스트 데이터로 분리\n",
    "n_of_val = int(len(encoder_input)*0.2)\n",
    "print('테스트 데이터의 수 :',n_of_val)\n",
    "\n",
    "encoder_input_train = encoder_input[:-n_of_val]\n",
    "decoder_input_train = decoder_input[:-n_of_val]\n",
    "decoder_target_train = decoder_target[:-n_of_val]\n",
    "\n",
    "encoder_input_test = encoder_input[-n_of_val:]\n",
    "decoder_input_test = decoder_input[-n_of_val:]\n",
    "decoder_target_test = decoder_target[-n_of_val:]\n",
    "\n",
    "print('훈련 데이터의 개수 :', len(encoder_input_train))\n",
    "print('훈련 레이블의 개수 :',len(decoder_input_train))\n",
    "print('테스트 데이터의 개수 :',len(encoder_input_test))\n",
    "print('테스트 레이블의 개수 :',len(decoder_input_test))"
   ]
  },
  {
   "cell_type": "code",
   "execution_count": 14,
   "id": "28e4e223",
   "metadata": {},
   "outputs": [
    {
     "name": "stdout",
     "output_type": "stream",
     "text": [
      "[[313, 577, 335, 37, 55, 150, 431, 469, 1982, 255, 63, 504, 537, 471, 240, 648, 297, 242, 9, 122, 1], [67, 47, 32, 45, 111, 1316, 63, 34, 1015], [7, 203, 643, 263, 418, 573, 1897, 14, 8, 38, 159, 240, 471, 159, 48, 37, 1296, 32, 677, 48, 197, 110, 196, 71, 1130, 800, 91, 43, 1093, 3128, 193, 9, 212, 573, 2568, 432, 218, 1897, 4206, 2, 121, 237], [2, 16, 191, 3945, 1450, 3685, 5608, 2083, 147, 37, 308, 2036, 5609, 1250, 1, 5610, 415, 241, 1768, 1250, 78, 163, 951, 16, 3492, 4556, 2, 6, 10, 42, 258], [2, 1297, 538, 3, 255, 737, 446, 547, 2, 99, 1530, 115, 415, 2, 367, 2142, 29]]\n",
      "[[1, 171, 195, 1311], [1, 48, 226, 351, 4], [1, 9, 501, 817], [1, 25, 80], [1, 3, 227]]\n"
     ]
    }
   ],
   "source": [
    "# 텍스트 벡터화\n",
    "\n",
    "# 텍스트 시퀀스를 정수 시퀀스로 변환\n",
    "src_vocab = 8000\n",
    "src_tokenizer = Tokenizer(src_vocab)\n",
    "src_tokenizer.fit_on_texts(encoder_input_train)\n",
    "\n",
    "encoded_input_train = src_tokenizer.texts_to_sequences(encoder_input_train) \n",
    "encoded_input_test = src_tokenizer.texts_to_sequences(encoder_input_test)\n",
    "print(encoded_input_train[:5])\n",
    "\n",
    "# 요약 시퀀스를 정수 시퀀스로 변환\n",
    "tar_vocab = 2000\n",
    "tar_tokenizer = Tokenizer(tar_vocab)\n",
    "tar_tokenizer.fit_on_texts(decoder_input_train)\n",
    "tar_tokenizer.fit_on_texts(decoder_target_train)\n",
    "\n",
    "decoded_input_train = tar_tokenizer.texts_to_sequences(decoder_input_train) \n",
    "decoded_target_train = tar_tokenizer.texts_to_sequences(decoder_target_train)\n",
    "decoded_input_test = tar_tokenizer.texts_to_sequences(decoder_input_test)\n",
    "decoded_target_test = tar_tokenizer.texts_to_sequences(decoder_target_test)\n",
    "print(decoded_input_train[:5])"
   ]
  },
  {
   "cell_type": "code",
   "execution_count": 15,
   "id": "b0a741e8",
   "metadata": {},
   "outputs": [
    {
     "name": "stdout",
     "output_type": "stream",
     "text": [
      "소스 단어 집합(vocabulary)의 크기 : 18295\n",
      "등장 빈도가 6번 이하인 희귀 단어의 수: 13740\n",
      "단어 집합에서 희귀 단어를 제외시킬 경우의 단어 집합의 크기 4555\n",
      "단어 집합에서 희귀 단어의 비율: 75.10248701831101\n",
      "전체 등장 빈도에서 희귀 단어 등장 빈도 비율: 6.249031157960006\n",
      "타겟 단어 집합(vocabulary)의 크기 : 5655\n",
      "등장 빈도가 6번 이하인 희귀 단어의 수: 4099\n",
      "단어 집합에서 희귀 단어를 제외시킬 경우의 단어 집합의 크기 1556\n",
      "단어 집합에서 희귀 단어의 비율: 72.48452696728559\n",
      "전체 등장 빈도에서 희귀 단어 등장 빈도 비율: 7.532919451144767\n"
     ]
    }
   ],
   "source": [
    "# 참고 : 등장 빈도수가 7회 미만인 단어들이 얼만큼의 비중을 차지하는지 확인\n",
    "threshold = 7\n",
    "total_cnt = len(src_tokenizer.word_index) # 단어의 수\n",
    "rare_cnt = 0 # 등장 빈도수가 threshold보다 작은 단어의 개수를 카운트\n",
    "total_freq = 0 # 훈련 데이터의 전체 단어 빈도수 총 합\n",
    "rare_freq = 0 # 등장 빈도수가 threshold보다 작은 단어의 등장 빈도수의 총 합\n",
    "\n",
    "# 단어와 빈도수의 쌍(pair)을 key와 value로 받음\n",
    "for key, value in src_tokenizer.word_counts.items():\n",
    "    total_freq = total_freq + value\n",
    "\n",
    "    # 단어의 등장 빈도수가 threshold보다 작을경우\n",
    "    if(value < threshold):\n",
    "        rare_cnt = rare_cnt + 1\n",
    "        rare_freq = rare_freq + value\n",
    "\n",
    "print('소스 단어 집합(vocabulary)의 크기 :',total_cnt)\n",
    "print('등장 빈도가 %s번 이하인 희귀 단어의 수: %s'%(threshold - 1, rare_cnt))\n",
    "print('단어 집합에서 희귀 단어를 제외시킬 경우의 단어 집합의 크기 %s'%(total_cnt - rare_cnt))\n",
    "print(\"단어 집합에서 희귀 단어의 비율:\", (rare_cnt / total_cnt)*100)\n",
    "print(\"전체 등장 빈도에서 희귀 단어 등장 빈도 비율:\", (rare_freq / total_freq)*100)\n",
    "\n",
    "total_cnt = len(tar_tokenizer.word_index) # 단어의 수\n",
    "rare_cnt = 0 # 등장 빈도수가 threshold보다 작은 단어의 개수를 카운트\n",
    "total_freq = 0 # 훈련 데이터의 전체 단어 빈도수 총 합\n",
    "rare_freq = 0 # 등장 빈도수가 threshold보다 작은 단어의 등장 빈도수의 총 합\n",
    "\n",
    "# 단어와 빈도수의 쌍(pair)을 key와 value로 받음\n",
    "for key, value in tar_tokenizer.word_counts.items():\n",
    "    total_freq = total_freq + value\n",
    "\n",
    "    # 단어의 등장 빈도수가 threshold보다 작을경우\n",
    "    if(value < threshold):\n",
    "        rare_cnt = rare_cnt + 1\n",
    "        rare_freq = rare_freq + value\n",
    "\n",
    "print('타겟 단어 집합(vocabulary)의 크기 :',total_cnt)\n",
    "print('등장 빈도가 %s번 이하인 희귀 단어의 수: %s'%(threshold - 1, rare_cnt))\n",
    "print('단어 집합에서 희귀 단어를 제외시킬 경우의 단어 집합의 크기 %s'%(total_cnt - rare_cnt))\n",
    "print(\"단어 집합에서 희귀 단어의 비율:\", (rare_cnt / total_cnt)*100)\n",
    "print(\"전체 등장 빈도에서 희귀 단어 등장 빈도 비율:\", (rare_freq / total_freq)*100)"
   ]
  },
  {
   "cell_type": "code",
   "execution_count": 16,
   "id": "9662560d",
   "metadata": {},
   "outputs": [
    {
     "name": "stdout",
     "output_type": "stream",
     "text": [
      "삭제할 훈련 데이터의 개수 : 0\n",
      "삭제할 테스트 데이터의 개수 : 0\n",
      "훈련 데이터의 개수 : 17254\n",
      "훈련 레이블의 개수 : 17254\n",
      "테스트 데이터의 개수 : 4313\n",
      "테스트 레이블의 개수 : 4313\n"
     ]
    },
    {
     "name": "stderr",
     "output_type": "stream",
     "text": [
      "C:\\ProgramData\\Anaconda3\\lib\\site-packages\\numpy\\lib\\function_base.py:4454: VisibleDeprecationWarning: Creating an ndarray from ragged nested sequences (which is a list-or-tuple of lists-or-tuples-or ndarrays with different lengths or shapes) is deprecated. If you meant to do this, you must specify 'dtype=object' when creating the ndarray.\n",
      "  arr = asarray(arr)\n"
     ]
    }
   ],
   "source": [
    "# 만약 전체 데이터에서 빈도수가 낮은 단어들을 삭제했을 경우\n",
    "# 빈도수가 낮은 단어만으로 구성되었던 샘플들은 빈(empty) 샘플이 됨\n",
    "# 요약문의 경우 sostoken, eostoken이 추가됨, 빈 요약문의 실질적 길이는 1\n",
    "drop_train = [index for index, sentence in enumerate(decoder_input_train) if len(sentence) == 1]\n",
    "drop_test = [index for index, sentence in enumerate(decoder_input_test) if len(sentence) == 1]\n",
    "\n",
    "print('삭제할 훈련 데이터의 개수 :',len(drop_train))\n",
    "print('삭제할 테스트 데이터의 개수 :',len(drop_test))\n",
    "\n",
    "encoded_input_train = np.delete(encoded_input_train, drop_train, axis=0)\n",
    "decoded_input_train = np.delete(decoded_input_train, drop_train, axis=0)\n",
    "decoded_target_train = np.delete(decoded_target_train, drop_train, axis=0)\n",
    "\n",
    "encoded_input_test = np.delete(encoded_input_test, drop_test, axis=0)\n",
    "decoded_input_test = np.delete(decoded_input_test, drop_test, axis=0)\n",
    "decoded_target_test = np.delete(decoded_target_test, drop_test, axis=0)\n",
    "\n",
    "print('훈련 데이터의 개수 :', len(encoded_input_train))\n",
    "print('훈련 레이블의 개수 :',len(decoded_input_train))\n",
    "print('테스트 데이터의 개수 :',len(encoded_input_test))\n",
    "print('테스트 레이블의 개수 :',len(decoded_input_test))"
   ]
  },
  {
   "cell_type": "code",
   "execution_count": 17,
   "id": "2a697d6b",
   "metadata": {
    "scrolled": false
   },
   "outputs": [
    {
     "name": "stdout",
     "output_type": "stream",
     "text": [
      "[[ 313  577  335   37   55  150  431  469 1982  255   63  504  537  471\n",
      "   240  648  297  242    9  122    1    0    0    0    0    0    0    0\n",
      "     0    0    0    0    0    0    0    0    0    0    0    0    0    0\n",
      "     0    0    0    0    0    0    0    0]\n",
      " [  67   47   32   45  111 1316   63   34 1015    0    0    0    0    0\n",
      "     0    0    0    0    0    0    0    0    0    0    0    0    0    0\n",
      "     0    0    0    0    0    0    0    0    0    0    0    0    0    0\n",
      "     0    0    0    0    0    0    0    0]\n",
      " [   7  203  643  263  418  573 1897   14    8   38  159  240  471  159\n",
      "    48   37 1296   32  677   48  197  110  196   71 1130  800   91   43\n",
      "  1093 3128  193    9  212  573 2568  432  218 1897 4206    2  121  237\n",
      "     0    0    0    0    0    0    0    0]\n",
      " [   2   16  191 3945 1450 3685 5608 2083  147   37  308 2036 5609 1250\n",
      "     1 5610  415  241 1768 1250   78  163  951   16 3492 4556    2    6\n",
      "    10   42  258    0    0    0    0    0    0    0    0    0    0    0\n",
      "     0    0    0    0    0    0    0    0]\n",
      " [   2 1297  538    3  255  737  446  547    2   99 1530  115  415    2\n",
      "   367 2142   29    0    0    0    0    0    0    0    0    0    0    0\n",
      "     0    0    0    0    0    0    0    0    0    0    0    0    0    0\n",
      "     0    0    0    0    0    0    0    0]]\n",
      "[[   1  171  195 1311    0    0    0    0]\n",
      " [   1   48  226  351    4    0    0    0]\n",
      " [   1    9  501  817    0    0    0    0]\n",
      " [   1   25   80    0    0    0    0    0]\n",
      " [   1    3  227    0    0    0    0    0]]\n"
     ]
    }
   ],
   "source": [
    "# 최대 길이에 맞추어 훈련 데이터와 테스트 데이터에 대해서 패딩 작업을 수행\n",
    "encoded_input_train = pad_sequences(encoded_input_train, maxlen = text_max_len, padding='post')\n",
    "encoded_input_test = pad_sequences(encoded_input_test, maxlen = text_max_len, padding='post')\n",
    "decoded_input_train = pad_sequences(decoded_input_train, maxlen = summary_max_len, padding='post')\n",
    "decoded_target_train = pad_sequences(decoded_target_train, maxlen = summary_max_len, padding='post')\n",
    "decoded_input_test = pad_sequences(decoded_input_test, maxlen = summary_max_len, padding='post')\n",
    "decoded_target_test = pad_sequences(decoded_target_test, maxlen = summary_max_len, padding='post')\n",
    "\n",
    "print(encoded_input_train[:5])\n",
    "print(decoded_input_train[:5])"
   ]
  },
  {
   "cell_type": "code",
   "execution_count": 18,
   "id": "32bc6ddf",
   "metadata": {},
   "outputs": [
    {
     "data": {
      "text/plain": [
       "\"\\n# 디코더의 출력층 : 어텐션을 사용하지 않을경우\\ndecoder_softmax_layer = Dense(tar_vocab, activation = 'softmax')\\ndecoder_softmax_outputs = decoder_softmax_layer(decoder_outputs) \\n\\n# 모델 정의\\nmodel = Model([encoder_inputs, decoder_inputs], decoder_softmax_outputs)\\nmodel.summary()\\n\""
      ]
     },
     "execution_count": 18,
     "metadata": {},
     "output_type": "execute_result"
    }
   ],
   "source": [
    "from tensorflow.keras.layers import Input, LSTM, Embedding, Dense, Concatenate\n",
    "from tensorflow.keras.models import Model\n",
    "from tensorflow.keras.callbacks import EarlyStopping, ModelCheckpoint\n",
    "\n",
    "embedding_dim = 128\n",
    "hidden_size = 256\n",
    "\n",
    "# 인코더 설계 : LSTM 층 3개\n",
    "encoder_inputs = Input(shape=(text_max_len,))\n",
    "\n",
    "# 인코더의 임베딩 층\n",
    "enc_emb = Embedding(src_vocab, embedding_dim)(encoder_inputs)\n",
    "\n",
    "# 인코더의 LSTM 1\n",
    "encoder_lstm1 = LSTM(hidden_size, return_sequences=True, return_state=True ,dropout = 0.4, recurrent_dropout = 0.4)\n",
    "encoder_output1, state_h1, state_c1 = encoder_lstm1(enc_emb)\n",
    "\n",
    "# 인코더의 LSTM 2\n",
    "encoder_lstm2 = LSTM(hidden_size, return_sequences=True, return_state=True, dropout=0.4, recurrent_dropout=0.4)\n",
    "encoder_output2, state_h2, state_c2 = encoder_lstm2(encoder_output1)\n",
    "\n",
    "# 인코더의 LSTM 3\n",
    "encoder_lstm3 = LSTM(hidden_size, return_state=True, return_sequences=True, dropout=0.4, recurrent_dropout=0.4)\n",
    "encoder_outputs, state_h, state_c= encoder_lstm3(encoder_output2)\n",
    "\n",
    "# 디코더 설계\n",
    "decoder_inputs = Input(shape=(None,))\n",
    "\n",
    "# 디코더의 임베딩 층\n",
    "dec_emb_layer = Embedding(tar_vocab, embedding_dim)\n",
    "dec_emb = dec_emb_layer(decoder_inputs)\n",
    "\n",
    "# 디코더의 LSTM\n",
    "decoder_lstm = LSTM(hidden_size, return_sequences = True, return_state = True, dropout = 0.4, recurrent_dropout=0.2)\n",
    "decoder_outputs, _, _ = decoder_lstm(dec_emb, initial_state = [state_h, state_c])\n",
    "\n",
    "'''\n",
    "# 디코더의 출력층 : 어텐션을 사용하지 않을경우\n",
    "decoder_softmax_layer = Dense(tar_vocab, activation = 'softmax')\n",
    "decoder_softmax_outputs = decoder_softmax_layer(decoder_outputs) \n",
    "\n",
    "# 모델 정의\n",
    "model = Model([encoder_inputs, decoder_inputs], decoder_softmax_outputs)\n",
    "model.summary()\n",
    "'''"
   ]
  },
  {
   "cell_type": "code",
   "execution_count": 19,
   "id": "e61ffb2b",
   "metadata": {},
   "outputs": [
    {
     "name": "stdout",
     "output_type": "stream",
     "text": [
      "Model: \"model\"\n",
      "__________________________________________________________________________________________________\n",
      " Layer (type)                   Output Shape         Param #     Connected to                     \n",
      "==================================================================================================\n",
      " input_1 (InputLayer)           [(None, 50)]         0           []                               \n",
      "                                                                                                  \n",
      " embedding (Embedding)          (None, 50, 128)      1024000     ['input_1[0][0]']                \n",
      "                                                                                                  \n",
      " lstm (LSTM)                    [(None, 50, 256),    394240      ['embedding[0][0]']              \n",
      "                                 (None, 256),                                                     \n",
      "                                 (None, 256)]                                                     \n",
      "                                                                                                  \n",
      " input_2 (InputLayer)           [(None, None)]       0           []                               \n",
      "                                                                                                  \n",
      " lstm_1 (LSTM)                  [(None, 50, 256),    525312      ['lstm[0][0]']                   \n",
      "                                 (None, 256),                                                     \n",
      "                                 (None, 256)]                                                     \n",
      "                                                                                                  \n",
      " embedding_1 (Embedding)        (None, None, 128)    256000      ['input_2[0][0]']                \n",
      "                                                                                                  \n",
      " lstm_2 (LSTM)                  [(None, 50, 256),    525312      ['lstm_1[0][0]']                 \n",
      "                                 (None, 256),                                                     \n",
      "                                 (None, 256)]                                                     \n",
      "                                                                                                  \n",
      " lstm_3 (LSTM)                  [(None, None, 256),  394240      ['embedding_1[0][0]',            \n",
      "                                 (None, 256),                     'lstm_2[0][1]',                 \n",
      "                                 (None, 256)]                     'lstm_2[0][2]']                 \n",
      "                                                                                                  \n",
      " attention_layer (AttentionLaye  ((None, None, 256),  131328     ['lstm_2[0][0]',                 \n",
      " r)                              (None, None, 50))                'lstm_3[0][0]']                 \n",
      "                                                                                                  \n",
      " concat_layer (Concatenate)     (None, None, 512)    0           ['lstm_3[0][0]',                 \n",
      "                                                                  'attention_layer[0][0]']        \n",
      "                                                                                                  \n",
      " dense (Dense)                  (None, None, 2000)   1026000     ['concat_layer[0][0]']           \n",
      "                                                                                                  \n",
      "==================================================================================================\n",
      "Total params: 4,276,432\n",
      "Trainable params: 4,276,432\n",
      "Non-trainable params: 0\n",
      "__________________________________________________________________________________________________\n"
     ]
    }
   ],
   "source": [
    "# importing attention layer (바다나우 어텐션)\n",
    "import tensorflow as tf\n",
    "import os\n",
    "from tensorflow.keras.layers import Layer\n",
    "from tensorflow.keras import backend as K\n",
    "\n",
    "# This class implements Bahdanau attention (https://arxiv.org/pdf/1409.0473.pdf).\n",
    "class AttentionLayer(Layer):\n",
    "\n",
    "    def __init__(self, **kwargs):\n",
    "        super(AttentionLayer, self).__init__(**kwargs)\n",
    "\n",
    "    def build(self, input_shape):\n",
    "        assert isinstance(input_shape, list)\n",
    "        # Create a trainable weight variable for this layer.\n",
    "\n",
    "        self.W_a = self.add_weight(name='W_a',\n",
    "                                   shape=tf.TensorShape((input_shape[0][2], input_shape[0][2])),\n",
    "                                   initializer='uniform',\n",
    "                                   trainable=True)\n",
    "        self.U_a = self.add_weight(name='U_a',\n",
    "                                   shape=tf.TensorShape((input_shape[1][2], input_shape[0][2])),\n",
    "                                   initializer='uniform',\n",
    "                                   trainable=True)\n",
    "        self.V_a = self.add_weight(name='V_a',\n",
    "                                   shape=tf.TensorShape((input_shape[0][2], 1)),\n",
    "                                   initializer='uniform',\n",
    "                                   trainable=True)\n",
    "\n",
    "        super(AttentionLayer, self).build(input_shape)  # Be sure to call this at the end\n",
    "\n",
    "    def call(self, inputs, verbose=False):\n",
    "        \"\"\"\n",
    "        inputs: [encoder_output_sequence, decoder_output_sequence]\n",
    "        \"\"\"\n",
    "        assert type(inputs) == list\n",
    "        encoder_out_seq, decoder_out_seq = inputs\n",
    "        if verbose:\n",
    "            print('encoder_out_seq>', encoder_out_seq.shape)\n",
    "            print('decoder_out_seq>', decoder_out_seq.shape)\n",
    "\n",
    "        def energy_step(inputs, states):\n",
    "            \"\"\" Step function for computing energy for a single decoder state\n",
    "            inputs: (batchsize * 1 * de_in_dim)\n",
    "            states: (batchsize * 1 * de_latent_dim)\n",
    "            \"\"\"\n",
    "\n",
    "            assert_msg = \"States must be an iterable. Got {} of type {}\".format(states, type(states))\n",
    "            assert isinstance(states, list) or isinstance(states, tuple), assert_msg\n",
    "\n",
    "            \"\"\" Some parameters required for shaping tensors\"\"\"\n",
    "            en_seq_len, en_hidden = encoder_out_seq.shape[1], encoder_out_seq.shape[2]\n",
    "            de_hidden = inputs.shape[-1]\n",
    "\n",
    "            \"\"\" Computing S.Wa where S=[s0, s1, ..., si]\"\"\"\n",
    "            # <= batch size * en_seq_len * latent_dim\n",
    "            W_a_dot_s = K.dot(encoder_out_seq, self.W_a)\n",
    "\n",
    "            \"\"\" Computing hj.Ua \"\"\"\n",
    "            U_a_dot_h = K.expand_dims(K.dot(inputs, self.U_a), 1)  # <= batch_size, 1, latent_dim\n",
    "            if verbose:\n",
    "                print('Ua.h>', U_a_dot_h.shape)\n",
    "\n",
    "            \"\"\" tanh(S.Wa + hj.Ua) \"\"\"\n",
    "            # <= batch_size*en_seq_len, latent_dim\n",
    "            Ws_plus_Uh = K.tanh(W_a_dot_s + U_a_dot_h)\n",
    "            if verbose:\n",
    "                print('Ws+Uh>', Ws_plus_Uh.shape)\n",
    "\n",
    "            \"\"\" softmax(va.tanh(S.Wa + hj.Ua)) \"\"\"\n",
    "            # <= batch_size, en_seq_len\n",
    "            e_i = K.squeeze(K.dot(Ws_plus_Uh, self.V_a), axis=-1)\n",
    "            # <= batch_size, en_seq_len\n",
    "            e_i = K.softmax(e_i)\n",
    "\n",
    "            if verbose:\n",
    "                print('ei>', e_i.shape)\n",
    "\n",
    "            return e_i, [e_i]\n",
    "\n",
    "        def context_step(inputs, states):\n",
    "            \"\"\" Step function for computing ci using ei \"\"\"\n",
    "\n",
    "            assert_msg = \"States must be an iterable. Got {} of type {}\".format(states, type(states))\n",
    "            assert isinstance(states, list) or isinstance(states, tuple), assert_msg\n",
    "\n",
    "            # <= batch_size, hidden_size\n",
    "            c_i = K.sum(encoder_out_seq * K.expand_dims(inputs, -1), axis=1)\n",
    "            if verbose:\n",
    "                print('ci>', c_i.shape)\n",
    "            return c_i, [c_i]\n",
    "\n",
    "        fake_state_c = K.sum(encoder_out_seq, axis=1)\n",
    "        fake_state_e = K.sum(encoder_out_seq, axis=2)  # <= (batch_size, enc_seq_len, latent_dim\n",
    "\n",
    "        \"\"\" Computing energy outputs \"\"\"\n",
    "        # e_outputs => (batch_size, de_seq_len, en_seq_len)\n",
    "        last_out, e_outputs, _ = K.rnn(\n",
    "            energy_step, decoder_out_seq, [fake_state_e],\n",
    "        )\n",
    "\n",
    "        \"\"\" Computing context vectors \"\"\"\n",
    "        last_out, c_outputs, _ = K.rnn(\n",
    "            context_step, e_outputs, [fake_state_c],\n",
    "        )\n",
    "\n",
    "        return c_outputs, e_outputs\n",
    "\n",
    "    def compute_output_shape(self, input_shape):\n",
    "        \"\"\" Outputs produced by the layer \"\"\"\n",
    "        return [\n",
    "            tf.TensorShape((input_shape[1][0], input_shape[1][1], input_shape[1][2])),\n",
    "            tf.TensorShape((input_shape[1][0], input_shape[1][1], input_shape[0][1]))\n",
    "        ]\n",
    "\n",
    "# 어텐션 층(어텐션 함수)\n",
    "attn_layer = AttentionLayer(name='attention_layer')\n",
    "attn_out, attn_states = attn_layer([encoder_outputs, decoder_outputs])\n",
    "\n",
    "# 어텐션의 결과와 디코더의 hidden state들을 연결\n",
    "decoder_concat_input = Concatenate(axis = -1, name='concat_layer')([decoder_outputs, attn_out])\n",
    "\n",
    "# 디코더의 출력층 : 어텐션을 사용 할 경우\n",
    "decoder_softmax_layer = Dense(tar_vocab, activation='softmax')\n",
    "decoder_softmax_outputs = decoder_softmax_layer(decoder_concat_input)\n",
    "\n",
    "# 모델 정의\n",
    "model = Model([encoder_inputs, decoder_inputs], decoder_softmax_outputs)\n",
    "model.summary()"
   ]
  },
  {
   "cell_type": "code",
   "execution_count": 22,
   "id": "e3d3ad43",
   "metadata": {},
   "outputs": [
    {
     "name": "stdout",
     "output_type": "stream",
     "text": [
      "68/68 [==============================] - 772s 11s/step - loss: 2.8168 - val_loss: 2.4787\n"
     ]
    }
   ],
   "source": [
    "model.compile(optimizer='rmsprop', loss='sparse_categorical_crossentropy')\n",
    "\n",
    "# patience 옵션을 2로 설정 : 모델 학습 시 성능이 개선되지 않는 횟수가 2회를 초과하면 학습을 멈춤\n",
    "earlystop = EarlyStopping(monitor='val_loss', mode='min', verbose=1, patience = 2)\n",
    "history = model.fit(x = [encoded_input_train, decoded_input_train], y = decoded_target_train, \\\n",
    "          validation_data = ([encoded_input_test, decoded_input_test], decoded_target_test), \\\n",
    "          batch_size = 256, callbacks=[earlystop], epochs = 1)"
   ]
  },
  {
   "cell_type": "code",
   "execution_count": 26,
   "id": "ce0ce2b0",
   "metadata": {},
   "outputs": [
    {
     "data": {
      "image/png": "[encoded data removed]",
      "text/plain": [
       "<Figure size 432x288 with 1 Axes>"
      ]
     },
     "metadata": {
      "needs_background": "light"
     },
     "output_type": "display_data"
    }
   ],
   "source": [
    "plt.plot(history.history['loss'], label='train')\n",
    "plt.plot(history.history['val_loss'], label='test')\n",
    "plt.legend()\n",
    "plt.show()"
   ]
  },
  {
   "cell_type": "code",
   "execution_count": 27,
   "id": "c9256408",
   "metadata": {},
   "outputs": [],
   "source": [
    "# 테스트 용 seq2seq + attention 요약 모델\n",
    "# seq2seq는 훈련 단계와 테스트 단계의 동작이 다르므로 테스트 단계의 모델을 별도로 다시 설계할 필요가 있음\n",
    "\n",
    "# 인코더 설계\n",
    "encoder_model = Model(inputs=encoder_inputs, outputs=[encoder_outputs, state_h, state_c])\n",
    "\n",
    "# 이전 시점의 상태들을 저장하는 텐서\n",
    "decoder_state_input_h = Input(shape=(hidden_size,))\n",
    "decoder_state_input_c = Input(shape=(hidden_size,))\n",
    "\n",
    "dec_emb2 = dec_emb_layer(decoder_inputs)\n",
    "# 문장의 다음 단어를 예측하기 위해서 초기 상태(initial_state)를 이전 시점의 상태로 사용, 이는 함수 decode_sequence()에 구현\n",
    "# 훈련 과정에서와 달리 LSTM의 리턴하는 은닉 상태와 셀 상태인 state_h와 state_c를 버리지 않음\n",
    "decoder_outputs2, state_h2, state_c2 = decoder_lstm(dec_emb2, initial_state=[decoder_state_input_h, decoder_state_input_c])\n",
    "\n",
    "# 어텐션 함수\n",
    "decoder_hidden_state_input = Input(shape=(text_max_len, hidden_size))\n",
    "attn_out_inf, attn_states_inf = attn_layer([decoder_hidden_state_input, decoder_outputs2])\n",
    "decoder_inf_concat = Concatenate(axis=-1, name='concat')([decoder_outputs2, attn_out_inf])\n",
    "\n",
    "# 디코더의 출력층\n",
    "decoder_outputs2 = decoder_softmax_layer(decoder_inf_concat) \n",
    "\n",
    "# 최종 디코더 모델\n",
    "decoder_model = Model(\n",
    "    [decoder_inputs] + [decoder_hidden_state_input,decoder_state_input_h, decoder_state_input_c],\n",
    "    [decoder_outputs2] + [state_h2, state_c2])\n",
    "\n",
    "def decode_sequence(input_seq):\n",
    "    # 입력으로부터 인코더의 상태를 얻음\n",
    "    e_out, e_h, e_c = encoder_model.predict(input_seq)\n",
    "\n",
    "     # <SOS>에 해당하는 토큰 생성\n",
    "    target_seq = np.zeros((1,1))\n",
    "    target_seq[0, 0] = tar_word_to_index['sostoken']\n",
    "\n",
    "    stop_condition = False\n",
    "    decoded_sentence = ''\n",
    "    while not stop_condition: # stop_condition이 True가 될 때까지 루프 반복\n",
    "\n",
    "        output_tokens, h, c = decoder_model.predict([target_seq] + [e_out, e_h, e_c])\n",
    "        sampled_token_index = np.argmax(output_tokens[0, -1, :])\n",
    "        sampled_token = tar_index_to_word[sampled_token_index]\n",
    "\n",
    "        if(sampled_token!='eostoken'):\n",
    "            decoded_sentence += ' '+sampled_token\n",
    "\n",
    "        #  <eos>에 도달하거나 최대 길이를 넘으면 중단.\n",
    "        if (sampled_token == 'eostoken'  or len(decoded_sentence.split()) >= (summary_max_len-1)):\n",
    "            stop_condition = True\n",
    "\n",
    "        # 길이가 1인 타겟 시퀀스를 업데이트\n",
    "        target_seq = np.zeros((1,1))\n",
    "        target_seq[0, 0] = sampled_token_index\n",
    "\n",
    "        # 상태를 업데이트 합니다.\n",
    "        e_h, e_c = h, c\n",
    "\n",
    "    return decoded_sentence"
   ]
  },
  {
   "cell_type": "code",
   "execution_count": 31,
   "id": "3c1c955a",
   "metadata": {},
   "outputs": [
    {
     "name": "stdout",
     "output_type": "stream",
     "text": [
      "원문 : chili recipe great find husband loved easy make liked recommend \n",
      "실제 요약문 : we loved this chili recipe \n",
      "예측 요약문 :  great\n",
      "\n",
      "\n",
      "원문 : several relatives dietary restrictions family including gluten dairy sensitivity happy try pamela oat chocolate chip coconut snack bars taste good well balanced chocolate coconut flavors pleasant moist consistency similar oat bars tried since gluten dairy free everyone family enjoy without worrying effects update like much reorder family friends recommended cfh \n",
      "실제 요약문 : very good tasting snack bars recommended \n",
      "예측 요약문 :  great\n",
      "\n",
      "\n",
      "원문 : look tasty candy freak try say least extremely dissapointed chemical taste texture like chewing glue nasty would never eat buy goes flavors \n",
      "실제 요약문 : \n",
      "예측 요약문 :  great\n",
      "\n",
      "\n",
      "원문 : made potato bread great results hodgson bread mix way dry needs moisture buy unless want really dry bread \n",
      "실제 요약문 : potato bread \n",
      "예측 요약문 :  great\n",
      "\n",
      "\n",
      "원문 : dog love busy buddy bottle fill dog food treats spends lots time floor get treats eat rope top right away put bottle helps block top things harder get great toy cocker spaniel \n",
      "실제 요약문 : great toy \n",
      "예측 요약문 :  great\n",
      "\n",
      "\n",
      "원문 : great deal agree best right amount hot tough taste great \n",
      "실제 요약문 : beef sticks \n",
      "예측 요약문 :  great\n",
      "\n",
      "\n",
      "원문 : realize getting packets chips happy see arrived love anything sweet potato opened box eagerly started delicious concern really like texture anything popped flavor delicious overlook chips would work perfectly many diet plans crispy although real chips satisfy urge something crunchy going buy several flavors keep hand \n",
      "실제 요약문 : these are scrumptious \n",
      "예측 요약문 :  great\n",
      "\n",
      "\n",
      "원문 : received coffee time promised paul newman coffee fantastic rich robust flavor buy \n",
      "실제 요약문 : coffee \n",
      "예측 요약문 :  great\n",
      "\n",
      "\n",
      "원문 : loved flavor fact long lasting everyone office eats eat half stick sitting around big gum far able gum flavor like bright citrus taste overpowering love like minty gum go mint chocolate chip flavor gum \n",
      "실제 요약문 : awesome taste \n",
      "예측 요약문 :  great\n",
      "\n",
      "\n",
      "원문 : weeks pregnant worst case heartburn indigestion sick till mom found tea first day drank cups symptoms bit continued using day heartburn indigestion day still going strong feeling better ever thank god moms tea \n",
      "실제 요약문 : it works \n",
      "예측 요약문 :  great\n",
      "\n",
      "\n"
     ]
    }
   ],
   "source": [
    "src_index_to_word = src_tokenizer.index_word # 원문 단어 집합에서 정수 -> 단어를 얻음\n",
    "tar_word_to_index = tar_tokenizer.word_index # 요약 단어 집합에서 단어 -> 정수를 얻음\n",
    "tar_index_to_word = tar_tokenizer.index_word # 요약 단어 집합에서 정수 -> 단어를 얻음\n",
    "\n",
    "# 원문의 정수 시퀀스를 텍스트 시퀀스로 변환\n",
    "def seq2text(input_seq):\n",
    "    sentence=''\n",
    "    for i in input_seq:\n",
    "        if(i!=0):\n",
    "            sentence = sentence + src_index_to_word[i]+' '\n",
    "    return sentence\n",
    "\n",
    "# 요약문의 정수 시퀀스를 텍스트 시퀀스로 변환\n",
    "def seq2summary(input_seq):\n",
    "    sentence=''\n",
    "    for i in input_seq:\n",
    "        if((i!=0 and i!=tar_word_to_index['sostoken']) and i!=tar_word_to_index['eostoken']):\n",
    "            sentence = sentence + tar_index_to_word[i] + ' '\n",
    "    return sentence\n",
    "\n",
    "# 테스트 샘플 중 100번부터 110번까지 실제/예측 요약문 비교\n",
    "for i in range(100, 110):\n",
    "    print(\"원문 :\",seq2text(encoded_input_test[i]))\n",
    "    print(\"실제 요약문 :\",seq2summary(decoded_input_test[i]))\n",
    "    print(\"예측 요약문 :\",decode_sequence(encoded_input_test[i].reshape(1, text_max_len)))\n",
    "    print(\"\\n\")"
   ]
  },
  {
   "cell_type": "code",
   "execution_count": null,
   "id": "31a00970",
   "metadata": {},
   "outputs": [],
   "source": []
  },
  {
   "cell_type": "code",
   "execution_count": 30,
   "id": "ecb7c258",
   "metadata": {},
   "outputs": [
    {
     "data": {
      "application/vnd.jupyter.widget-view+json": {
       "model_id": "a52e580335864979a8034f12a62beb95",
       "version_major": 2,
       "version_minor": 0
      },
      "text/plain": [
       "Downloading:   0%|          | 0.00/899k [00:00<?, ?B/s]"
      ]
     },
     "metadata": {},
     "output_type": "display_data"
    },
    {
     "data": {
      "application/vnd.jupyter.widget-view+json": {
       "model_id": "df0c38822bcf406dafd3ba2ce0573054",
       "version_major": 2,
       "version_minor": 0
      },
      "text/plain": [
       "Downloading:   0%|          | 0.00/456k [00:00<?, ?B/s]"
      ]
     },
     "metadata": {},
     "output_type": "display_data"
    },
    {
     "data": {
      "application/vnd.jupyter.widget-view+json": {
       "model_id": "de6ed40ff8204ec083d4f15c9eb67926",
       "version_major": 2,
       "version_minor": 0
      },
      "text/plain": [
       "Downloading:   0%|          | 0.00/26.0 [00:00<?, ?B/s]"
      ]
     },
     "metadata": {},
     "output_type": "display_data"
    },
    {
     "data": {
      "application/vnd.jupyter.widget-view+json": {
       "model_id": "e6f0920c4c0e459e9854ed0eade03678",
       "version_major": 2,
       "version_minor": 0
      },
      "text/plain": [
       "Downloading:   0%|          | 0.00/1.36M [00:00<?, ?B/s]"
      ]
     },
     "metadata": {},
     "output_type": "display_data"
    },
    {
     "data": {
      "application/vnd.jupyter.widget-view+json": {
       "model_id": "8eb5d2eccb424edeba815fa788c26a8e",
       "version_major": 2,
       "version_minor": 0
      },
      "text/plain": [
       "Downloading:   0%|          | 0.00/1.63k [00:00<?, ?B/s]"
      ]
     },
     "metadata": {},
     "output_type": "display_data"
    },
    {
     "data": {
      "application/vnd.jupyter.widget-view+json": {
       "model_id": "0ef549b047cb4c0697b01a4dc96e3a71",
       "version_major": 2,
       "version_minor": 0
      },
      "text/plain": [
       "Downloading:   0%|          | 0.00/1.63G [00:00<?, ?B/s]"
      ]
     },
     "metadata": {},
     "output_type": "display_data"
    },
    {
     "name": "stderr",
     "output_type": "stream",
     "text": [
      "All model checkpoint layers were used when initializing TFBartForConditionalGeneration.\n",
      "\n",
      "All the layers of TFBartForConditionalGeneration were initialized from the model checkpoint at facebook/bart-large.\n",
      "If your task is similar to the task the model of the checkpoint was trained on, you can already use TFBartForConditionalGeneration for predictions without further training.\n"
     ]
    },
    {
     "name": "stdout",
     "output_type": "stream",
     "text": [
      "Some input text for summarization.\n"
     ]
    }
   ],
   "source": [
    "# ChatGPT : Please write the sample code using bart model in keras.\n",
    "# Sure, here's some sample code using the BART model in Keras:\n",
    "from transformers import BartTokenizer, TFBartForConditionalGeneration\n",
    "\n",
    "# Load the tokenizer and BART model\n",
    "tokenizer = BartTokenizer.from_pretrained('facebook/bart-large')\n",
    "model = TFBartForConditionalGeneration.from_pretrained('facebook/bart-large')\n",
    "\n",
    "# Define your input text and encode it using the tokenizer\n",
    "input_text = \"Some input text for summarization.\"\n",
    "input_ids = tokenizer.encode(input_text, return_tensors='tf')\n",
    "\n",
    "# Generate a summary using the BART model\n",
    "summary_ids = model.generate(input_ids)\n",
    "\n",
    "# Decode the summary and print it\n",
    "summary_text = tokenizer.decode(summary_ids[0], skip_special_tokens=True)\n",
    "print(summary_text)"
   ]
  },
  {
   "cell_type": "code",
   "execution_count": null,
   "id": "d956929d",
   "metadata": {},
   "outputs": [],
   "source": [
    "# ChatGPT : How to fine-tune the model in additinal to the above code?\n",
    "'''\n",
    "To fine-tune a BART model, you can follow the same approach as with any other transformer model. Here's a high-level overview of the steps:\n",
    "\n",
    "Load the pre-trained BART model using transformers.BartForConditionalGeneration.\n",
    "Prepare your data by tokenizing your text and converting it to input features that the model can process.\n",
    "Fine-tune the model on your task-specific data using Keras' model.fit method or custom training loop.\n",
    "Evaluate the fine-tuned model on a validation set to check its performance.\n",
    "Here's some sample code that fine-tunes a pre-trained BART model on a summarization task:\n",
    "'''\n",
    "import transformers\n",
    "import tensorflow as tf\n",
    "\n",
    "# Load pre-trained BART model\n",
    "model = transformers.BartForConditionalGeneration.from_pretrained('facebook/bart-large')\n",
    "\n",
    "# Prepare data\n",
    "tokenizer = transformers.BartTokenizer.from_pretrained('facebook/bart-large')\n",
    "\n",
    "train_texts = ['train text 1', 'train text 2', ...]\n",
    "train_summaries = ['train summary 1', 'train summary 2', ...]\n",
    "\n",
    "val_texts = ['val text 1', 'val text 2', ...]\n",
    "val_summaries = ['val summary 1', 'val summary 2', ...]\n",
    "\n",
    "max_length = 1024\n",
    "\n",
    "# Preparing the data by tokenizing the input and summary texts using transformers.\n",
    "# BartTokenizer and converting them to input features that the model can process.\n",
    "train_encodings = tokenizer(train_texts, train_summaries, truncation=True, max_length=max_length)\n",
    "val_encodings = tokenizer(val_texts, val_summaries, truncation=True, max_length=max_length)\n",
    "\n",
    "train_dataset = tf.data.Dataset.from_tensor_slices((\n",
    "    dict(train_encodings),\n",
    "    train_encodings['input_ids']\n",
    "))\n",
    "\n",
    "val_dataset = tf.data.Dataset.from_tensor_slices((\n",
    "    dict(val_encodings),\n",
    "    val_encodings['input_ids']\n",
    "))\n",
    "\n",
    "# Fine-tune the model\n",
    "optimizer = transformers.AdamW(model.parameters(), lr=1e-5)\n",
    "\n",
    "model.compile(optimizer=optimizer, loss=model.compute_loss, metrics=['accuracy'])\n",
    "\n",
    "model.fit(\n",
    "    train_dataset.shuffle(10000).batch(8), epochs=3, batch_size=16,\n",
    "    validation_data = val_dataset.shuffle(10000).batch(16),\n",
    ")\n",
    "\n",
    "# Evaluate the fine-tuned model\n",
    "model.evaluate(val_dataset.shuffle(10000).batch(16))\n",
    "\n",
    "# Save the model in HDF5 format\n",
    "model.save('fine_tuned_bart.h5')"
   ]
  },
  {
   "cell_type": "code",
   "execution_count": null,
   "id": "11847325",
   "metadata": {},
   "outputs": [],
   "source": [
    "# ChatGPT : How to get the predicted result in additinal to the above code?\n",
    "# To get the predicted results after fine-tuning the BART model in the above,\n",
    "# you can use the predict method of the Keras model. Here's an example:\n",
    "\n",
    "# Assume that you have fine-tuned the BART model and saved it as `fine_tuned_bart.h5`\n",
    "# Load the fine-tuned BART model\n",
    "model = TFBartForConditionalGeneration.from_pretrained('facebook/bart-large')\n",
    "model.load_model('fine_tuned_bart.h5')\n",
    "\n",
    "# Assume that you have a list of input texts named `input_texts`\n",
    "# Convert the input texts into features using the tokenizer\n",
    "inputs = tokenizer.batch_encode_plus(input_texts, return_tensors='tf', padding=True, truncation=True, max_length=512)\n",
    "\n",
    "# Get the model predictions\n",
    "outputs = model.generate(inputs['input_ids'], attention_mask=inputs['attention_mask'])\n",
    "\n",
    "# Decode the model predictions back into text\n",
    "output_texts = [tokenizer.decode(output, skip_special_tokens=True) for output in outputs]"
   ]
  }
 ],
 "metadata": {
  "kernelspec": {
   "display_name": "Python 3 (ipykernel)",
   "language": "python",
   "name": "python3"
  },
  "language_info": {
   "codemirror_mode": {
    "name": "ipython",
    "version": 3
   },
   "file_extension": ".py",
   "mimetype": "text/x-python",
   "name": "python",
   "nbconvert_exporter": "python",
   "pygments_lexer": "ipython3",
   "version": "3.9.12"
  }
 },
 "nbformat": 4,
 "nbformat_minor": 5
}
