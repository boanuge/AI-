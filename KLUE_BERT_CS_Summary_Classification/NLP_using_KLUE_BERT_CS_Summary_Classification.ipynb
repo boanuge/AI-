{
 "cells": [
  {
   "cell_type": "code",
   "execution_count": null,
   "id": "3b32818c",
   "metadata": {},
   "outputs": [],
   "source": [
    "# Execution Environment for KLUE-BERT\n",
    "# pip install tensorflow==2.7.0\n",
    "# pip install transformers==4.21.0\n",
    "# TensorFlow version: 2.7.0\n",
    "# Transformers version: 4.21.0\n",
    "import tensorflow as tf\n",
    "import transformers\n",
    "print(f\"TensorFlow version: {tf.__version__}\")\n",
    "print(f\"Transformers version: {transformers.__version__}\")"
   ]
  },
  {
   "cell_type": "code",
   "execution_count": 1,
   "id": "48fe9ad6",
   "metadata": {},
   "outputs": [
    {
     "name": "stdout",
     "output_type": "stream",
     "text": [
      "            labels\n",
      "count  4827.000000\n",
      "mean      0.532422\n",
      "std       0.706620\n",
      "min       0.000000\n",
      "25%       0.000000\n",
      "50%       0.000000\n",
      "75%       1.000000\n",
      "max       2.000000\n",
      "   labels                                          sentences\n",
      "0       0  Gran에 따르면, 그 회사는 회사가 성장하고 있는 곳이지만, 모든 생산을 러시아로...\n",
      "1       0  테크노폴리스는 컴퓨터 기술과 통신 분야에서 일하는 회사들을 유치하기 위해 10만 평...\n",
      "2       2  국제 전자산업 회사인 엘코텍은 탈린 공장에서 수십 명의 직원을 해고했으며, 이전의 ...\n",
      "3       1  새로운 생산공장으로 인해 회사는 예상되는 수요 증가를 충족시킬 수 있는 능력을 증가...\n",
      "4       1  2009-2012년 회사의 업데이트된 전략에 따르면, Basware는 20% - 4...\n",
      "총 샘플의수 : 4827\n",
      "미싱 데이터 : 0\n",
      "중복 데이터 : Empty DataFrame\n",
      "Columns: [labels, sentences]\n",
      "Index: []\n",
      "총 샘플의수(중복제거 후) : 4827\n"
     ]
    },
    {
     "data": {
      "text/plain": [
       "<AxesSubplot:>"
      ]
     },
     "execution_count": 1,
     "metadata": {},
     "output_type": "execute_result"
    },
    {
     "data": {
      "image/png": "[encoded data removed]",
      "text/plain": [
       "<Figure size 432x288 with 1 Axes>"
      ]
     },
     "metadata": {
      "needs_background": "light"
     },
     "output_type": "display_data"
    }
   ],
   "source": [
    "import pandas as pd\n",
    "\n",
    "# 고객문의 요약 데이터셋 : labels,sentences\n",
    "dataset = pd.read_csv(\"dataset_for_cs_summary_classification.csv\") # UTF-8 encoding\n",
    "print(dataset.describe())\n",
    "print(dataset.head())\n",
    "\n",
    "# 중복 데이터 확인 및 중복 데이터 제거\n",
    "print(\"총 샘플의수 :\", len(dataset))\n",
    "print(\"미싱 데이터 :\", dataset['labels'].isnull().sum()) # 미싱 검사\n",
    "print(\"중복 데이터 :\", dataset[dataset['sentences'].duplicated()]) # 중복 검사\n",
    "dataset.drop_duplicates(subset = ['sentences'], inplace = True) # 중복 제거\n",
    "\n",
    "print(\"총 샘플의수(중복제거 후) :\", len(dataset))\n",
    "dataset['labels'].value_counts().plot(kind = 'bar')"
   ]
  },
  {
   "cell_type": "code",
   "execution_count": 2,
   "id": "62b06033",
   "metadata": {},
   "outputs": [
    {
     "name": "stdout",
     "output_type": "stream",
     "text": [
      "학습용 입력 데이터 개수: 4344\n",
      "검증용 입력 데이터 개수: 483\n"
     ]
    }
   ],
   "source": [
    "from sklearn.model_selection import train_test_split\n",
    "\n",
    "# 데이터셋 분리 : 학습용 및 검증용\n",
    "dataset_sentences = dataset['sentences'].tolist()\n",
    "dataset_labels = dataset['labels'].tolist()\n",
    "\n",
    "TEST_SIZE = 0.1 # 10% of the dataset\n",
    "RANDOM_STATE = 1234\n",
    "train_x, test_x, train_y, test_y = train_test_split(dataset_sentences, dataset_labels, \n",
    "                                                    test_size = TEST_SIZE, \n",
    "                                                    random_state = RANDOM_STATE, \n",
    "                                                    stratify = dataset_labels)\n",
    "print(f\"학습용 입력 데이터 개수: {len(train_x)}\")\n",
    "print(f\"검증용 입력 데이터 개수: {len(test_x)}\")"
   ]
  },
  {
   "cell_type": "code",
   "execution_count": 5,
   "id": "a6959a8a",
   "metadata": {},
   "outputs": [
    {
     "name": "stdout",
     "output_type": "stream",
     "text": [
      "<TensorSliceDataset shapes: ({input_ids: (120,), token_type_ids: (120,), attention_mask: (120,)}, ()), types: ({input_ids: tf.int32, token_type_ids: tf.int32, attention_mask: tf.int32}, tf.int32)>\n",
      "<TensorSliceDataset shapes: ({input_ids: (84,), token_type_ids: (84,), attention_mask: (84,)}, ()), types: ({input_ids: tf.int32, token_type_ids: tf.int32, attention_mask: tf.int32}, tf.int32)>\n"
     ]
    }
   ],
   "source": [
    "import tensorflow as tf\n",
    "from transformers import BertTokenizerFast\n",
    "\n",
    "tokenizer = BertTokenizerFast.from_pretrained(\"klue/bert-base\")\n",
    "tokenized_train_x = tokenizer(train_x, truncation=True, padding=True)\n",
    "tokenized_test_x = tokenizer(test_x, truncation=True, padding=True)\n",
    "\n",
    "dataset_for_train = tf.data.Dataset.from_tensor_slices((\n",
    "    dict(tokenized_train_x),\n",
    "    train_y\n",
    "))\n",
    "print(dataset_for_train)\n",
    "\n",
    "dataset_for_test = tf.data.Dataset.from_tensor_slices((\n",
    "    dict(tokenized_test_x),\n",
    "    test_y\n",
    "))\n",
    "print(dataset_for_test)"
   ]
  },
  {
   "cell_type": "code",
   "execution_count": 14,
   "id": "d782bdb4",
   "metadata": {
    "scrolled": true
   },
   "outputs": [
    {
     "name": "stderr",
     "output_type": "stream",
     "text": [
      "Some weights of the PyTorch model were not used when initializing the TF 2.0 model TFBertForSequenceClassification: ['bert.embeddings.position_ids']\n",
      "- This IS expected if you are initializing TFBertForSequenceClassification from a PyTorch model trained on another task or with another architecture (e.g. initializing a TFBertForSequenceClassification model from a BertForPreTraining model).\n",
      "- This IS NOT expected if you are initializing TFBertForSequenceClassification from a PyTorch model that you expect to be exactly identical (e.g. initializing a TFBertForSequenceClassification model from a BertForSequenceClassification model).\n",
      "Some weights or buffers of the TF 2.0 model TFBertForSequenceClassification were not initialized from the PyTorch model and are newly initialized: ['classifier.weight', 'classifier.bias']\n",
      "You should probably TRAIN this model on a down-stream task to be able to use it for predictions and inference.\n"
     ]
    },
    {
     "name": "stdout",
     "output_type": "stream",
     "text": [
      "543/543 [==============================] - 3850s 7s/step - loss: 1.1409 - accuracy: 0.1998 - val_loss: 1.0986 - val_accuracy: 0.1366\n",
      "1/1 [==============================] - 77s 77s/step - loss: 1.0986 - accuracy: 0.1366\n"
     ]
    },
    {
     "data": {
      "text/plain": [
       "[1.098612666130066, 0.13664595782756805]"
      ]
     },
     "execution_count": 14,
     "metadata": {},
     "output_type": "execute_result"
    }
   ],
   "source": [
    "# 모델 학습\n",
    "\n",
    "from transformers import TFBertForSequenceClassification\n",
    "\n",
    "batch_size = 16 # 약 2GB 메모리사용\n",
    "epochs = 1\n",
    "\n",
    "optimizer = tf.keras.optimizers.Adam(learning_rate=5e-5)\n",
    "\n",
    "model = TFBertForSequenceClassification.from_pretrained(\"klue/bert-base\", num_labels=3, from_pt=True)\n",
    "model.compile(optimizer=optimizer, loss=tf.keras.losses.SparseCategoricalCrossentropy(), metrics=[\"accuracy\"])\n",
    "\n",
    "history = model.fit(dataset_for_train.shuffle(2000).batch(8),\n",
    "                    validation_data=dataset_for_test.shuffle(2000).batch(8),\n",
    "                    batch_size=batch_size, epochs=epochs, verbose=1)\n",
    "\n",
    "model.evaluate(dataset_for_test.batch(1024))\n",
    "\n",
    "# 모델 저장\n",
    "\n",
    "model.save_pretrained(\"output/finetuned-klue-bert-for-cs-summary-classification\")\n",
    "tokenizer.save_pretrained(\"output/finetuned-klue-bert-for-cs-summary-classification\")"
   ]
  },
  {
   "cell_type": "code",
   "execution_count": 16,
   "id": "0937d373",
   "metadata": {},
   "outputs": [
    {
     "name": "stdout",
     "output_type": "stream",
     "text": [
      "dict_keys(['loss', 'accuracy', 'val_loss', 'val_accuracy'])\n"
     ]
    },
    {
     "data": {
      "text/plain": [
       "<matplotlib.legend.Legend at 0x17b8087e700>"
      ]
     },
     "execution_count": 16,
     "metadata": {},
     "output_type": "execute_result"
    },
    {
     "data": {
      "image/png": "[encoded data removed]",
      "text/plain": [
       "<Figure size 432x288 with 1 Axes>"
      ]
     },
     "metadata": {
      "needs_background": "light"
     },
     "output_type": "display_data"
    }
   ],
   "source": [
    "import matplotlib.pyplot as plt\n",
    "\n",
    "print(history.history.keys())\n",
    "loss = history.history['loss']\n",
    "val_loss = history.history['val_loss']\n",
    "epochs = range(1, len(loss) + 1)\n",
    "\n",
    "# bo = 파란색 점\n",
    "plt.plot(epochs, loss, 'bo', label='Training loss')\n",
    "# b = 파란색 실선\n",
    "plt.plot(epochs, val_loss, 'b', label='Validation val_loss')\n",
    "plt.title('Training and validation loss')\n",
    "plt.xlabel('Epochs')\n",
    "plt.ylabel('Loss')\n",
    "plt.legend()"
   ]
  },
  {
   "cell_type": "code",
   "execution_count": 1,
   "id": "ef521162",
   "metadata": {
    "scrolled": false
   },
   "outputs": [
    {
     "name": "stderr",
     "output_type": "stream",
     "text": [
      "Some layers from the model checkpoint at output/finetuned-klue-bert-for-cs-summary-classification were not used when initializing TFBertForSequenceClassification: ['dropout_189']\n",
      "- This IS expected if you are initializing TFBertForSequenceClassification from the checkpoint of a model trained on another task or with another architecture (e.g. initializing a BertForSequenceClassification model from a BertForPreTraining model).\n",
      "- This IS NOT expected if you are initializing TFBertForSequenceClassification from the checkpoint of a model that you expect to be exactly identical (initializing a BertForSequenceClassification model from a BertForSequenceClassification model).\n",
      "All the layers of TFBertForSequenceClassification were initialized from the model checkpoint at output/finetuned-klue-bert-for-cs-summary-classification.\n",
      "If your task is similar to the task the model of the checkpoint was trained on, you can already use TFBertForSequenceClassification for predictions without further training.\n",
      "C:\\ProgramData\\Anaconda3\\lib\\site-packages\\transformers\\pipelines\\text_classification.py:89: UserWarning: `return_all_scores` is now deprecated, use `top_k=1` if you want similar functionnality\n",
      "  warnings.warn(\n"
     ]
    },
    {
     "name": "stdout",
     "output_type": "stream",
     "text": [
      "[[{'label': 'LABEL_0', 'score': 0.38505589962005615}, {'label': 'LABEL_1', 'score': 0.1275479644536972}, {'label': 'LABEL_2', 'score': 0.48739612102508545}]]\n",
      "Negative\n",
      "Time duration(in seconds): 0.2265831000000027\n"
     ]
    }
   ],
   "source": [
    "# 모델 로드 및 테스트\n",
    "\n",
    "import numpy as np\n",
    "from transformers import BertTokenizerFast\n",
    "from transformers import TFBertForSequenceClassification\n",
    "from transformers import TextClassificationPipeline\n",
    "from timeit import default_timer\n",
    "\n",
    "loaded_tokenizer = BertTokenizerFast.from_pretrained(\"output/finetuned-klue-bert-for-cs-summary-classification\")\n",
    "loaded_model = TFBertForSequenceClassification.from_pretrained(\"output/finetuned-klue-bert-for-cs-summary-classification\")\n",
    "\n",
    "text_classifier = TextClassificationPipeline(\n",
    "    tokenizer=loaded_tokenizer, \n",
    "    model=loaded_model, \n",
    "    framework=\"tf\",\n",
    "    return_all_scores=True\n",
    ")\n",
    "\n",
    "start = default_timer()\n",
    "\n",
    "predicted_result = text_classifier(\"서비스 나빠요.\")\n",
    "print(predicted_result)\n",
    "\n",
    "# Get the predicted label name\n",
    "label_map = {0: \"Neutral\", 1: \"Positive\", 2: \"Negative\"}\n",
    "\n",
    "predicted_label_scores = []\n",
    "for prediction_item in predicted_result:\n",
    "    for prediction_dict in prediction_item:\n",
    "        predicted_label_scores.append(prediction_dict[\"score\"])\n",
    "    predicted_label_id = np.argmax(predicted_label_scores)\n",
    "    predicted_label_name = label_map[predicted_label_id]\n",
    "\n",
    "print(predicted_label_name)\n",
    "\n",
    "end = default_timer()\n",
    "print(\"Time duration(in seconds):\", end - start)"
   ]
  },
  {
   "cell_type": "code",
   "execution_count": 1,
   "id": "3e7dec4f",
   "metadata": {},
   "outputs": [
    {
     "name": "stdout",
     "output_type": "stream",
     "text": [
      "Current date and time:  2023-03-14 08:18:24.731730\n"
     ]
    }
   ],
   "source": [
    "# Print the current date and time in the format:\n",
    "# \"YYYY-MM-DD HH:MM:SS.microseconds\"\n",
    "import datetime\n",
    "datetime_string = datetime.datetime.now().strftime(\"%Y-%m-%d %H:%M:%S.%f\")\n",
    "print(\"Current date and time: \", datetime_string)"
   ]
  }
 ],
 "metadata": {
  "kernelspec": {
   "display_name": "Python 3 (ipykernel)",
   "language": "python",
   "name": "python3"
  },
  "language_info": {
   "codemirror_mode": {
    "name": "ipython",
    "version": 3
   },
   "file_extension": ".py",
   "mimetype": "text/x-python",
   "name": "python",
   "nbconvert_exporter": "python",
   "pygments_lexer": "ipython3",
   "version": "3.9.12"
  }
 },
 "nbformat": 4,
 "nbformat_minor": 5
}
