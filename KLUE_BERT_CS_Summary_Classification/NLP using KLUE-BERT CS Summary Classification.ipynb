{
 "cells": [
  {
   "cell_type": "code",
   "execution_count": 1,
   "id": "3b32818c",
   "metadata": {},
   "outputs": [
    {
     "name": "stderr",
     "output_type": "stream",
     "text": [
      "2023-04-26 08:11:45.458844: I tensorflow/core/platform/cpu_feature_guard.cc:193] This TensorFlow binary is optimized with oneAPI Deep Neural Network Library (oneDNN) to use the following CPU instructions in performance-critical operations:  AVX2 AVX512F FMA\n",
      "To enable them in other operations, rebuild TensorFlow with the appropriate compiler flags.\n",
      "2023-04-26 08:11:46.422298: W tensorflow/stream_executor/platform/default/dso_loader.cc:64] Could not load dynamic library 'libcudart.so.11.0'; dlerror: libcudart.so.11.0: cannot open shared object file: No such file or directory\n",
      "2023-04-26 08:11:46.422323: I tensorflow/stream_executor/cuda/cudart_stub.cc:29] Ignore above cudart dlerror if you do not have a GPU set up on your machine.\n",
      "2023-04-26 08:11:46.497908: E tensorflow/stream_executor/cuda/cuda_blas.cc:2981] Unable to register cuBLAS factory: Attempting to register factory for plugin cuBLAS when one has already been registered\n",
      "2023-04-26 08:11:48.499052: W tensorflow/stream_executor/platform/default/dso_loader.cc:64] Could not load dynamic library 'libnvinfer.so.7'; dlerror: libnvinfer.so.7: cannot open shared object file: No such file or directory\n",
      "2023-04-26 08:11:48.499131: W tensorflow/stream_executor/platform/default/dso_loader.cc:64] Could not load dynamic library 'libnvinfer_plugin.so.7'; dlerror: libnvinfer_plugin.so.7: cannot open shared object file: No such file or directory\n",
      "2023-04-26 08:11:48.499139: W tensorflow/compiler/tf2tensorrt/utils/py_utils.cc:38] TF-TRT Warning: Cannot dlopen some TensorRT libraries. If you would like to use Nvidia GPU with TensorRT, please make sure the missing libraries mentioned above are installed properly.\n"
     ]
    },
    {
     "name": "stdout",
     "output_type": "stream",
     "text": [
      "TensorFlow version: 2.10.0\n",
      "Transformers version: 4.21.0\n"
     ]
    }
   ],
   "source": [
    "# Execution Environment for KLUE-BERT\n",
    "# pip install tensorflow==2.10.0\n",
    "# pip install transformers==4.21.0\n",
    "# TensorFlow version: 2.10.0\n",
    "# Transformers version: 4.21.0\n",
    "import tensorflow as tf\n",
    "import transformers\n",
    "print(f\"TensorFlow version: {tf.__version__}\")\n",
    "print(f\"Transformers version: {transformers.__version__}\")"
   ]
  },
  {
   "cell_type": "code",
   "execution_count": 2,
   "id": "48fe9ad6",
   "metadata": {},
   "outputs": [
    {
     "name": "stdout",
     "output_type": "stream",
     "text": [
      "            labels\n",
      "count  4827.000000\n",
      "mean      0.532422\n",
      "std       0.706620\n",
      "min       0.000000\n",
      "25%       0.000000\n",
      "50%       0.000000\n",
      "75%       1.000000\n",
      "max       2.000000\n",
      "   labels                                          sentences\n",
      "0       0  Gran에 따르면, 그 회사는 회사가 성장하고 있는 곳이지만, 모든 생산을 러시아로...\n",
      "1       0  테크노폴리스는 컴퓨터 기술과 통신 분야에서 일하는 회사들을 유치하기 위해 10만 평...\n",
      "2       2  국제 전자산업 회사인 엘코텍은 탈린 공장에서 수십 명의 직원을 해고했으며, 이전의 ...\n",
      "3       1  새로운 생산공장으로 인해 회사는 예상되는 수요 증가를 충족시킬 수 있는 능력을 증가...\n",
      "4       1  2009-2012년 회사의 업데이트된 전략에 따르면, Basware는 20% - 4...\n",
      "총 샘플의수: 4827\n",
      "미싱 데이터: 0\n",
      "중복 데이터: Empty DataFrame\n",
      "Columns: [labels, sentences]\n",
      "Index: []\n",
      "총 샘플의수(중복제거 후): 4827\n"
     ]
    },
    {
     "data": {
      "text/plain": [
       "<AxesSubplot:>"
      ]
     },
     "execution_count": 3,
     "metadata": {},
     "output_type": "execute_result"
    },
    {
     "data": {
      "image/png": "[encoded data removed]",
      "text/plain": [
       "<Figure size 432x288 with 1 Axes>"
      ]
     },
     "metadata": {
      "needs_background": "light"
     },
     "output_type": "display_data"
    }
   ],
   "source": [
    "import pandas as pd\n",
    "\n",
    "# 데이터셋 요약: labels(0/1/2),sentences\n",
    "dataset = pd.read_csv(\"dataset_for_cs_summary_classification.csv\") # UTF-8 encoding\n",
    "print(dataset.describe())\n",
    "print(dataset.head())\n",
    "\n",
    "# 중복 데이터 확인 및 중복 데이터 제거\n",
    "print(\"총 샘플의수:\", len(dataset))\n",
    "print(\"미싱 데이터:\", dataset['labels'].isnull().sum()) # 미싱 검사\n",
    "print(\"중복 데이터:\", dataset[dataset['sentences'].duplicated()]) # 중복 검사\n",
    "dataset.drop_duplicates(subset = ['sentences'], inplace = True) # 중복 제거\n",
    "print(\"총 샘플의수(중복제거 후):\", len(dataset))\n",
    "dataset['labels'].value_counts().plot(kind = 'bar')"
   ]
  },
  {
   "cell_type": "code",
   "execution_count": 4,
   "id": "62b06033",
   "metadata": {},
   "outputs": [
    {
     "name": "stdout",
     "output_type": "stream",
     "text": [
      "학습용 입력 데이터 개수: 4344\n",
      "검증용 입력 데이터 개수: 483\n"
     ]
    }
   ],
   "source": [
    "from sklearn.model_selection import train_test_split\n",
    "\n",
    "# 데이터셋 분리: 학습용 및 검증용\n",
    "dataset_sentences = dataset['sentences'].tolist()\n",
    "dataset_labels = dataset['labels'].tolist()\n",
    "\n",
    "TEST_SIZE = 0.1 # 10% of the dataset\n",
    "RANDOM_STATE = 1234\n",
    "train_x, test_x, train_y, test_y = train_test_split(dataset_sentences, dataset_labels, \n",
    "                                                    test_size = TEST_SIZE, \n",
    "                                                    random_state = RANDOM_STATE, \n",
    "                                                    stratify = dataset_labels) # balancing labels(0/1/2)\n",
    "'''\n",
    "In the above code, stratify = dataset_labels means that the data will be split in such a way\n",
    "that the target variable dataset_labels will have the same proportion of classes\n",
    "in both the training and testing datasets as it has in the original dataset.\n",
    "This is useful when the dataset is imbalanced,\n",
    "i.e., one class has significantly fewer samples than the other classes.\n",
    "'''\n",
    "print(f\"학습용 입력 데이터 개수: {len(train_x)}\")\n",
    "print(f\"검증용 입력 데이터 개수: {len(test_x)}\")"
   ]
  },
  {
   "cell_type": "code",
   "execution_count": 5,
   "id": "d782bdb4",
   "metadata": {
    "scrolled": false
   },
   "outputs": [
    {
     "data": {
      "application/vnd.jupyter.widget-view+json": {
       "model_id": "546de07c257c4edbbaa5eadcb34319f7",
       "version_major": 2,
       "version_minor": 0
      },
      "text/plain": [
       "Downloading tokenizer_config.json:   0%|          | 0.00/289 [00:00<?, ?B/s]"
      ]
     },
     "metadata": {},
     "output_type": "display_data"
    },
    {
     "data": {
      "application/vnd.jupyter.widget-view+json": {
       "model_id": "88e3ca03c24544448491b85c493fa0da",
       "version_major": 2,
       "version_minor": 0
      },
      "text/plain": [
       "Downloading vocab.txt:   0%|          | 0.00/243k [00:00<?, ?B/s]"
      ]
     },
     "metadata": {},
     "output_type": "display_data"
    },
    {
     "data": {
      "application/vnd.jupyter.widget-view+json": {
       "model_id": "269e4235c85140c38007e770df7d3f10",
       "version_major": 2,
       "version_minor": 0
      },
      "text/plain": [
       "Downloading tokenizer.json:   0%|          | 0.00/483k [00:00<?, ?B/s]"
      ]
     },
     "metadata": {},
     "output_type": "display_data"
    },
    {
     "data": {
      "application/vnd.jupyter.widget-view+json": {
       "model_id": "657081687f9b440ea16bc9d26867f7a5",
       "version_major": 2,
       "version_minor": 0
      },
      "text/plain": [
       "Downloading special_tokens_map.json:   0%|          | 0.00/125 [00:00<?, ?B/s]"
      ]
     },
     "metadata": {},
     "output_type": "display_data"
    },
    {
     "data": {
      "application/vnd.jupyter.widget-view+json": {
       "model_id": "d37f8c1fbad2439bb9b6a7cd7f7ef718",
       "version_major": 2,
       "version_minor": 0
      },
      "text/plain": [
       "Downloading config.json:   0%|          | 0.00/425 [00:00<?, ?B/s]"
      ]
     },
     "metadata": {},
     "output_type": "display_data"
    },
    {
     "name": "stderr",
     "output_type": "stream",
     "text": [
      "2023-04-26 08:55:44.012770: W tensorflow/stream_executor/platform/default/dso_loader.cc:64] Could not load dynamic library 'libcuda.so.1'; dlerror: libcuda.so.1: cannot open shared object file: No such file or directory\n",
      "2023-04-26 08:55:44.012815: W tensorflow/stream_executor/cuda/cuda_driver.cc:263] failed call to cuInit: UNKNOWN ERROR (303)\n",
      "2023-04-26 08:55:44.012839: I tensorflow/stream_executor/cuda/cuda_diagnostics.cc:156] kernel driver does not appear to be running on this host (ip-10-255-120-161): /proc/driver/nvidia/version does not exist\n",
      "2023-04-26 08:55:44.013190: I tensorflow/core/platform/cpu_feature_guard.cc:193] This TensorFlow binary is optimized with oneAPI Deep Neural Network Library (oneDNN) to use the following CPU instructions in performance-critical operations:  AVX2 AVX512F FMA\n",
      "To enable them in other operations, rebuild TensorFlow with the appropriate compiler flags.\n"
     ]
    },
    {
     "data": {
      "application/vnd.jupyter.widget-view+json": {
       "model_id": "6667fce0134c482cac091c120965c127",
       "version_major": 2,
       "version_minor": 0
      },
      "text/plain": [
       "Downloading pytorch_model.bin:   0%|          | 0.00/424M [00:00<?, ?B/s]"
      ]
     },
     "metadata": {},
     "output_type": "display_data"
    },
    {
     "name": "stderr",
     "output_type": "stream",
     "text": [
      "Some weights of the PyTorch model were not used when initializing the TF 2.0 model TFBertForSequenceClassification: ['bert.embeddings.position_ids']\n",
      "- This IS expected if you are initializing TFBertForSequenceClassification from a PyTorch model trained on another task or with another architecture (e.g. initializing a TFBertForSequenceClassification model from a BertForPreTraining model).\n",
      "- This IS NOT expected if you are initializing TFBertForSequenceClassification from a PyTorch model that you expect to be exactly identical (e.g. initializing a TFBertForSequenceClassification model from a BertForSequenceClassification model).\n",
      "Some weights or buffers of the TF 2.0 model TFBertForSequenceClassification were not initialized from the PyTorch model and are newly initialized: ['classifier.weight', 'classifier.bias']\n",
      "You should probably TRAIN this model on a down-stream task to be able to use it for predictions and inference.\n"
     ]
    },
    {
     "name": "stdout",
     "output_type": "stream",
     "text": [
      "Epoch 1/4\n",
      "543/543 [==============================] - 1025s 2s/step - loss: 1.5935 - accuracy: 0.5343 - val_loss: 1.0986 - val_accuracy: 0.5921\n",
      "Epoch 2/4\n",
      "543/543 [==============================] - 1003s 2s/step - loss: 1.0986 - accuracy: 0.5928 - val_loss: 1.0986 - val_accuracy: 0.5921\n",
      "Epoch 3/4\n",
      "543/543 [==============================] - 1002s 2s/step - loss: 1.0986 - accuracy: 0.5928 - val_loss: 1.0986 - val_accuracy: 0.5921\n",
      "Epoch 4/4\n",
      "543/543 [==============================] - 1002s 2s/step - loss: 1.0986 - accuracy: 0.5925 - val_loss: 1.0986 - val_accuracy: 0.5921\n",
      "31/31 [==============================] - 20s 659ms/step - loss: 1.0986 - accuracy: 0.5921\n"
     ]
    },
    {
     "data": {
      "text/plain": [
       "('output/finetuned-klue-bert-for-cs-summary-classification/tokenizer_config.json',\n",
       " 'output/finetuned-klue-bert-for-cs-summary-classification/special_tokens_map.json',\n",
       " 'output/finetuned-klue-bert-for-cs-summary-classification/vocab.txt',\n",
       " 'output/finetuned-klue-bert-for-cs-summary-classification/added_tokens.json',\n",
       " 'output/finetuned-klue-bert-for-cs-summary-classification/tokenizer.json')"
      ]
     },
     "execution_count": 6,
     "metadata": {},
     "output_type": "execute_result"
    }
   ],
   "source": [
    "import tensorflow as tf\n",
    "from transformers import BertTokenizerFast, TFBertForSequenceClassification\n",
    "\n",
    "# Tokenize the input sentences\n",
    "tokenizer = BertTokenizerFast.from_pretrained(\"klue/bert-base\")\n",
    "train_x_tokenized = tokenizer(train_x, truncation=True, padding=True)\n",
    "test_x_tokenized = tokenizer(test_x, truncation=True, padding=True)\n",
    "\n",
    "dataset_for_train = tf.data.Dataset.from_tensor_slices((\n",
    "    dict(train_x_tokenized),\n",
    "    train_y))\n",
    "\n",
    "dataset_for_test = tf.data.Dataset.from_tensor_slices((\n",
    "    dict(test_x_tokenized),\n",
    "    test_y))\n",
    "\n",
    "# Train the model\n",
    "batch_size = 16 # 약 6GB 메모리사용\n",
    "epochs = 4\n",
    "\n",
    "optimizer = tf.keras.optimizers.Adam(learning_rate=5e-5)\n",
    "\n",
    "model = TFBertForSequenceClassification.from_pretrained(\"klue/bert-base\", num_labels=3, from_pt=True) # labels(0/1/2)\n",
    "model.compile(optimizer=optimizer, loss=tf.keras.losses.SparseCategoricalCrossentropy(), metrics=[\"accuracy\"])\n",
    "\n",
    "history = model.fit(dataset_for_train.shuffle(1024).batch(8),\n",
    "                    validation_data=dataset_for_test.shuffle(1024).batch(8), # 데이터양에 따라 버퍼사이즈 조절필요\n",
    "                    batch_size=batch_size, epochs=epochs, verbose=1)\n",
    "\n",
    "# Save the model\n",
    "model.save_pretrained(\"output/finetuned-klue-bert-for-cs-summary-classification\")\n",
    "tokenizer.save_pretrained(\"output/finetuned-klue-bert-for-cs-summary-classification\")"
   ]
  },
  {
   "cell_type": "code",
   "execution_count": 7,
   "id": "0937d373",
   "metadata": {},
   "outputs": [
    {
     "name": "stdout",
     "output_type": "stream",
     "text": [
      "dict_keys(['loss', 'accuracy', 'val_loss', 'val_accuracy'])\n"
     ]
    },
    {
     "data": {
      "text/plain": [
       "<matplotlib.legend.Legend at 0x7f744d3f88b0>"
      ]
     },
     "execution_count": 8,
     "metadata": {},
     "output_type": "execute_result"
    },
    {
     "data": {
      "image/png": "[encoded data removed]",
      "text/plain": [
       "<Figure size 432x288 with 1 Axes>"
      ]
     },
     "metadata": {
      "needs_background": "light"
     },
     "output_type": "display_data"
    }
   ],
   "source": [
    "import matplotlib.pyplot as plt\n",
    "\n",
    "print(history.history.keys())\n",
    "loss = history.history['loss']\n",
    "val_loss = history.history['val_loss']\n",
    "epochs = range(1, len(loss) + 1)\n",
    "\n",
    "# bo = 파란색 점\n",
    "plt.plot(epochs, loss, 'bo', label='Training loss')\n",
    "# b = 파란색 실선\n",
    "plt.plot(epochs, val_loss, 'b', label='Validation val_loss')\n",
    "plt.title('Training and validation loss')\n",
    "plt.xlabel('Epochs')\n",
    "plt.ylabel('Loss')\n",
    "plt.legend()"
   ]
  },
  {
   "cell_type": "code",
   "execution_count": 9,
   "id": "ef521162",
   "metadata": {
    "scrolled": false
   },
   "outputs": [
    {
     "name": "stdout",
     "output_type": "stream",
     "text": [
      "모델 로딩 @ CDT(2023-04-26T10:03:25.537688)\n"
     ]
    },
    {
     "name": "stderr",
     "output_type": "stream",
     "text": [
      "Some layers from the model checkpoint at output/finetuned-klue-bert-for-cs-summary-classification were not used when initializing TFBertForSequenceClassification: ['dropout_37']\n",
      "- This IS expected if you are initializing TFBertForSequenceClassification from the checkpoint of a model trained on another task or with another architecture (e.g. initializing a BertForSequenceClassification model from a BertForPreTraining model).\n",
      "- This IS NOT expected if you are initializing TFBertForSequenceClassification from the checkpoint of a model that you expect to be exactly identical (initializing a BertForSequenceClassification model from a BertForSequenceClassification model).\n",
      "All the layers of TFBertForSequenceClassification were initialized from the model checkpoint at output/finetuned-klue-bert-for-cs-summary-classification.\n",
      "If your task is similar to the task the model of the checkpoint was trained on, you can already use TFBertForSequenceClassification for predictions without further training.\n",
      "/home/gbike/anaconda3/lib/python3.9/site-packages/transformers/pipelines/text_classification.py:89: UserWarning: `return_all_scores` is now deprecated, use `top_k=1` if you want similar functionnality\n",
      "  warnings.warn(\n"
     ]
    },
    {
     "name": "stdout",
     "output_type": "stream",
     "text": [
      "모델 테스트 @ CDT(2023-04-26T10:03:27.248538)\n",
      "[[{'label': 'LABEL_0', 'score': 0.5116426348686218}, {'label': 'LABEL_1', 'score': 0.2741449177265167}, {'label': 'LABEL_2', 'score': 0.21421246230602264}]]\n",
      "Neutral\n",
      "Time duration(in seconds): 0.20727669401094317\n"
     ]
    }
   ],
   "source": [
    "# Print the current date and time in the format:\n",
    "# \"YYYY-MM-DD HH:MM:SS.microseconds\"\n",
    "import datetime\n",
    "def print_current_datetime(text=\"\"):\n",
    "    datetime_string = datetime.datetime.now().strftime(\"%Y-%m-%dT%H:%M:%S.%f\")\n",
    "    print(\"{} @ CDT({})\".format(text,datetime_string))\n",
    "\n",
    "# 모델 및 토크나이저 로딩 및 테스트\n",
    "import numpy as np\n",
    "from transformers import BertTokenizerFast\n",
    "from transformers import TFBertForSequenceClassification\n",
    "from transformers import TextClassificationPipeline\n",
    "from timeit import default_timer\n",
    "\n",
    "print_current_datetime(\"모델 로딩\")\n",
    "\n",
    "tokenizer_loaded = BertTokenizerFast.from_pretrained(\"output/finetuned-klue-bert-for-cs-summary-classification\")\n",
    "model_loaded = TFBertForSequenceClassification.from_pretrained(\"output/finetuned-klue-bert-for-cs-summary-classification\")\n",
    "\n",
    "text_classifier = TextClassificationPipeline(\n",
    "    tokenizer=tokenizer_loaded, \n",
    "    model=model_loaded, \n",
    "    framework=\"tf\",\n",
    "    return_all_scores=True)\n",
    "\n",
    "print_current_datetime(\"모델 테스트\")\n",
    "\n",
    "start = default_timer()\n",
    "predicted_result = text_classifier(\"왜 타는도중에 꺼지는건지 이해가 안되네요. 걸어가는 사이에도 돈은 다 받아먹네요.\")\n",
    "print(predicted_result)\n",
    "\n",
    "# 분류예측 결과로부터 라벨이름 맵핑\n",
    "label_map = {0: \"Neutral\", 1: \"Positive\", 2: \"Negative\"}\n",
    "\n",
    "predicted_label_scores = []\n",
    "for prediction_item in predicted_result:\n",
    "    for prediction_dict in prediction_item:\n",
    "        predicted_label_scores.append(prediction_dict[\"score\"])\n",
    "    predicted_label_id = np.argmax(predicted_label_scores)\n",
    "    predicted_label_name = label_map[predicted_label_id]\n",
    "print(predicted_label_name)\n",
    "\n",
    "end = default_timer()\n",
    "print(\"Time duration(in seconds):\", end - start)"
   ]
  }
 ],
 "metadata": {
  "kernelspec": {
   "display_name": "Python 3 (ipykernel)",
   "language": "python",
   "name": "python3"
  },
  "language_info": {
   "codemirror_mode": {
    "name": "ipython",
    "version": 3
   },
   "file_extension": ".py",
   "mimetype": "text/x-python",
   "name": "python",
   "nbconvert_exporter": "python",
   "pygments_lexer": "ipython3",
   "version": "3.9.7"
  }
 },
 "nbformat": 4,
 "nbformat_minor": 5
}
